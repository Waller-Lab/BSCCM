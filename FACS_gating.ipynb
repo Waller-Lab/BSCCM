{
 "cells": [
  {
   "cell_type": "code",
   "execution_count": 3,
   "metadata": {},
   "outputs": [
    {
     "name": "stdout",
     "output_type": "stream",
     "text": [
      "The autoreload extension is already loaded. To reload it, use:\n",
      "  %reload_ext autoreload\n"
     ]
    }
   ],
   "source": [
    "%matplotlib widget\n",
    "%load_ext autoreload\n",
    "%autoreload 2\n",
    "\n",
    "import numpy as np\n",
    "from bsbcm import BSBCM\n",
    "import matplotlib.pyplot as plt\n",
    "\n",
    "dataset = BSBCM('/home/ubuntu/leukosight_data/')"
   ]
  },
  {
   "cell_type": "code",
   "execution_count": 4,
   "metadata": {},
   "outputs": [
    {
     "data": {
      "application/vnd.jupyter.widget-view+json": {
       "model_id": "794d574e11b24e52862ea735dff420c3",
       "version_major": 2,
       "version_minor": 0
      },
      "text/plain": [
       "Canvas(toolbar=Toolbar(toolitems=[('Home', 'Reset original view', 'home', 'home'), ('Back', 'Back to previous …"
      ]
     },
     "metadata": {},
     "output_type": "display_data"
    }
   ],
   "source": [
    "img_fig = plt.figure(figsize=(5,5))"
   ]
  },
  {
   "cell_type": "code",
   "execution_count": 7,
   "metadata": {},
   "outputs": [
    {
     "data": {
      "application/vnd.jupyter.widget-view+json": {
       "model_id": "cbda4f3b65284d33a9203876f3b72e97",
       "version_major": 2,
       "version_minor": 0
      },
      "text/plain": [
       "Canvas(toolbar=Toolbar(toolitems=[('Home', 'Reset original view', 'home', 'home'), ('Back', 'Back to previous …"
      ]
     },
     "metadata": {},
     "output_type": "display_data"
    },
    {
     "data": {
      "application/vnd.jupyter.widget-view+json": {
       "model_id": "e9243cd492834d449f3fa55ede8ba76b",
       "version_major": 2,
       "version_minor": 0
      },
      "text/plain": [
       "interactive(children=(ToggleButtons(description='Plot_index', options=(), value=None), ToggleButtons(descripti…"
      ]
     },
     "metadata": {},
     "output_type": "display_data"
    }
   ],
   "source": [
    "from facs_util import ScatterSelectorGating\n",
    "\n",
    "# Which unmixing strategy should be used?\n",
    "\n",
    "# prefix = 'unmixed_0+2_'\n",
    "# prefix = 'unmixed_1+2_'\n",
    "prefix = 'unmixed_6+2uniform_'\n",
    "# prefix = 'unmixed_6+2noreg_'\n",
    "# prefix = 'unmixed_6+2mean_autofluor_'\n",
    "# prefix = 'unmixed_6+0uniform_'\n",
    "# prefix = 'unmixed_6+0noreg_'\n",
    "\n",
    "channel_names = ['CD123', 'CD3/CD19/CD56',\n",
    "       'HLA-DR', 'CD45', 'CD14', 'CD16', 'autofluor_1', 'autofluor_2']\n",
    "unmixed_channel_names = [prefix + ch for ch in channel_names]\n",
    "\n",
    "indices = dataset.get_indices(marker='all', batch=1, replicate=1)\n",
    "data = dataset.dataframe[unmixed_channel_names].to_numpy()\n",
    " #Add globals to class\n",
    "ssg = ScatterSelectorGating(indices, data, channel_names, dataset, img_fig)\n"
   ]
  }
 ],
 "metadata": {
  "kernelspec": {
   "display_name": "Python 3",
   "language": "python",
   "name": "python3"
  },
  "language_info": {
   "codemirror_mode": {
    "name": "ipython",
    "version": 3
   },
   "file_extension": ".py",
   "mimetype": "text/x-python",
   "name": "python",
   "nbconvert_exporter": "python",
   "pygments_lexer": "ipython3",
   "version": "3.7.6"
  }
 },
 "nbformat": 4,
 "nbformat_minor": 4
}
