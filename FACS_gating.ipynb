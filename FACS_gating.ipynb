{
 "cells": [
  {
   "cell_type": "code",
   "execution_count": 1,
   "metadata": {},
   "outputs": [],
   "source": [
    "%matplotlib widget\n",
    "%load_ext autoreload\n",
    "%autoreload 2\n",
    "\n",
    "import numpy as np\n",
    "from bsbcm import BSBCM\n",
    "import matplotlib.pyplot as plt\n",
    "\n",
    "dataset = BSBCM('/home/ubuntu/leukosight_data/')"
   ]
  },
  {
   "cell_type": "code",
   "execution_count": 2,
   "metadata": {},
   "outputs": [
    {
     "data": {
      "application/vnd.jupyter.widget-view+json": {
       "model_id": "9acb20f2706949c59af2abd0bfc09e58",
       "version_major": 2,
       "version_minor": 0
      },
      "text/plain": [
       "Canvas(toolbar=Toolbar(toolitems=[('Home', 'Reset original view', 'home', 'home'), ('Back', 'Back to previous …"
      ]
     },
     "metadata": {},
     "output_type": "display_data"
    }
   ],
   "source": [
    "img_fig = plt.figure(figsize=(5,5))"
   ]
  },
  {
   "cell_type": "code",
   "execution_count": 5,
   "metadata": {},
   "outputs": [
    {
     "data": {
      "text/plain": [
       "Index(['position_in_fov_y', 'position_in_fov_x', 'detection_radius', 'BV711',\n",
       "       'BV650', 'BV605', 'BV570', 'BV510', 'BV421',\n",
       "       'BV711_without_local_background_sub',\n",
       "       'BV650_without_local_background_sub',\n",
       "       'BV605_without_local_background_sub',\n",
       "       'BV570_without_local_background_sub',\n",
       "       'BV510_without_local_background_sub',\n",
       "       'BV421_without_local_background_sub', 'autofluor_2',\n",
       "       'unmixed_0+2_CD123', 'unmixed_0+2_CD3/CD19/CD56', 'unmixed_0+2_HLA-DR',\n",
       "       'unmixed_0+2_CD45', 'unmixed_0+2_CD14', 'unmixed_0+2_CD16',\n",
       "       'unmixed_0+2_autofluor_1', 'unmixed_0+2_autofluor_2',\n",
       "       'unmixed_1+2_CD123', 'unmixed_1+2_CD3/CD19/CD56', 'unmixed_1+2_HLA-DR',\n",
       "       'unmixed_1+2_CD45', 'unmixed_1+2_CD14', 'unmixed_1+2_CD16',\n",
       "       'unmixed_1+2_autofluor_1', 'unmixed_1+2_autofluor_2',\n",
       "       'unmixed_6+2uniform_CD123', 'unmixed_6+2uniform_CD3/CD19/CD56',\n",
       "       'unmixed_6+2uniform_HLA-DR', 'unmixed_6+2uniform_CD45',\n",
       "       'unmixed_6+2uniform_CD14', 'unmixed_6+2uniform_CD16',\n",
       "       'unmixed_6+2uniform_autofluor_1', 'unmixed_6+2uniform_autofluor_2',\n",
       "       'unmixed_6+2noreg_CD123', 'unmixed_6+2noreg_CD3/CD19/CD56',\n",
       "       'unmixed_6+2noreg_HLA-DR', 'unmixed_6+2noreg_CD45',\n",
       "       'unmixed_6+2noreg_CD14', 'unmixed_6+2noreg_CD16',\n",
       "       'unmixed_6+2noreg_autofluor_1', 'unmixed_6+2noreg_autofluor_2',\n",
       "       'unmixed_6+2mean_autofluor_CD123',\n",
       "       'unmixed_6+2mean_autofluor_CD3/CD19/CD56',\n",
       "       'unmixed_6+2mean_autofluor_HLA-DR', 'unmixed_6+2mean_autofluor_CD45',\n",
       "       'unmixed_6+2mean_autofluor_CD14', 'unmixed_6+2mean_autofluor_CD16',\n",
       "       'unmixed_6+2mean_autofluor_autofluor_1',\n",
       "       'unmixed_6+2mean_autofluor_autofluor_2', 'unmixed_6+0uniform_CD123',\n",
       "       'unmixed_6+0uniform_CD3/CD19/CD56', 'unmixed_6+0uniform_HLA-DR',\n",
       "       'unmixed_6+0uniform_CD45', 'unmixed_6+0uniform_CD14',\n",
       "       'unmixed_6+0uniform_CD16', 'unmixed_6+0noreg_CD123',\n",
       "       'unmixed_6+0noreg_CD3/CD19/CD56', 'unmixed_6+0noreg_HLA-DR',\n",
       "       'unmixed_6+0noreg_CD45', 'unmixed_6+0noreg_CD14',\n",
       "       'unmixed_6+0noreg_CD16', 'matched_histology_cell',\n",
       "       'batch_corrected_fluor', 'batch', 'marker', 'imaging_date',\n",
       "       'fluor_shading_correction_index', 'notes', 'base_path', 'replicate'],\n",
       "      dtype='object')"
      ]
     },
     "execution_count": 5,
     "metadata": {},
     "output_type": "execute_result"
    }
   ],
   "source": [
    "dataset.dataframe.columns"
   ]
  },
  {
   "cell_type": "code",
   "execution_count": 3,
   "metadata": {},
   "outputs": [
    {
     "data": {
      "application/vnd.jupyter.widget-view+json": {
       "model_id": "7b4a5f107b144c139305c11081ff2d30",
       "version_major": 2,
       "version_minor": 0
      },
      "text/plain": [
       "Canvas(toolbar=Toolbar(toolitems=[('Home', 'Reset original view', 'home', 'home'), ('Back', 'Back to previous …"
      ]
     },
     "metadata": {},
     "output_type": "display_data"
    },
    {
     "data": {
      "application/vnd.jupyter.widget-view+json": {
       "model_id": "c639d623f51546eab51fbeca094051ed",
       "version_major": 2,
       "version_minor": 0
      },
      "text/plain": [
       "interactive(children=(ToggleButtons(description='Plot_index', options=(), value=None), ToggleButtons(descripti…"
      ]
     },
     "metadata": {},
     "output_type": "display_data"
    }
   ],
   "source": [
    "from facs_util import ScatterSelectorGating\n",
    "\n",
    "# Which unmixing strategy should be used?\n",
    "\n",
    "# prefix = 'unmixed_0+2_'\n",
    "# prefix = 'unmixed_1+2_'\n",
    "prefix = 'unmixed_6+2uniform_'\n",
    "# prefix = 'unmixed_6+2noreg_'\n",
    "# prefix = 'unmixed_6+2mean_autofluor_'\n",
    "# prefix = 'unmixed_6+0uniform_'\n",
    "# prefix = 'unmixed_6+0noreg_'\n",
    "\n",
    "channel_names = ['CD123', 'CD3/CD19/CD56',\n",
    "       'HLA-DR', 'CD45', 'CD14', 'CD16', 'autofluor_1', 'autofluor_2']\n",
    "unmixed_channel_names = [prefix + ch for ch in channel_names]\n",
    "\n",
    "indices = dataset.get_indices(marker='all', batch=1, replicate=1)\n",
    "data = dataset.dataframe[unmixed_channel_names].to_numpy()\n",
    " #Add globals to class\n",
    "ssg = ScatterSelectorGating(indices, data, channel_names, dataset, img_fig)\n"
   ]
  }
 ],
 "metadata": {
  "kernelspec": {
   "display_name": "Python 3",
   "language": "python",
   "name": "python3"
  },
  "language_info": {
   "codemirror_mode": {
    "name": "ipython",
    "version": 3
   },
   "file_extension": ".py",
   "mimetype": "text/x-python",
   "name": "python",
   "nbconvert_exporter": "python",
   "pygments_lexer": "ipython3",
   "version": "3.7.6"
  }
 },
 "nbformat": 4,
 "nbformat_minor": 4
}
