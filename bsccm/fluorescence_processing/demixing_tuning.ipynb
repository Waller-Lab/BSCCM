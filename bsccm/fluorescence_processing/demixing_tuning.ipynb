{
 "cells": [
  {
   "cell_type": "markdown",
   "metadata": {},
   "source": [
    "# Figure out the optimal hyperparameter settings for the demixing process"
   ]
  },
  {
   "cell_type": "code",
   "execution_count": 18,
   "metadata": {
    "tags": []
   },
   "outputs": [
    {
     "name": "stdout",
     "output_type": "stream",
     "text": [
      "The autoreload extension is already loaded. To reload it, use:\n",
      "  %reload_ext autoreload\n"
     ]
    }
   ],
   "source": [
    "%matplotlib widget\n",
    "%load_ext autoreload\n",
    "%autoreload 2\n",
    "\n",
    "import pandas as pd\n",
    "import matplotlib as mpl\n",
    "import time\n",
    "import matplotlib.pyplot as plt\n",
    "from matplotlib.path import Path as mplPath\n",
    "import matplotlib.cm as cm\n",
    "import matplotlib.patches as patches\n",
    "from scipy import stats\n",
    "import math\n",
    "import numpy as np\n",
    "from scipy import interpolate\n",
    "from pathlib import Path\n",
    "import os \n",
    "\n",
    "from gating_util import ScatterSelectorGating\n",
    "\n",
    "from bsccm import BSCCM\n",
    "from demixing_util import *\n",
    "\n",
    "bsccm = BSCCM(str(Path.home()) + '/BSCCM_local/BSCCM/')\n",
    "dataframe_saving_fullpath = str(Path.home()) + '/BSCCM_local/BSCCM/BSCCM_surface_markers.csv'\n",
    "# For exporting figures\n",
    "export_dir = '/home/henry/leukosight_data/figures/demixing'\n",
    "\n",
    "\n",
    "single_markers = ['CD123', 'CD3', 'CD19', 'CD56', 'HLA-DR', 'CD45', 'CD14', 'CD16', 'autofluor']\n",
    "\n",
    "# The names of the fluorescent measurements put into a database\n",
    "channel_names = ['Fluor_426-446_shading_corrected', \n",
    "       'Fluor_500-550_shading_corrected', \n",
    "       'Fluor_550-570_shading_corrected', \n",
    "       'Fluor_585-625_shading_corrected', \n",
    "       'Fluor_627-673_shading_corrected', \n",
    "       'Fluor_690-_shading_corrected']\n",
    "\n",
    "selections = {batch: ['selection_example_{}_positive_cells_batch_{}'.format(m, batch) \n",
    "               for m in single_markers] for batch in range(2)}\n",
    "\n",
    "unmixed_channel_names = ['CD123/HLA-DR/CD14', 'CD3/CD19/CD56', 'CD45', 'CD16', 'autofluor']\n",
    "\n",
    "\n",
    "single_marker_unmix_channel_spectra, single_marker_unmix_channel_brightness, unmix_channel_spectra, unmix_channel_brightness = \\\n",
    "        compute_spectra(bsccm, channel_names, unmixed_channel_names, single_markers, batch=0)\n",
    "    \n",
    "# Prepare the raw data\n",
    "mixed_data = bsccm.surface_marker_dataframe[channel_names].to_numpy()\n",
    "#Make everything positive\n",
    "mixed_data -= (np.min(mixed_data, axis=0) - 1e-2)\n"
   ]
  },
  {
   "cell_type": "markdown",
   "metadata": {},
   "source": [
    "### Experiment to look at tradeoff between regularization level on single marker + autofluor"
   ]
  },
  {
   "cell_type": "code",
   "execution_count": 13,
   "metadata": {
    "tags": []
   },
   "outputs": [
    {
     "data": {
      "application/vnd.jupyter.widget-view+json": {
       "model_id": "e2a3c93b3c654155838f95ebfa92b8b9",
       "version_major": 2,
       "version_minor": 0
      },
      "text/plain": [
       "Canvas(toolbar=Toolbar(toolitems=[('Home', 'Reset original view', 'home', 'home'), ('Back', 'Back to previous …"
      ]
     },
     "metadata": {},
     "output_type": "display_data"
    }
   ],
   "source": [
    "scatter_fig, scatter_ax = plt.subplots(1, 2, figsize=(7, 2.5))"
   ]
  },
  {
   "cell_type": "code",
   "execution_count": 17,
   "metadata": {
    "tags": []
   },
   "outputs": [
    {
     "name": "stdout",
     "output_type": "stream",
     "text": [
      "Running CD123 0.01 [1, 1]\t\t\t\t\t\t\t\t\t\n",
      "Running CD123 0.3 [1, 1]\t\t\t\t\t\t\t\t\t05\t\t3.4  6.6  3.0  7.4  3.8  15.1  \t\t\t\t\t\n",
      "206: \tloss: 23.008\trel_error: 0.0012\t\t4.5  7.5  3.0  7.7  3.9  15.0  \t\t\t\t\r"
     ]
    },
    {
     "ename": "KeyboardInterrupt",
     "evalue": "",
     "output_type": "error",
     "traceback": [
      "\u001b[0;31m---------------------------------------------------------------------------\u001b[0m",
      "\u001b[0;31mKeyboardInterrupt\u001b[0m                         Traceback (most recent call last)",
      "\u001b[0;32m<ipython-input-17-7e06a7ba8e28>\u001b[0m in \u001b[0;36m<module>\u001b[0;34m\u001b[0m\n\u001b[1;32m     22\u001b[0m     \u001b[0;32mfor\u001b[0m \u001b[0mstain_antibodies\u001b[0m\u001b[0;34m,\u001b[0m \u001b[0ml1_reg\u001b[0m\u001b[0;34m,\u001b[0m \u001b[0mreweighting\u001b[0m \u001b[0;32min\u001b[0m \u001b[0mparams\u001b[0m\u001b[0;34m:\u001b[0m\u001b[0;34m\u001b[0m\u001b[0;34m\u001b[0m\u001b[0m\n\u001b[1;32m     23\u001b[0m         \u001b[0mprint\u001b[0m\u001b[0;34m(\u001b[0m\u001b[0;34m'Running {} {} {}\\t\\t\\t\\t\\t\\t\\t\\t\\t'\u001b[0m\u001b[0;34m.\u001b[0m\u001b[0mformat\u001b[0m\u001b[0;34m(\u001b[0m\u001b[0mstain_antibodies\u001b[0m\u001b[0;34m,\u001b[0m \u001b[0ml1_reg\u001b[0m\u001b[0;34m,\u001b[0m \u001b[0mreweighting\u001b[0m\u001b[0;34m)\u001b[0m\u001b[0;34m)\u001b[0m\u001b[0;34m\u001b[0m\u001b[0;34m\u001b[0m\u001b[0m\n\u001b[0;32m---> 24\u001b[0;31m         run_experiment(spectra, spectra_names, bsccm, mixed_data, stain_antibodies, selections, reweighting, l1_reg, \n\u001b[0m\u001b[1;32m     25\u001b[0m                        scatter_fig, scatter_ax,  path = experiment_path, callback_every=500)\n",
      "\u001b[0;32m~/GitRepos/BSCCM/fluorescence_processing/demixing_util.py\u001b[0m in \u001b[0;36mrun_experiment\u001b[0;34m(spectra, spectra_names, bsccm, mixed_data, stain_antibodies, selections, reweighting, l1_reg, scatter_fig, scatter_ax, callback_every, path)\u001b[0m\n\u001b[1;32m     92\u001b[0m                         scatter_fig=scatter_fig, scatter_ax=scatter_ax, plot_loss_history=500, log_plots=False)\n\u001b[1;32m     93\u001b[0m \u001b[0;34m\u001b[0m\u001b[0m\n\u001b[0;32m---> 94\u001b[0;31m     unmixed, background_spectrum = do_factorization(data, spectra,\n\u001b[0m\u001b[1;32m     95\u001b[0m                      \u001b[0ml1_reg\u001b[0m \u001b[0;34m=\u001b[0m \u001b[0ml1_reg\u001b[0m\u001b[0;34m,\u001b[0m\u001b[0;34m\u001b[0m\u001b[0;34m\u001b[0m\u001b[0m\n\u001b[1;32m     96\u001b[0m                         \u001b[0mmomentum\u001b[0m\u001b[0;34m=\u001b[0m\u001b[0;36m0.9\u001b[0m\u001b[0;34m,\u001b[0m\u001b[0;34m\u001b[0m\u001b[0;34m\u001b[0m\u001b[0m\n",
      "\u001b[0;32m~/GitRepos/BSCCM/fluorescence_processing/demixing_util.py\u001b[0m in \u001b[0;36mdo_factorization\u001b[0;34m(data, spectra, l1_reg, momentum, learning_rate, background_learning_rate, reweighting, callback_every, callback, scatter_fig, scatter_ax)\u001b[0m\n\u001b[1;32m    224\u001b[0m         \u001b[0;31m#enforce constraints\u001b[0m\u001b[0;34m\u001b[0m\u001b[0;34m\u001b[0m\u001b[0;34m\u001b[0m\u001b[0m\n\u001b[1;32m    225\u001b[0m         \u001b[0munmixed\u001b[0m \u001b[0;34m=\u001b[0m \u001b[0munmixed\u001b[0m \u001b[0;34m*\u001b[0m \u001b[0mjnp\u001b[0m\u001b[0;34m.\u001b[0m\u001b[0mlogical_not\u001b[0m\u001b[0;34m(\u001b[0m\u001b[0munmixed\u001b[0m \u001b[0;34m<\u001b[0m \u001b[0;36m0\u001b[0m\u001b[0;34m)\u001b[0m\u001b[0;34m\u001b[0m\u001b[0;34m\u001b[0m\u001b[0m\n\u001b[0;32m--> 226\u001b[0;31m         \u001b[0mbackground_spectrum\u001b[0m \u001b[0;34m=\u001b[0m \u001b[0mbackground_spectrum\u001b[0m \u001b[0;34m*\u001b[0m \u001b[0mjnp\u001b[0m\u001b[0;34m.\u001b[0m\u001b[0mlogical_not\u001b[0m\u001b[0;34m(\u001b[0m\u001b[0mbackground_spectrum\u001b[0m \u001b[0;34m<\u001b[0m \u001b[0;36m0\u001b[0m\u001b[0;34m)\u001b[0m\u001b[0;34m\u001b[0m\u001b[0;34m\u001b[0m\u001b[0m\n\u001b[0m\u001b[1;32m    227\u001b[0m \u001b[0;34m\u001b[0m\u001b[0m\n\u001b[1;32m    228\u001b[0m         \u001b[0;32mif\u001b[0m \u001b[0mi\u001b[0m \u001b[0;34m>\u001b[0m \u001b[0;36m50\u001b[0m\u001b[0;34m:\u001b[0m\u001b[0;34m\u001b[0m\u001b[0;34m\u001b[0m\u001b[0m\n",
      "\u001b[0;32m~/anaconda3/lib/python3.8/site-packages/jax/_src/numpy/lax_numpy.py\u001b[0m in \u001b[0;36mdeferring_binary_op\u001b[0;34m(self, other)\u001b[0m\n\u001b[1;32m   5817\u001b[0m     \u001b[0;32mif\u001b[0m \u001b[0;32mnot\u001b[0m \u001b[0misinstance\u001b[0m\u001b[0;34m(\u001b[0m\u001b[0mother\u001b[0m\u001b[0;34m,\u001b[0m \u001b[0m_scalar_types\u001b[0m \u001b[0;34m+\u001b[0m \u001b[0m_arraylike_types\u001b[0m \u001b[0;34m+\u001b[0m \u001b[0;34m(\u001b[0m\u001b[0mcore\u001b[0m\u001b[0;34m.\u001b[0m\u001b[0mTracer\u001b[0m\u001b[0;34m,\u001b[0m\u001b[0;34m)\u001b[0m\u001b[0;34m)\u001b[0m\u001b[0;34m:\u001b[0m\u001b[0;34m\u001b[0m\u001b[0;34m\u001b[0m\u001b[0m\n\u001b[1;32m   5818\u001b[0m       \u001b[0;32mreturn\u001b[0m \u001b[0mNotImplemented\u001b[0m\u001b[0;34m\u001b[0m\u001b[0;34m\u001b[0m\u001b[0m\n\u001b[0;32m-> 5819\u001b[0;31m     \u001b[0;32mreturn\u001b[0m \u001b[0mbinary_op\u001b[0m\u001b[0;34m(\u001b[0m\u001b[0mself\u001b[0m\u001b[0;34m,\u001b[0m \u001b[0mother\u001b[0m\u001b[0;34m)\u001b[0m\u001b[0;34m\u001b[0m\u001b[0;34m\u001b[0m\u001b[0m\n\u001b[0m\u001b[1;32m   5820\u001b[0m   \u001b[0;32mreturn\u001b[0m \u001b[0mdeferring_binary_op\u001b[0m\u001b[0;34m\u001b[0m\u001b[0;34m\u001b[0m\u001b[0m\n\u001b[1;32m   5821\u001b[0m \u001b[0;34m\u001b[0m\u001b[0m\n",
      "\u001b[0;32m~/anaconda3/lib/python3.8/site-packages/jax/_src/numpy/lax_numpy.py\u001b[0m in \u001b[0;36mfn\u001b[0;34m(x1, x2)\u001b[0m\n\u001b[1;32m    428\u001b[0m \u001b[0;32mdef\u001b[0m \u001b[0m_maybe_bool_binop\u001b[0m\u001b[0;34m(\u001b[0m\u001b[0mnumpy_fn\u001b[0m\u001b[0;34m,\u001b[0m \u001b[0mlax_fn\u001b[0m\u001b[0;34m,\u001b[0m \u001b[0mbool_lax_fn\u001b[0m\u001b[0;34m,\u001b[0m \u001b[0mlax_doc\u001b[0m\u001b[0;34m=\u001b[0m\u001b[0;32mFalse\u001b[0m\u001b[0;34m)\u001b[0m\u001b[0;34m:\u001b[0m\u001b[0;34m\u001b[0m\u001b[0;34m\u001b[0m\u001b[0m\n\u001b[1;32m    429\u001b[0m   \u001b[0;32mdef\u001b[0m \u001b[0mfn\u001b[0m\u001b[0;34m(\u001b[0m\u001b[0mx1\u001b[0m\u001b[0;34m,\u001b[0m \u001b[0mx2\u001b[0m\u001b[0;34m)\u001b[0m\u001b[0;34m:\u001b[0m\u001b[0;34m\u001b[0m\u001b[0;34m\u001b[0m\u001b[0m\n\u001b[0;32m--> 430\u001b[0;31m     \u001b[0mx1\u001b[0m\u001b[0;34m,\u001b[0m \u001b[0mx2\u001b[0m \u001b[0;34m=\u001b[0m \u001b[0m_promote_args\u001b[0m\u001b[0;34m(\u001b[0m\u001b[0mnumpy_fn\u001b[0m\u001b[0;34m.\u001b[0m\u001b[0m__name__\u001b[0m\u001b[0;34m,\u001b[0m \u001b[0mx1\u001b[0m\u001b[0;34m,\u001b[0m \u001b[0mx2\u001b[0m\u001b[0;34m)\u001b[0m\u001b[0;34m\u001b[0m\u001b[0;34m\u001b[0m\u001b[0m\n\u001b[0m\u001b[1;32m    431\u001b[0m     \u001b[0;32mreturn\u001b[0m \u001b[0mlax_fn\u001b[0m\u001b[0;34m(\u001b[0m\u001b[0mx1\u001b[0m\u001b[0;34m,\u001b[0m \u001b[0mx2\u001b[0m\u001b[0;34m)\u001b[0m \u001b[0;32mif\u001b[0m \u001b[0mx1\u001b[0m\u001b[0;34m.\u001b[0m\u001b[0mdtype\u001b[0m \u001b[0;34m!=\u001b[0m \u001b[0mbool_\u001b[0m \u001b[0;32melse\u001b[0m \u001b[0mbool_lax_fn\u001b[0m\u001b[0;34m(\u001b[0m\u001b[0mx1\u001b[0m\u001b[0;34m,\u001b[0m \u001b[0mx2\u001b[0m\u001b[0;34m)\u001b[0m\u001b[0;34m\u001b[0m\u001b[0;34m\u001b[0m\u001b[0m\n\u001b[1;32m    432\u001b[0m   \u001b[0;32mreturn\u001b[0m \u001b[0m_wraps\u001b[0m\u001b[0;34m(\u001b[0m\u001b[0mnumpy_fn\u001b[0m\u001b[0;34m)\u001b[0m\u001b[0;34m(\u001b[0m\u001b[0mfn\u001b[0m\u001b[0;34m)\u001b[0m\u001b[0;34m\u001b[0m\u001b[0;34m\u001b[0m\u001b[0m\n",
      "\u001b[0;32m~/anaconda3/lib/python3.8/site-packages/jax/_src/numpy/lax_numpy.py\u001b[0m in \u001b[0;36m_promote_args\u001b[0;34m(fun_name, *args)\u001b[0m\n\u001b[1;32m    324\u001b[0m   \u001b[0m_check_arraylike\u001b[0m\u001b[0;34m(\u001b[0m\u001b[0mfun_name\u001b[0m\u001b[0;34m,\u001b[0m \u001b[0;34m*\u001b[0m\u001b[0margs\u001b[0m\u001b[0;34m)\u001b[0m\u001b[0;34m\u001b[0m\u001b[0;34m\u001b[0m\u001b[0m\n\u001b[1;32m    325\u001b[0m   \u001b[0m_check_no_float0s\u001b[0m\u001b[0;34m(\u001b[0m\u001b[0mfun_name\u001b[0m\u001b[0;34m,\u001b[0m \u001b[0;34m*\u001b[0m\u001b[0margs\u001b[0m\u001b[0;34m)\u001b[0m\u001b[0;34m\u001b[0m\u001b[0;34m\u001b[0m\u001b[0m\n\u001b[0;32m--> 326\u001b[0;31m   \u001b[0;32mreturn\u001b[0m \u001b[0m_promote_shapes\u001b[0m\u001b[0;34m(\u001b[0m\u001b[0mfun_name\u001b[0m\u001b[0;34m,\u001b[0m \u001b[0;34m*\u001b[0m\u001b[0m_promote_dtypes\u001b[0m\u001b[0;34m(\u001b[0m\u001b[0;34m*\u001b[0m\u001b[0margs\u001b[0m\u001b[0;34m)\u001b[0m\u001b[0;34m)\u001b[0m\u001b[0;34m\u001b[0m\u001b[0;34m\u001b[0m\u001b[0m\n\u001b[0m\u001b[1;32m    327\u001b[0m \u001b[0;34m\u001b[0m\u001b[0m\n\u001b[1;32m    328\u001b[0m \u001b[0;32mdef\u001b[0m \u001b[0m_promote_args_inexact\u001b[0m\u001b[0;34m(\u001b[0m\u001b[0mfun_name\u001b[0m\u001b[0;34m,\u001b[0m \u001b[0;34m*\u001b[0m\u001b[0margs\u001b[0m\u001b[0;34m)\u001b[0m\u001b[0;34m:\u001b[0m\u001b[0;34m\u001b[0m\u001b[0;34m\u001b[0m\u001b[0m\n",
      "\u001b[0;32m~/anaconda3/lib/python3.8/site-packages/jax/_src/numpy/lax_numpy.py\u001b[0m in \u001b[0;36m_promote_dtypes\u001b[0;34m(*args)\u001b[0m\n\u001b[1;32m    270\u001b[0m     \u001b[0mto_dtype\u001b[0m\u001b[0;34m,\u001b[0m \u001b[0mweak_type\u001b[0m \u001b[0;34m=\u001b[0m \u001b[0mdtypes\u001b[0m\u001b[0;34m.\u001b[0m\u001b[0m_lattice_result_type\u001b[0m\u001b[0;34m(\u001b[0m\u001b[0;34m*\u001b[0m\u001b[0margs\u001b[0m\u001b[0;34m)\u001b[0m\u001b[0;34m\u001b[0m\u001b[0;34m\u001b[0m\u001b[0m\n\u001b[1;32m    271\u001b[0m     \u001b[0mto_dtype\u001b[0m \u001b[0;34m=\u001b[0m \u001b[0mdtypes\u001b[0m\u001b[0;34m.\u001b[0m\u001b[0mcanonicalize_dtype\u001b[0m\u001b[0;34m(\u001b[0m\u001b[0mto_dtype\u001b[0m\u001b[0;34m)\u001b[0m\u001b[0;34m\u001b[0m\u001b[0;34m\u001b[0m\u001b[0m\n\u001b[0;32m--> 272\u001b[0;31m     \u001b[0;32mreturn\u001b[0m \u001b[0;34m[\u001b[0m\u001b[0mlax\u001b[0m\u001b[0;34m.\u001b[0m\u001b[0m_convert_element_type\u001b[0m\u001b[0;34m(\u001b[0m\u001b[0mx\u001b[0m\u001b[0;34m,\u001b[0m \u001b[0mto_dtype\u001b[0m\u001b[0;34m,\u001b[0m \u001b[0mweak_type\u001b[0m\u001b[0;34m)\u001b[0m \u001b[0;32mfor\u001b[0m \u001b[0mx\u001b[0m \u001b[0;32min\u001b[0m \u001b[0margs\u001b[0m\u001b[0;34m]\u001b[0m\u001b[0;34m\u001b[0m\u001b[0;34m\u001b[0m\u001b[0m\n\u001b[0m\u001b[1;32m    273\u001b[0m \u001b[0;34m\u001b[0m\u001b[0m\n\u001b[1;32m    274\u001b[0m \u001b[0;32mdef\u001b[0m \u001b[0m_promote_dtypes_inexact\u001b[0m\u001b[0;34m(\u001b[0m\u001b[0;34m*\u001b[0m\u001b[0margs\u001b[0m\u001b[0;34m)\u001b[0m\u001b[0;34m:\u001b[0m\u001b[0;34m\u001b[0m\u001b[0;34m\u001b[0m\u001b[0m\n",
      "\u001b[0;32m~/anaconda3/lib/python3.8/site-packages/jax/_src/numpy/lax_numpy.py\u001b[0m in \u001b[0;36m<listcomp>\u001b[0;34m(.0)\u001b[0m\n\u001b[1;32m    270\u001b[0m     \u001b[0mto_dtype\u001b[0m\u001b[0;34m,\u001b[0m \u001b[0mweak_type\u001b[0m \u001b[0;34m=\u001b[0m \u001b[0mdtypes\u001b[0m\u001b[0;34m.\u001b[0m\u001b[0m_lattice_result_type\u001b[0m\u001b[0;34m(\u001b[0m\u001b[0;34m*\u001b[0m\u001b[0margs\u001b[0m\u001b[0;34m)\u001b[0m\u001b[0;34m\u001b[0m\u001b[0;34m\u001b[0m\u001b[0m\n\u001b[1;32m    271\u001b[0m     \u001b[0mto_dtype\u001b[0m \u001b[0;34m=\u001b[0m \u001b[0mdtypes\u001b[0m\u001b[0;34m.\u001b[0m\u001b[0mcanonicalize_dtype\u001b[0m\u001b[0;34m(\u001b[0m\u001b[0mto_dtype\u001b[0m\u001b[0;34m)\u001b[0m\u001b[0;34m\u001b[0m\u001b[0;34m\u001b[0m\u001b[0m\n\u001b[0;32m--> 272\u001b[0;31m     \u001b[0;32mreturn\u001b[0m \u001b[0;34m[\u001b[0m\u001b[0mlax\u001b[0m\u001b[0;34m.\u001b[0m\u001b[0m_convert_element_type\u001b[0m\u001b[0;34m(\u001b[0m\u001b[0mx\u001b[0m\u001b[0;34m,\u001b[0m \u001b[0mto_dtype\u001b[0m\u001b[0;34m,\u001b[0m \u001b[0mweak_type\u001b[0m\u001b[0;34m)\u001b[0m \u001b[0;32mfor\u001b[0m \u001b[0mx\u001b[0m \u001b[0;32min\u001b[0m \u001b[0margs\u001b[0m\u001b[0;34m]\u001b[0m\u001b[0;34m\u001b[0m\u001b[0;34m\u001b[0m\u001b[0m\n\u001b[0m\u001b[1;32m    273\u001b[0m \u001b[0;34m\u001b[0m\u001b[0m\n\u001b[1;32m    274\u001b[0m \u001b[0;32mdef\u001b[0m \u001b[0m_promote_dtypes_inexact\u001b[0m\u001b[0;34m(\u001b[0m\u001b[0;34m*\u001b[0m\u001b[0margs\u001b[0m\u001b[0;34m)\u001b[0m\u001b[0;34m:\u001b[0m\u001b[0;34m\u001b[0m\u001b[0;34m\u001b[0m\u001b[0m\n",
      "\u001b[0;32m~/anaconda3/lib/python3.8/site-packages/jax/_src/lax/lax.py\u001b[0m in \u001b[0;36m_convert_element_type\u001b[0;34m(operand, new_dtype, weak_type)\u001b[0m\n\u001b[1;32m    429\u001b[0m   \u001b[0;31m# Don't canonicalize old_dtype because x64 context might cause\u001b[0m\u001b[0;34m\u001b[0m\u001b[0;34m\u001b[0m\u001b[0;34m\u001b[0m\u001b[0m\n\u001b[1;32m    430\u001b[0m   \u001b[0;31m# un-canonicalized operands to be passed in.\u001b[0m\u001b[0;34m\u001b[0m\u001b[0;34m\u001b[0m\u001b[0;34m\u001b[0m\u001b[0m\n\u001b[0;32m--> 431\u001b[0;31m   \u001b[0mold_dtype\u001b[0m \u001b[0;34m=\u001b[0m \u001b[0mnp\u001b[0m\u001b[0;34m.\u001b[0m\u001b[0mresult_type\u001b[0m\u001b[0;34m(\u001b[0m\u001b[0moperand\u001b[0m\u001b[0;34m)\u001b[0m\u001b[0;34m\u001b[0m\u001b[0;34m\u001b[0m\u001b[0m\n\u001b[0m\u001b[1;32m    432\u001b[0m   \u001b[0mold_weak_type\u001b[0m \u001b[0;34m=\u001b[0m \u001b[0mdtypes\u001b[0m\u001b[0;34m.\u001b[0m\u001b[0mis_weakly_typed\u001b[0m\u001b[0;34m(\u001b[0m\u001b[0moperand\u001b[0m\u001b[0;34m)\u001b[0m\u001b[0;34m\u001b[0m\u001b[0;34m\u001b[0m\u001b[0m\n\u001b[1;32m    433\u001b[0m \u001b[0;34m\u001b[0m\u001b[0m\n",
      "\u001b[0;32m<__array_function__ internals>\u001b[0m in \u001b[0;36mresult_type\u001b[0;34m(*args, **kwargs)\u001b[0m\n",
      "\u001b[0;31mKeyboardInterrupt\u001b[0m: "
     ]
    }
   ],
   "source": [
    "experiment_path = '/home/henry/leukosight_data/demixing_results/single_marker/'\n",
    "\n",
    "for single_marker in single_markers:\n",
    "    if single_marker == 'autofluor':\n",
    "        continue #no need to do this when only two markers\n",
    "    #get the unmixed channel that contains this marker\n",
    "#     unmixed_channel_name = [m for m in unmix_channel_spectra if single_marker in m][0]\n",
    "#     spectra = np.stack([unmix_channel_spectra[c] for c in [unmixed_channel_name, 'autofluor']], axis=0)\n",
    "    spectra_names = [single_marker, 'autofluor']\n",
    "    spectra = np.stack([single_marker_unmix_channel_spectra[c] for c in spectra_names], axis=0)\n",
    "    reweighting = [1, 1]\n",
    "\n",
    "    params = [\n",
    "        (single_marker, 1e-2, reweighting),\n",
    "        (single_marker, 3e-1, reweighting),\n",
    "        (single_marker, 1e-1, reweighting),\n",
    "        (single_marker, 1e0, reweighting),\n",
    "        (single_marker, 3e0, reweighting),\n",
    "        (single_marker, 1e1, reweighting),\n",
    "    ]\n",
    "\n",
    "    for stain_antibodies, l1_reg, reweighting in params:\n",
    "        print('Running {} {} {}\\t\\t\\t\\t\\t\\t\\t\\t\\t'.format(stain_antibodies, l1_reg, reweighting))\n",
    "        run_experiment(spectra, spectra_names, bsccm, mixed_data, stain_antibodies, selections, reweighting, l1_reg, \n",
    "                       scatter_fig, scatter_ax,  path = experiment_path, callback_every=500)\n"
   ]
  },
  {
   "cell_type": "code",
   "execution_count": 17,
   "metadata": {
    "collapsed": true,
    "jupyter": {
     "outputs_hidden": true
    },
    "tags": []
   },
   "outputs": [
    {
     "data": {
      "application/vnd.jupyter.widget-view+json": {
       "model_id": "",
       "version_major": 2,
       "version_minor": 0
      },
      "text/plain": [
       "Canvas(toolbar=Toolbar(toolitems=[('Home', 'Reset original view', 'home', 'home'), ('Back', 'Back to previous …"
      ]
     },
     "metadata": {},
     "output_type": "display_data"
    },
    {
     "data": {
      "application/vnd.jupyter.widget-view+json": {
       "model_id": "",
       "version_major": 2,
       "version_minor": 0
      },
      "text/plain": [
       "HBox(children=(Dropdown(description='Antibody:', options=('CD45', 'CD19', 'CD3', 'CD16', 'CD14', 'CD123', 'CD5…"
      ]
     },
     "metadata": {},
     "output_type": "display_data"
    }
   ],
   "source": [
    "show_experiment_results('/home/henry/leukosight_data/demixing_results/single_marker/')"
   ]
  },
  {
   "cell_type": "markdown",
   "metadata": {},
   "source": [
    "### Experiment to look at reweighting of two marker spectra"
   ]
  },
  {
   "cell_type": "code",
   "execution_count": 48,
   "metadata": {
    "collapsed": true,
    "jupyter": {
     "outputs_hidden": true
    },
    "tags": []
   },
   "outputs": [
    {
     "data": {
      "application/vnd.jupyter.widget-view+json": {
       "model_id": "52357fa7aace486ba0456e618346f975",
       "version_major": 2,
       "version_minor": 0
      },
      "text/plain": [
       "Canvas(toolbar=Toolbar(toolitems=[('Home', 'Reset original view', 'home', 'home'), ('Back', 'Back to previous …"
      ]
     },
     "metadata": {},
     "output_type": "display_data"
    }
   ],
   "source": [
    "scatter_fig, scatter_ax = plt.subplots(1, 2, figsize=(7, 2.5))"
   ]
  },
  {
   "cell_type": "code",
   "execution_count": 49,
   "metadata": {
    "collapsed": true,
    "jupyter": {
     "outputs_hidden": true
    },
    "tags": []
   },
   "outputs": [
    {
     "name": "stdout",
     "output_type": "stream",
     "text": [
      "Running CD123 10.0 [1, 1]\t\t\t\t\t\t\t\t\t\n",
      "Running CD123 10.0 [1.7420103374497333, 1]\t\t\t\t\t\t\t\t\t4.7  22.8  14.5  14.9  \t\t\t\t\n",
      "Running CD123 10.0 [0.5740494063106302, 1]\t\t\t\t\t\t\t\t\t4.7  22.8  14.5  14.9  \t\t\t\t\n",
      "Running CD3 10.0 [1, 1]\t\t\t\t\t\t\t\t\t0.0005\t\t16.9  40.9  4.1  21.4  13.5  15.1  \t\t\t\t\n",
      "Running CD3 10.0 [4.966696429093412, 1]\t\t\t\t\t\t\t\t\t7  6.2  25.3  16.0  15.5  \t\t\t\t\n",
      "Running CD3 10.0 [0.2013410753559048, 1]\t\t\t\t\t\t\t\t\t  6.5  27.5  17.9  15.4  \t\t\t\t\n",
      "Running CD19 10.0 [1, 1]\t\t\t\t\t\t\t\t\t0005\t\t36.3  6.6  -0.0  -0.0  -0.0  12.1  \t\t\t\t\n",
      "Running CD19 10.0 [5.4125314696399185, 1]\t\t\t\t\t\t\t\t\t 4.2  20.7  13.2  14.8  \t\t\t\t\n",
      "Running CD19 10.0 [0.18475643155318733, 1]\t\t\t\t\t\t\t\t\t4.1  21.0  13.6  14.7  \t\t\t\t\n",
      "Running CD56 10.0 [1, 1]\t\t\t\t\t\t\t\t\t0005\t\t33.3  -0.0  -0.0  -0.0  -0.0  12.7  \t\t\t\t\n",
      "Running CD56 10.0 [3.4396871100158455, 1]\t\t\t\t\t\t\t\t\t 6.8  29.0  18.8  16.3  \t\t\t\t\n",
      "Running CD56 10.0 [0.2907241176350466, 1]\t\t\t\t\t\t\t\t\t 6.8  29.4  19.3  16.3  \t\t\t\t\n",
      "Running HLA-DR 10.0 [1, 1]\t\t\t\t\t\t\t\t\t05\t\t36.8  9.9  -0.0  -0.0  -0.0  11.3  \t\t\t\t\n",
      "Running HLA-DR 10.0 [2.162343621125212, 1]\t\t\t\t\t\t\t\t\t3.2  18.7  12.1  14.4  \t\t\t\t\n",
      "Running HLA-DR 10.0 [0.4624611880509691, 1]\t\t\t\t\t\t\t\t\t.2  18.8  12.1  14.4  \t\t\t\t\n",
      "Running CD45 10.0 [1, 1]\t\t\t\t\t\t\t\t\t0005\t\t-0.0  30.8  2.3  15.8  9.8  13.2  \t\t\t\t\n",
      "Running CD45 10.0 [5.104117997907194, 1]\t\t\t\t\t\t\t\t\t  5.4  23.6  19.4  21.1  \t\t\t\t\n",
      "Running CD45 10.0 [0.19592023546673942, 1]\t\t\t\t\t\t\t\t\t 5.4  28.0  30.4  31.2  \t\t\t\t\n",
      "Running CD14 10.0 [1, 1]\t\t\t\t\t\t\t\t\t0005\t\t-0.0  29.3  4.1  11.6  -0.0  1.0  \t\t\t\t\n",
      "Running CD14 10.0 [1.6275699930676386, 1]\t\t\t\t\t\t\t\t\t 5.6  25.5  16.2  15.6  \t\t\t\t\n",
      "Running CD14 10.0 [0.6144129003725384, 1]\t\t\t\t\t\t\t\t\t 5.6  25.7  16.4  15.8  \t\t\t\t\n",
      "Running CD16 10.0 [1, 1]\t\t\t\t\t\t\t\t\t0005\t\t0.5  43.7  3.9  19.4  11.1  12.1  \t\t\t\t\t\n",
      "Running CD16 10.0 [11.50996883386255, 1]\t\t\t\t\t\t\t\t\t0  5.9  25.2  16.1  16.2  \t\t\t\t\n",
      "Running CD16 10.0 [0.08688120831899916, 1]\t\t\t\t\t\t\t\t\t  3.4  17.4  11.3  24.4  \t\t\t\t\n",
      "405: \tloss: 355.126\trel_error: 0.0005\t\t-0.0  47.2  5.3  23.9  15.2  11.6  \t\t\t\t\r"
     ]
    }
   ],
   "source": [
    "experiment_path = '/home/henry/leukosight_data/demixing_results/single_marker_reweighted_spectra/'\n",
    "\n",
    "for single_marker in single_markers:\n",
    "    if single_marker == 'autofluor':\n",
    "        continue #no need to do this when only two markers\n",
    "    #get the unmixed channel that contains this marker\n",
    "#     unmixed_channel_name = [m for m in unmix_channel_spectra if single_marker in m][0]\n",
    "#     spectra = np.stack([unmix_channel_spectra[c] for c in [unmixed_channel_name, 'autofluor']], axis=0)\n",
    "    spectra_names = [single_marker, 'autofluor']\n",
    "    spectra = np.stack([single_marker_unmix_channel_spectra[c] for c in spectra_names], axis=0)\n",
    "#     reweighting = [1, 1]\n",
    "\n",
    "    params = [\n",
    "        (single_marker, 1e1, [1, 1]),\n",
    "        (single_marker, 1e1, \n",
    "         [single_marker_unmix_channel_brightness[single_marker] / single_marker_unmix_channel_brightness['autofluor'], 1] ),\n",
    "        (single_marker, 1e1, \n",
    "         [single_marker_unmix_channel_brightness['autofluor'] / single_marker_unmix_channel_brightness[single_marker], 1]),\n",
    "    ]\n",
    "\n",
    "    for stain_antibodies, l1_reg, reweighting in params:\n",
    "        print('Running {} {} {}\\t\\t\\t\\t\\t\\t\\t\\t\\t'.format(stain_antibodies, l1_reg, reweighting))\n",
    "        run_experiment(spectra, spectra_names, bsccm, mixed_data, stain_antibodies, selections, reweighting, l1_reg, \n",
    "                       scatter_fig, scatter_ax,  path = experiment_path, callback_every=500)\n"
   ]
  },
  {
   "cell_type": "code",
   "execution_count": 51,
   "metadata": {
    "collapsed": true,
    "jupyter": {
     "outputs_hidden": true
    },
    "tags": []
   },
   "outputs": [
    {
     "data": {
      "application/vnd.jupyter.widget-view+json": {
       "model_id": "",
       "version_major": 2,
       "version_minor": 0
      },
      "text/plain": [
       "Canvas(toolbar=Toolbar(toolitems=[('Home', 'Reset original view', 'home', 'home'), ('Back', 'Back to previous …"
      ]
     },
     "metadata": {},
     "output_type": "display_data"
    },
    {
     "data": {
      "application/vnd.jupyter.widget-view+json": {
       "model_id": "",
       "version_major": 2,
       "version_minor": 0
      },
      "text/plain": [
       "HBox(children=(Dropdown(description='Antibody:', options=('CD45', 'CD19', 'CD3', 'CD16', 'CD14', 'CD123', 'CD5…"
      ]
     },
     "metadata": {},
     "output_type": "display_data"
    }
   ],
   "source": [
    "show_experiment_results('/home/henry/leukosight_data/demixing_results/single_marker_reweighted_spectra/')"
   ]
  },
  {
   "cell_type": "markdown",
   "metadata": {},
   "source": [
    "### Experiment to look at projection reweighting of two marker spectra"
   ]
  },
  {
   "cell_type": "code",
   "execution_count": 3,
   "metadata": {},
   "outputs": [
    {
     "data": {
      "application/vnd.jupyter.widget-view+json": {
       "model_id": "d45e56896de64a079006e9cc028a9e6a",
       "version_major": 2,
       "version_minor": 0
      },
      "text/plain": [
       "Canvas(toolbar=Toolbar(toolitems=[('Home', 'Reset original view', 'home', 'home'), ('Back', 'Back to previous …"
      ]
     },
     "metadata": {},
     "output_type": "display_data"
    }
   ],
   "source": [
    "scatter_fig, scatter_ax = plt.subplots(1, 2, figsize=(7, 2.5))"
   ]
  },
  {
   "cell_type": "code",
   "execution_count": 9,
   "metadata": {
    "collapsed": true,
    "jupyter": {
     "outputs_hidden": true
    },
    "tags": []
   },
   "outputs": [
    {
     "name": "stdout",
     "output_type": "stream",
     "text": [
      "Running CD123 1.0 [0.005845640062146342, 1]\t\t\t\t\t\t\t\t\t\n",
      "Running CD123 2.0 [0.005845640062146342, 1]\t\t\t\t\t\t\t\t\t.1  18.4  12.0  17.6  \t\t\t\t\n",
      "Running CD3 1.0 [0.008726980330218712, 1]\t\t\t\t\t\t\t\t\t 6.3  20.1  13.2  17.6  \t\t\t\t\n",
      "Running CD3 2.0 [0.008726980330218712, 1]\t\t\t\t\t\t\t\t\t2.6  -0.0  -0.0  16.5  \t\t\t\t\n",
      "Running CD19 1.0 [0.00793725786794061, 1]\t\t\t\t\t\t\t\t\t1.8  -0.0  -0.0  15.9  \t\t\t\t\n",
      "Running CD19 2.0 [0.00793725786794061, 1]\t\t\t\t\t\t\t\t\t1.9  0.9  1.0  17.0  \t\t\t\t\n",
      "Running CD56 1.0 [0.011405274445969964, 1]\t\t\t\t\t\t\t\t\t.4  0.2  0.4  16.4  \t\t\t\t\n",
      "Running CD56 2.0 [0.011405274445969964, 1]\t\t\t\t\t\t\t\t\t.2  1.1  -0.0  16.0  \t\t\t\t\t\n",
      "Running HLA-DR 1.0 [0.005821131558984232, 1]\t\t\t\t\t\t\t\t\t  -0.0  -0.0  15.4  \t\t\t\t\n",
      "Running HLA-DR 2.0 [0.005821131558984232, 1]\t\t\t\t\t\t\t\t\t  8.9  4.9  14.7  \t\t\t\t\n",
      "Running CD45 1.0 [0.0028867382637343393, 1]\t\t\t\t\t\t\t\t\t5  11.2  6.5  14.8  \t\t\t\t\n",
      "Running CD45 2.0 [0.0028867382637343393, 1]\t\t\t\t\t\t\t\t\t.3  20.4  4.6  6.2  \t\t\t\t\n",
      "Running CD14 1.0 [0.015182378836181449, 1]\t\t\t\t\t\t\t\t\t8.1  20.9  4.5  5.6  \t\t\t\t\n",
      "Running CD14 2.0 [0.015182378836181449, 1]\t\t\t\t\t\t\t\t\t7.1  20.0  12.2  15.2  \t\t\t\t\n",
      "Running CD16 1.0 [0.001331950925451347, 1]\t\t\t\t\t\t\t\t\t6.8  20.3  12.3  14.8  \t\t\t\t\n",
      "Running CD16 2.0 [0.001331950925451347, 1]\t\t\t\t\t\t\t\t\t7.6  21.6  14.4  14.9  \t\t\t\t\n",
      "1344: \tloss: 70.608\trel_error: 0.0005\t\t-0.0  42.5  7.6  22.6  15.0  14.7  \t\t\t\t\r"
     ]
    }
   ],
   "source": [
    "experiment_path = '/home/henry/leukosight_data/demixing_results/single_marker_projection_reweighted_spectra/'\n",
    "\n",
    "for single_marker in single_markers:\n",
    "    if single_marker == 'autofluor':\n",
    "        continue #no need to do this when only two markers\n",
    "    #get the unmixed channel that contains this marker\n",
    "#     unmixed_channel_name = [m for m in unmix_channel_spectra if single_marker in m][0]\n",
    "#     spectra = np.stack([unmix_channel_spectra[c] for c in [unmixed_channel_name, 'autofluor']], axis=0)\n",
    "    spectra_names = [single_marker, 'autofluor']\n",
    "    spectra = np.stack([single_marker_unmix_channel_spectra[c] for c in spectra_names], axis=0)\n",
    "#     reweighting = [1, 1]\n",
    "\n",
    "    autofluor_mag = single_marker_unmix_channel_brightness['autofluor']\n",
    "    marker_mag = single_marker_unmix_channel_brightness[single_marker]\n",
    "    autofluor_vec = single_marker_unmix_channel_spectra['autofluor']\n",
    "    marker_vec = single_marker_unmix_channel_spectra[single_marker]\n",
    "    weighted_proj = (autofluor_vec @ marker_vec) / marker_mag\n",
    "    params = [\n",
    "        (single_marker, 7e-1, [weighted_proj, 1] ),\n",
    "    ]\n",
    "\n",
    "    for stain_antibodies, l1_reg, reweighting in params:\n",
    "        print('Running {} {} {}\\t\\t\\t\\t\\t\\t\\t\\t\\t'.format(stain_antibodies, l1_reg, reweighting))\n",
    "        run_experiment(spectra, spectra_names, bsccm, mixed_data, stain_antibodies, selections, reweighting, l1_reg, \n",
    "                       scatter_fig, scatter_ax,  path = experiment_path, callback_every=5000)\n"
   ]
  },
  {
   "cell_type": "code",
   "execution_count": 36,
   "metadata": {},
   "outputs": [
    {
     "data": {
      "application/vnd.jupyter.widget-view+json": {
       "model_id": "7202f311a2d34481a1564a185310c626",
       "version_major": 2,
       "version_minor": 0
      },
      "text/plain": [
       "Canvas(toolbar=Toolbar(toolitems=[('Home', 'Reset original view', 'home', 'home'), ('Back', 'Back to previous …"
      ]
     },
     "metadata": {},
     "output_type": "display_data"
    },
    {
     "data": {
      "application/vnd.jupyter.widget-view+json": {
       "model_id": "6119bbccac314b888f0b6ee966ea8f63",
       "version_major": 2,
       "version_minor": 0
      },
      "text/plain": [
       "HBox(children=(Dropdown(description='Antibody:', options=('HLA-DR', 'CD123', 'CD56', 'CD19', 'CD3', 'CD16', 'C…"
      ]
     },
     "metadata": {},
     "output_type": "display_data"
    },
    {
     "name": "stdout",
     "output_type": "stream",
     "text": [
      "/home/henry/leukosight_data/demixing_results/single_marker_projection_reweighted_spectra/HLA-DR__0.7__0.01-1.00.png\n"
     ]
    }
   ],
   "source": [
    "show_experiment_results('/home/henry/leukosight_data/demixing_results/single_marker_projection_reweighted_spectra/')"
   ]
  },
  {
   "cell_type": "markdown",
   "metadata": {},
   "source": [
    "### Experiment for single marker spectra, all_marker model"
   ]
  },
  {
   "cell_type": "code",
   "execution_count": 21,
   "metadata": {},
   "outputs": [
    {
     "data": {
      "application/vnd.jupyter.widget-view+json": {
       "model_id": "dd4e170c76364ba9b14eb44ae7688b7c",
       "version_major": 2,
       "version_minor": 0
      },
      "text/plain": [
       "Canvas(toolbar=Toolbar(toolitems=[('Home', 'Reset original view', 'home', 'home'), ('Back', 'Back to previous …"
      ]
     },
     "metadata": {},
     "output_type": "display_data"
    }
   ],
   "source": [
    "scatter_fig, scatter_ax = plt.subplots(1, 5, figsize=(15, 2.5))"
   ]
  },
  {
   "cell_type": "code",
   "execution_count": 22,
   "metadata": {},
   "outputs": [
    {
     "name": "stdout",
     "output_type": "stream",
     "text": [
      "Running CD123 1.0 [0.017437714405862902, 0.0032108197145691614, 0.005827361691958369, 0.0034276290867762474, 0.017140592104324053]\t\t\t\t\t\t\t\t\t\n",
      "Running CD123 100.0 [0.017437714405862902, 0.0032108197145691614, 0.005827361691958369, 0.0034276290867762474, 0.017140592104324053]\t\t\t\t\t\t\t\t\t\n",
      "Running CD3 1.0 [0.017437714405862902, 0.0032108197145691614, 0.005827361691958369, 0.0034276290867762474, 0.017140592104324053]\t\t\t\t\t\t\t\t\t\n",
      "Running CD3 100.0 [0.017437714405862902, 0.0032108197145691614, 0.005827361691958369, 0.0034276290867762474, 0.017140592104324053]\t\t\t\t\t\t\t\t\t\n",
      "Running CD19 1.0 [0.017437714405862902, 0.0032108197145691614, 0.005827361691958369, 0.0034276290867762474, 0.017140592104324053]\t\t\t\t\t\t\t\t\t\n",
      "Running CD19 100.0 [0.017437714405862902, 0.0032108197145691614, 0.005827361691958369, 0.0034276290867762474, 0.017140592104324053]\t\t\t\t\t\t\t\t\t\n",
      "Running CD56 1.0 [0.017437714405862902, 0.0032108197145691614, 0.005827361691958369, 0.0034276290867762474, 0.017140592104324053]\t\t\t\t\t\t\t\t\t\n",
      "Running CD56 100.0 [0.017437714405862902, 0.0032108197145691614, 0.005827361691958369, 0.0034276290867762474, 0.017140592104324053]\t\t\t\t\t\t\t\t\t\n",
      "Running HLA-DR 1.0 [0.017437714405862902, 0.0032108197145691614, 0.005827361691958369, 0.0034276290867762474, 0.017140592104324053]\t\t\t\t\t\t\t\t\t\n",
      "Running HLA-DR 100.0 [0.017437714405862902, 0.0032108197145691614, 0.005827361691958369, 0.0034276290867762474, 0.017140592104324053]\t\t\t\t\t\t\t\t\t\n",
      "Running CD45 1.0 [0.017437714405862902, 0.0032108197145691614, 0.005827361691958369, 0.0034276290867762474, 0.017140592104324053]\t\t\t\t\t\t\t\t\t\n",
      "Running CD45 100.0 [0.017437714405862902, 0.0032108197145691614, 0.005827361691958369, 0.0034276290867762474, 0.017140592104324053]\t\t\t\t\t\t\t\t\t\n",
      "Running CD14 1.0 [0.017437714405862902, 0.0032108197145691614, 0.005827361691958369, 0.0034276290867762474, 0.017140592104324053]\t\t\t\t\t\t\t\t\t\n",
      "Running CD14 100.0 [0.017437714405862902, 0.0032108197145691614, 0.005827361691958369, 0.0034276290867762474, 0.017140592104324053]\t\t\t\t\t\t\t\t\t\n",
      "Running CD16 1.0 [0.017437714405862902, 0.0032108197145691614, 0.005827361691958369, 0.0034276290867762474, 0.017140592104324053]\t\t\t\t\t\t\t\t\t\n",
      "Running CD16 100.0 [0.017437714405862902, 0.0032108197145691614, 0.005827361691958369, 0.0034276290867762474, 0.017140592104324053]\t\t\t\t\t\t\t\t\t\n",
      "Running autofluor 1.0 [0.017437714405862902, 0.0032108197145691614, 0.005827361691958369, 0.0034276290867762474, 0.017140592104324053]\t\t\t\t\t\t\t\t\t\n",
      "Running autofluor 100.0 [0.017437714405862902, 0.0032108197145691614, 0.005827361691958369, 0.0034276290867762474, 0.017140592104324053]\t\t\t\t\t\t\t\t\t\n",
      "1262: \tloss: 32.616\trel_error: 0.0005\t\t-0.0  -0.0  -0.0  -0.0  -0.0  -0.0  \t\t\t\t\r"
     ]
    }
   ],
   "source": [
    "experiment_path = '/home/henry/leukosight_data/demixing_results/single_marker_data_all_marker_model/'\n",
    "\n",
    "#compute weighting based on projection onto first singular vector\n",
    "unmix_spectrum = np.array([unmix_channel_spectra[name] * unmix_channel_brightness[name] for name in unmixed_channel_names])\n",
    "u, s, vh = np.linalg.svd(unmix_spectrum, full_matrices=False)\n",
    "first_vec = np.abs(vh[0])\n",
    "weightings = [first_vec @ unmix_channel_spectra[name] / unmix_channel_brightness[name]\n",
    "         for name in unmixed_channel_names]\n",
    "\n",
    "for single_marker in single_markers:\n",
    "    spectra_names = unmixed_channel_names\n",
    "    spectra = np.stack([unmix_channel_spectra[c] for c in spectra_names], axis=0)\n",
    "\n",
    "    params = [\n",
    "#         (single_marker, 1e-2, weightings),\n",
    "#         (single_marker, 1e-1, weightings),\n",
    "        (single_marker, 1e0, weightings),\n",
    "         (single_marker, 1e2, weightings),\n",
    "    ]\n",
    "\n",
    "    for stain_antibodies, l1_reg, reweighting in params:\n",
    "        print('Running {} {} {}\\t\\t\\t\\t\\t\\t\\t\\t\\t'.format(stain_antibodies, l1_reg, reweighting))\n",
    "        run_experiment(spectra, spectra_names, bsccm, mixed_data, stain_antibodies, selections, reweighting, l1_reg, \n",
    "                       scatter_fig, scatter_ax,  path = experiment_path, callback_every=5000)\n"
   ]
  },
  {
   "cell_type": "code",
   "execution_count": 24,
   "metadata": {},
   "outputs": [
    {
     "data": {
      "application/vnd.jupyter.widget-view+json": {
       "model_id": "",
       "version_major": 2,
       "version_minor": 0
      },
      "text/plain": [
       "Canvas(toolbar=Toolbar(toolitems=[('Home', 'Reset original view', 'home', 'home'), ('Back', 'Back to previous …"
      ]
     },
     "metadata": {},
     "output_type": "display_data"
    },
    {
     "data": {
      "application/vnd.jupyter.widget-view+json": {
       "model_id": "",
       "version_major": 2,
       "version_minor": 0
      },
      "text/plain": [
       "HBox(children=(Dropdown(description='Antibody:', options=('HLA-DR', 'autofluor', 'CD123', 'CD56', 'CD19', 'CD3…"
      ]
     },
     "metadata": {},
     "output_type": "display_data"
    },
    {
     "name": "stdout",
     "output_type": "stream",
     "text": [
      "/home/henry/leukosight_data/demixing_results/single_marker_data_all_marker_model/HLA-DR__0.1__0.02-0.00-0.01-0.00-0.02.png\n"
     ]
    }
   ],
   "source": [
    "show_experiment_results('/home/henry/leukosight_data/demixing_results/single_marker_data_all_marker_model/')"
   ]
  },
  {
   "cell_type": "markdown",
   "metadata": {},
   "source": [
    "### Experiment for single marker spectra, all_marker model (No autofluor)"
   ]
  },
  {
   "cell_type": "code",
   "execution_count": 38,
   "metadata": {},
   "outputs": [
    {
     "data": {
      "application/vnd.jupyter.widget-view+json": {
       "model_id": "699822ebd3954137bce4e9690094e1de",
       "version_major": 2,
       "version_minor": 0
      },
      "text/plain": [
       "Canvas(toolbar=Toolbar(toolitems=[('Home', 'Reset original view', 'home', 'home'), ('Back', 'Back to previous …"
      ]
     },
     "metadata": {},
     "output_type": "display_data"
    }
   ],
   "source": [
    "scatter_fig, scatter_ax = plt.subplots(1, 4, figsize=(15, 2.5))"
   ]
  },
  {
   "cell_type": "code",
   "execution_count": 39,
   "metadata": {},
   "outputs": [
    {
     "name": "stdout",
     "output_type": "stream",
     "text": [
      "Running CD123 0.7 [0.017437714405862902, 0.0032108197145691614, 0.005827361691958369, 0.0034276290867762474, 0.017140592104324053]\t\t\t\t\t\t\t\t\t\n",
      "Running CD3 0.7 [0.017437714405862902, 0.0032108197145691614, 0.005827361691958369, 0.0034276290867762474, 0.017140592104324053]\t\t\t\t\t\t\t\t\t\n",
      "Running CD19 0.7 [0.017437714405862902, 0.0032108197145691614, 0.005827361691958369, 0.0034276290867762474, 0.017140592104324053]\t\t\t\t\t\t\t\t\t\n",
      "Running CD56 0.7 [0.017437714405862902, 0.0032108197145691614, 0.005827361691958369, 0.0034276290867762474, 0.017140592104324053]\t\t\t\t\t\t\t\t\t\n",
      "Running HLA-DR 0.7 [0.017437714405862902, 0.0032108197145691614, 0.005827361691958369, 0.0034276290867762474, 0.017140592104324053]\t\t\t\t\t\t\t\t\t\n",
      "Running CD45 0.7 [0.017437714405862902, 0.0032108197145691614, 0.005827361691958369, 0.0034276290867762474, 0.017140592104324053]\t\t\t\t\t\t\t\t\t\n",
      "Running CD14 0.7 [0.017437714405862902, 0.0032108197145691614, 0.005827361691958369, 0.0034276290867762474, 0.017140592104324053]\t\t\t\t\t\t\t\t\t\n",
      "Running CD16 0.7 [0.017437714405862902, 0.0032108197145691614, 0.005827361691958369, 0.0034276290867762474, 0.017140592104324053]\t\t\t\t\t\t\t\t\t\n",
      "4281: \tloss: 7.805\trel_error: 0.0005\t\t-0.0  7.5  3.2  2.2  -0.0  13.9  \t\t\t\t\t\r"
     ]
    }
   ],
   "source": [
    "experiment_path = '/home/henry/leukosight_data/demixing_results/single_marker_data_all_marker_model_no_af/'\n",
    "\n",
    "#compute weighting based on projection onto first singular vector\n",
    "unmix_spectrum = np.array([unmix_channel_spectra[name] * unmix_channel_brightness[name] for name in unmixed_channel_names])\n",
    "u, s, vh = np.linalg.svd(unmix_spectrum, full_matrices=False)\n",
    "first_vec = np.abs(vh[0])\n",
    "weightings = [first_vec @ unmix_channel_spectra[name] / unmix_channel_brightness[name]\n",
    "         for name in unmixed_channel_names]\n",
    "\n",
    "for single_marker in single_markers[:-1]:\n",
    "    spectra_names = unmixed_channel_names[:-1]\n",
    "    spectra = np.stack([unmix_channel_spectra[c] for c in spectra_names], axis=0)\n",
    "\n",
    "    params = [\n",
    "#         (single_marker, 1e-2, weightings),\n",
    "#         (single_marker, 1e-1, weightings),\n",
    "        (single_marker, 7e-1, weightings),\n",
    "#          (single_marker, 1e2, weightings),\n",
    "    ]\n",
    "\n",
    "    for stain_antibodies, l1_reg, reweighting in params:\n",
    "        print('Running {} {} {}\\t\\t\\t\\t\\t\\t\\t\\t\\t'.format(stain_antibodies, l1_reg, reweighting))\n",
    "        run_experiment(spectra, spectra_names, bsccm, mixed_data, stain_antibodies, selections, reweighting, l1_reg, \n",
    "                       scatter_fig, scatter_ax,  path = experiment_path, callback_every=5000)"
   ]
  },
  {
   "cell_type": "code",
   "execution_count": 35,
   "metadata": {
    "collapsed": true,
    "jupyter": {
     "outputs_hidden": true
    },
    "tags": []
   },
   "outputs": [
    {
     "data": {
      "application/vnd.jupyter.widget-view+json": {
       "model_id": "aeab2c4d57564f9aaaa18dab29c8746d",
       "version_major": 2,
       "version_minor": 0
      },
      "text/plain": [
       "Canvas(toolbar=Toolbar(toolitems=[('Home', 'Reset original view', 'home', 'home'), ('Back', 'Back to previous …"
      ]
     },
     "metadata": {},
     "output_type": "display_data"
    },
    {
     "data": {
      "application/vnd.jupyter.widget-view+json": {
       "model_id": "d4996b3e637141579d68327f2857a635",
       "version_major": 2,
       "version_minor": 0
      },
      "text/plain": [
       "HBox(children=(Dropdown(description='Antibody:', options=('HLA-DR', 'CD123', 'CD56', 'CD19', 'CD3', 'CD16', 'C…"
      ]
     },
     "metadata": {},
     "output_type": "display_data"
    },
    {
     "name": "stdout",
     "output_type": "stream",
     "text": [
      "/home/henry/leukosight_data/demixing_results/single_marker_data_all_marker_model_no_af/HLA-DR__0.7__0.02-0.00-0.01-0.00-0.02.png\n"
     ]
    }
   ],
   "source": [
    "show_experiment_results('/home/henry/leukosight_data/demixing_results/single_marker_data_all_marker_model_no_af/')"
   ]
  },
  {
   "cell_type": "code",
   "execution_count": 34,
   "metadata": {},
   "outputs": [
    {
     "data": {
      "text/plain": [
       "['CD123', 'CD3', 'CD19', 'CD56', 'HLA-DR', 'CD45', 'CD14', 'CD16', 'autofluor']"
      ]
     },
     "execution_count": 34,
     "metadata": {},
     "output_type": "execute_result"
    }
   ],
   "source": [
    "single_markers"
   ]
  }
 ],
 "metadata": {
  "kernelspec": {
   "display_name": "Python 3",
   "language": "python",
   "name": "python3"
  },
  "language_info": {
   "codemirror_mode": {
    "name": "ipython",
    "version": 3
   },
   "file_extension": ".py",
   "mimetype": "text/x-python",
   "name": "python",
   "nbconvert_exporter": "python",
   "pygments_lexer": "ipython3",
   "version": "3.8.5"
  }
 },
 "nbformat": 4,
 "nbformat_minor": 4
}
