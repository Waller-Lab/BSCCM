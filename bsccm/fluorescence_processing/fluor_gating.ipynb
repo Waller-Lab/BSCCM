{
 "cells": [
  {
   "cell_type": "markdown",
   "metadata": {},
   "source": [
    "# Gating of shading corrected fluoresnce\n",
    "Use this notebook to select popluations of cells with a single fluorescent marker, so that they can be used in a subsequent demixing step"
   ]
  },
  {
   "cell_type": "code",
   "execution_count": 5,
   "metadata": {},
   "outputs": [
    {
     "name": "stdout",
     "output_type": "stream",
     "text": [
      "The autoreload extension is already loaded. To reload it, use:\n",
      "  %reload_ext autoreload\n"
     ]
    }
   ],
   "source": [
    "%matplotlib widget\n",
    "%load_ext autoreload\n",
    "%autoreload 2\n",
    "\n",
    "from fluorescence_processing.gating_util import ScatterSelectorGating\n",
    "from bsccm import BSCCM\n",
    "from pathlib import Path\n",
    "\n",
    "bsccm = BSCCM(str(Path.home()) + '/BSCCM_local/BSCCM/')\n"
   ]
  },
  {
   "cell_type": "code",
   "execution_count": 7,
   "metadata": {},
   "outputs": [
    {
     "data": {
      "application/vnd.jupyter.widget-view+json": {
       "model_id": "d743e5781e3a41b189302dea5ba8d88a",
       "version_major": 2,
       "version_minor": 0
      },
      "text/plain": [
       "HBox(children=(Dropdown(description='antibodies:', options=('CD45', 'CD123', 'unstained', 'CD19', 'CD56', 'all…"
      ]
     },
     "metadata": {},
     "output_type": "display_data"
    },
    {
     "data": {
      "application/vnd.jupyter.widget-view+json": {
       "model_id": "a471f99bcdc840ddb76d97152dc8c15d",
       "version_major": 2,
       "version_minor": 0
      },
      "text/plain": [
       "Canvas(toolbar=Toolbar(toolitems=[('Home', 'Reset original view', 'home', 'home'), ('Back', 'Back to previous …"
      ]
     },
     "metadata": {},
     "output_type": "display_data"
    },
    {
     "data": {
      "application/vnd.jupyter.widget-view+json": {
       "model_id": "80e8b871b85c48a59aedceae75e1c711",
       "version_major": 2,
       "version_minor": 0
      },
      "text/plain": [
       "interactive(children=(ToggleButtons(description='Plot_index', options=(), value=None), ToggleButtons(descripti…"
      ]
     },
     "metadata": {},
     "output_type": "display_data"
    },
    {
     "data": {
      "application/vnd.jupyter.widget-view+json": {
       "model_id": "e3844661b0f7457f814e319aead3ff78",
       "version_major": 2,
       "version_minor": 0
      },
      "text/plain": [
       "HBox(children=(Button(description='Gate selection', style=ButtonStyle()), Button(description='Clear selection'…"
      ]
     },
     "metadata": {},
     "output_type": "display_data"
    },
    {
     "data": {
      "application/vnd.jupyter.widget-view+json": {
       "model_id": "2129f1edc1434812b96c5eef6e903b9d",
       "version_major": 2,
       "version_minor": 0
      },
      "text/plain": [
       "HBox(children=(Text(value='name', placeholder=''), Button(description='Save selection', style=ButtonStyle()), …"
      ]
     },
     "metadata": {},
     "output_type": "display_data"
    },
    {
     "data": {
      "application/vnd.jupyter.widget-view+json": {
       "model_id": "1a48b80b622c4584b439b3c6220fd7f7",
       "version_major": 2,
       "version_minor": 0
      },
      "text/plain": [
       "HBox(children=(ToggleButton(value=False, description='Manual axes'), FloatRangeSlider(value=(0.0, 1.0), contin…"
      ]
     },
     "metadata": {},
     "output_type": "display_data"
    },
    {
     "data": {
      "application/vnd.jupyter.widget-view+json": {
       "model_id": "def568346e464219bcbf94b61d402ed2",
       "version_major": 2,
       "version_minor": 0
      },
      "text/plain": [
       "HBox(children=(Text(value='Export_name.pdf', placeholder=''), Button(description='Export figure', style=Button…"
      ]
     },
     "metadata": {},
     "output_type": "display_data"
    },
    {
     "data": {
      "application/vnd.jupyter.widget-view+json": {
       "model_id": "066433fea3624c6a9ef6a747cb97c0e4",
       "version_major": 2,
       "version_minor": 0
      },
      "text/plain": [
       "Canvas(toolbar=Toolbar(toolitems=[('Home', 'Reset original view', 'home', 'home'), ('Back', 'Back to previous …"
      ]
     },
     "metadata": {},
     "output_type": "display_data"
    },
    {
     "data": {
      "application/vnd.jupyter.widget-view+json": {
       "model_id": "d5615d5ab8a04aefbf06d400ebf090e0",
       "version_major": 2,
       "version_minor": 0
      },
      "text/plain": [
       "HBox(children=(Text(value='Export_name.pdf', placeholder=''), Button(description='Export figure', style=Button…"
      ]
     },
     "metadata": {},
     "output_type": "display_data"
    },
    {
     "data": {
      "text/plain": [
       "<fluorescence_processing.gating_util.ScatterSelectorGating at 0x7f12e1b97280>"
      ]
     },
     "execution_count": 7,
     "metadata": {},
     "output_type": "execute_result"
    }
   ],
   "source": [
    "channel_names = ['Fluor_426-446_shading_corrected', \n",
    "       'Fluor_500-550_shading_corrected', \n",
    "       'Fluor_550-570_shading_corrected', \n",
    "       'Fluor_585-625_shading_corrected', \n",
    "       'Fluor_627-673_shading_corrected', \n",
    "       'Fluor_690-_shading_corrected']\n",
    "\n",
    "# For exporting figures\n",
    "export_dir = '/home/henry/leukosight_data/figures/demixing/'\n",
    "# For making image montages\n",
    "read_image_fn = lambda index: bsccm.read_image(index, contrast_type='dpc')\n",
    "\n",
    "ScatterSelectorGating(bsccm=bsccm, channel_names=channel_names, num_cols=1, \n",
    "                  export_dir=export_dir, read_image_fn=read_image_fn)"
   ]
  }
 ],
 "metadata": {
  "kernelspec": {
   "display_name": "Python 3",
   "language": "python",
   "name": "python3"
  },
  "language_info": {
   "codemirror_mode": {
    "name": "ipython",
    "version": 3
   },
   "file_extension": ".py",
   "mimetype": "text/x-python",
   "name": "python",
   "nbconvert_exporter": "python",
   "pygments_lexer": "ipython3",
   "version": "3.6.9"
  }
 },
 "nbformat": 4,
 "nbformat_minor": 4
}
