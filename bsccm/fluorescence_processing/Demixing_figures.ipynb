{
 "cells": [
  {
   "cell_type": "code",
   "execution_count": 132,
   "metadata": {},
   "outputs": [
    {
     "name": "stdout",
     "output_type": "stream",
     "text": [
      "The autoreload extension is already loaded. To reload it, use:\n",
      "  %reload_ext autoreload\n"
     ]
    }
   ],
   "source": [
    "%matplotlib widget\n",
    "%load_ext autoreload\n",
    "%autoreload 2\n",
    "\n",
    "import matplotlib\n",
    "matplotlib.rcParams['pdf.fonttype'] = 42\n",
    "matplotlib.rcParams['ps.fonttype'] = 42\n",
    "\n",
    "import pandas as pd\n",
    "import matplotlib as mpl\n",
    "import time\n",
    "import matplotlib.pyplot as plt\n",
    "from matplotlib.path import Path as mplPath\n",
    "import matplotlib.cm as cm\n",
    "import matplotlib.patches as patches\n",
    "from scipy import stats\n",
    "import math\n",
    "import numpy as np\n",
    "from scipy import interpolate\n",
    "from pathlib import Path\n",
    "import os \n",
    "\n",
    "from gating_util import ScatterSelectorGating\n",
    "\n",
    "from bsccm import BSCCM\n",
    "from demixing_util import *\n",
    "\n",
    "bsccm_with_spectra = BSCCM(str(Path.home()) + '/BSCCM_local/BSCCM/')\n",
    "\n",
    "#containing the data to demix\n",
    "bsccm_with_data = BSCCM(str(Path.home()) + '/BSCCM_local/BSCCM/')\n",
    "# bsccm_with_data = BSCCM(str(Path.home()) + '/BSCCM_local/BSCCM-coherent/')\n",
    "\n",
    "\n",
    "dataframe_saving_fullpath = str(Path.home()) + '/BSCCM_local/BSCCM/BSCCM_surface_markers.csv'\n",
    "# For exporting figures\n",
    "export_dir = '/home/henry/leukosight_data/figures/demixing'\n",
    "\n",
    "\n",
    "single_markers = ['CD123', 'CD3', 'CD19', 'CD56', 'HLA-DR', 'CD45', 'CD14', 'CD16', 'autofluor']\n",
    "\n",
    "# The names of the fluorescent measurements put into a database\n",
    "channel_names = ['Fluor_426-446_shading_corrected', \n",
    "       'Fluor_500-550_shading_corrected', \n",
    "       'Fluor_550-570_shading_corrected', \n",
    "       'Fluor_585-625_shading_corrected', \n",
    "       'Fluor_627-673_shading_corrected', \n",
    "       'Fluor_690-_shading_corrected']\n",
    "readable_channel_names = ['426-446 nm', \n",
    "       '500-550 nm', \n",
    "       '550-570 nm', \n",
    "       '585-625 nm', \n",
    "       '627-673 nm', \n",
    "       '>690 nm']\n",
    "\n",
    "selections = {batch: ['selection_example_{}_positive_cells_batch_{}'.format(m, batch) \n",
    "               for m in single_markers] for batch in range(2)}\n",
    "\n",
    "unmixed_channel_names = ['CD123/HLA-DR/CD14', 'CD3/CD19/CD56', 'CD45', 'CD16', 'autofluor']\n",
    "\n",
    "    \n",
    "# Prepare the raw data\n",
    "mixed_data = bsccm_with_data.surface_marker_dataframe[channel_names].to_numpy()\n",
    "#Make everything positive\n",
    "mixed_data -= (np.min(mixed_data, axis=0) - 1e-2)\n"
   ]
  },
  {
   "cell_type": "markdown",
   "metadata": {},
   "source": [
    "# Selection of single spectra populations"
   ]
  },
  {
   "cell_type": "code",
   "execution_count": 2,
   "metadata": {},
   "outputs": [
    {
     "data": {
      "application/vnd.jupyter.widget-view+json": {
       "model_id": "c2b52b1617704194beadf797fe3c4d34",
       "version_major": 2,
       "version_minor": 0
      },
      "text/plain": [
       "Canvas(toolbar=Toolbar(toolitems=[('Home', 'Reset original view', 'home', 'home'), ('Back', 'Back to previous …"
      ]
     },
     "metadata": {},
     "output_type": "display_data"
    },
    {
     "data": {
      "application/vnd.jupyter.widget-view+json": {
       "model_id": "44354c9d579940738512541394926ea2",
       "version_major": 2,
       "version_minor": 0
      },
      "text/plain": [
       "Canvas(toolbar=Toolbar(toolitems=[('Home', 'Reset original view', 'home', 'home'), ('Back', 'Back to previous …"
      ]
     },
     "metadata": {},
     "output_type": "display_data"
    }
   ],
   "source": [
    "batch = 0\n",
    "antibodies = 'CD3'\n",
    "mixed_ch_index_0 = 0\n",
    "mixed_ch_index_1 = 1\n",
    "\n",
    "mask = np.logical_and(bsccm_with_data.index_dataframe.antibodies == 'unstained',\n",
    "      bsccm_with_data.index_dataframe.batch == batch)\n",
    "\n",
    "data, marked_mask = load_mixed_data_subset(mixed_data, antibodies, selections, bsccm_with_data, batch=batch)\n",
    "plt.figure()\n",
    "plt.scatter(mixed_data[mask][:, mixed_ch_index_0], mixed_data[mask][:, mixed_ch_index_1], \n",
    "            color='black', s=15, alpha=0.5, edgecolors='None', rasterized=True)\n",
    "\n",
    "plt.xlabel(channel_names[mixed_ch_index_0])\n",
    "plt.ylabel(channel_names[mixed_ch_index_1])\n",
    "plt.title('Unstained')\n",
    "plt.xlim([35, 67])\n",
    "plt.ylim([20, 370])\n",
    "plt.savefig(export_dir + '/population_selection_unstained.pdf', transparent=True, dpi=300)   \n",
    "\n",
    "\n",
    "mask = np.logical_and(bsccm_with_data.index_dataframe.antibodies == antibodies,\n",
    "      bsccm_with_data.index_dataframe.batch == batch)\n",
    "\n",
    "data, marked_mask = load_mixed_data_subset(mixed_data, antibodies, selections, bsccm_with_data, batch=batch)\n",
    "plt.figure()\n",
    "plt.scatter(mixed_data[mask][np.logical_not(marked_mask), mixed_ch_index_0],\n",
    "            mixed_data[mask][np.logical_not(marked_mask), mixed_ch_index_1], \n",
    "            color='black', s=15, alpha=0.4, edgecolors='None', rasterized=True)\n",
    "plt.scatter(mixed_data[mask][marked_mask, mixed_ch_index_0], mixed_data[mask][marked_mask, mixed_ch_index_1], \n",
    "            color='lime', s=15, alpha=0.4, edgecolors='None', rasterized=True)\n",
    "\n",
    "plt.scatter(np.mean(mixed_data[mask][marked_mask, mixed_ch_index_0]),\n",
    "            np.mean(mixed_data[mask][marked_mask, mixed_ch_index_1]), \n",
    "            c='red')\n",
    "\n",
    "plt.scatter(np.mean(mixed_data[mask][np.logical_not(marked_mask), mixed_ch_index_0]),\n",
    "            np.mean(mixed_data[mask][np.logical_not(marked_mask), mixed_ch_index_1]),\n",
    "            c='red')\n",
    "\n",
    "plt.xlabel(readable_channel_names[mixed_ch_index_0])\n",
    "plt.ylabel(readable_channel_names[mixed_ch_index_1])\n",
    "plt.title('Antibody stained')\n",
    "plt.xlim([35, 67])\n",
    "plt.ylim([20, 370])\n",
    "plt.savefig(export_dir + '/population_selection_CD3_marked.pdf', dpi=300, transparent=True)   "
   ]
  },
  {
   "cell_type": "markdown",
   "metadata": {},
   "source": [
    "# Figuring our demixing matrix"
   ]
  },
  {
   "cell_type": "code",
   "execution_count": 147,
   "metadata": {
    "tags": []
   },
   "outputs": [
    {
     "data": {
      "application/vnd.jupyter.widget-view+json": {
       "model_id": "5b6bde26f16f4a91aac34394e6515314",
       "version_major": 2,
       "version_minor": 0
      },
      "text/plain": [
       "Canvas(toolbar=Toolbar(toolitems=[('Home', 'Reset original view', 'home', 'home'), ('Back', 'Back to previous …"
      ]
     },
     "metadata": {},
     "output_type": "display_data"
    },
    {
     "name": "stderr",
     "output_type": "stream",
     "text": [
      "<ipython-input-147-9c196f25fa69>:11: UserWarning: FixedFormatter should only be used together with FixedLocator\n",
      "  ax.set_yticklabels([''] + single_markers)\n"
     ]
    },
    {
     "data": {
      "application/vnd.jupyter.widget-view+json": {
       "model_id": "9d8c4449a3f14055a6463ed65107b9d9",
       "version_major": 2,
       "version_minor": 0
      },
      "text/plain": [
       "Canvas(toolbar=Toolbar(toolitems=[('Home', 'Reset original view', 'home', 'home'), ('Back', 'Back to previous …"
      ]
     },
     "metadata": {},
     "output_type": "display_data"
    }
   ],
   "source": [
    "single_marker_unmix_channel_spectra, single_marker_unmix_channel_brightness, unmix_channel_spectra, unmix_channel_brightness = \\\n",
    "    compute_spectra(bsccm_with_spectra, channel_names, unmixed_channel_names, single_markers, batch=batch)\n",
    "\n",
    "\n",
    "spectra = np.array([single_marker_unmix_channel_spectra[channel] for channel in single_markers])\n",
    "\n",
    "# spectra /= np.linalg.norm(spectra, axis=0)\n",
    "\n",
    "fig, ax = plt.subplots()\n",
    "plt.imshow(spectra, cmap='inferno')\n",
    "ax.set_yticklabels([''] + single_markers)\n",
    "ax.set_xticks(range(6))\n",
    "ax.set_xticklabels(readable_channel_names)\n",
    "ax.tick_params(axis='x', labelrotation=-45 )\n",
    "plt.colorbar()\n",
    "\n",
    "plt.savefig(export_dir + '/single_ab_mixing_matrix.pdf', transparent=True, dpi=300)\n",
    "\n",
    "\n",
    "fig, ax = plt.subplots()\n",
    "brightness = np.array([[single_marker_unmix_channel_brightness[channel] for channel in single_markers]]).T\n",
    "brightness = brightness / np.min(brightness)\n",
    "plt.imshow(brightness, cmap='inferno')\n",
    "plt.colorbar()\n",
    "# ax.set_yticklabels([''] + single_markers)\n",
    "# ax.set_xticks(range(6))\n",
    "# ax.set_xticklabels(readable_channel_names)\n",
    "# ax.tick_params(axis='x', labelrotation=-45 )\n",
    "plt.savefig(export_dir + '/spectra_brightness.pdf', transparent=True, dpi=300)\n"
   ]
  },
  {
   "cell_type": "markdown",
   "metadata": {},
   "source": [
    "# Demixing results with different regularization tuning"
   ]
  },
  {
   "cell_type": "code",
   "execution_count": 122,
   "metadata": {},
   "outputs": [
    {
     "data": {
      "application/vnd.jupyter.widget-view+json": {
       "model_id": "2f2a790d9ddc413f8642b10a8a18fe51",
       "version_major": 2,
       "version_minor": 0
      },
      "text/plain": [
       "Canvas(toolbar=Toolbar(toolitems=[('Home', 'Reset original view', 'home', 'home'), ('Back', 'Back to previous …"
      ]
     },
     "metadata": {},
     "output_type": "display_data"
    }
   ],
   "source": [
    "single_marker_unmix_channel_spectra, single_marker_unmix_channel_brightness, unmix_channel_spectra, unmix_channel_brightness = \\\n",
    "    compute_spectra(bsccm_with_spectra, channel_names, spectra_names, single_markers, batch=batch)\n",
    "\n",
    "spectra_names = ['CD3', 'autofluor']\n",
    "spectra = np.array([single_marker_unmix_channel_spectra[channel] for channel in spectra_names])\n",
    "\n",
    "fig, ax = plt.subplots()\n",
    "plt.imshow(spectra, cmap='inferno')\n",
    "ax.set_yticks(range(2))\n",
    "ax.set_yticklabels(spectra_names)\n",
    "ax.set_xticks(range(6))\n",
    "ax.set_xticklabels(readable_channel_names)\n",
    "ax.tick_params(axis='x', labelrotation=-45 )\n",
    "\n",
    "plt.savefig(export_dir + '/two_spectrum_mixing_matrix.pdf', transparent=True)\n"
   ]
  },
  {
   "cell_type": "code",
   "execution_count": 126,
   "metadata": {},
   "outputs": [
    {
     "data": {
      "text/plain": [
       "['426-446 nm',\n",
       " '500-550 nm',\n",
       " '550-570 nm',\n",
       " '585-625 nm',\n",
       " '627-673 nm',\n",
       " '>690 nm']"
      ]
     },
     "execution_count": 126,
     "metadata": {},
     "output_type": "execute_result"
    }
   ],
   "source": [
    "readable_channel_names"
   ]
  },
  {
   "cell_type": "code",
   "execution_count": 134,
   "metadata": {},
   "outputs": [
    {
     "name": "stdout",
     "output_type": "stream",
     "text": [
      "CD3 0 \t\t\t\t\t\t\t\n"
     ]
    },
    {
     "data": {
      "application/vnd.jupyter.widget-view+json": {
       "model_id": "ccf99e7a2d854a939738c72dafdd022c",
       "version_major": 2,
       "version_minor": 0
      },
      "text/plain": [
       "Canvas(toolbar=Toolbar(toolitems=[('Home', 'Reset original view', 'home', 'home'), ('Back', 'Back to previous …"
      ]
     },
     "metadata": {},
     "output_type": "display_data"
    },
    {
     "data": {
      "application/vnd.jupyter.widget-view+json": {
       "model_id": "1d7e2cdf2b93475fbca9b2cb08920264",
       "version_major": 2,
       "version_minor": 0
      },
      "text/plain": [
       "Canvas(toolbar=Toolbar(toolitems=[('Home', 'Reset original view', 'home', 'home'), ('Back', 'Back to previous …"
      ]
     },
     "metadata": {},
     "output_type": "display_data"
    },
    {
     "name": "stdout",
     "output_type": "stream",
     "text": [
      "112: \tloss: 393.720\trel_error: 0.0005\t\t8.4  -0.0  -0.0  -0.0  -0.0  -0.0  \t\t\t\t\r"
     ]
    }
   ],
   "source": [
    "batch = 0\n",
    "antibodies = 'CD3'\n",
    "\n",
    "spectra_names = ['CD3', 'autofluor']\n",
    "\n",
    "single_marker_unmix_channel_spectra, single_marker_unmix_channel_brightness, unmix_channel_spectra, unmix_channel_brightness = \\\n",
    "    compute_spectra(bsccm_with_spectra, channel_names, spectra_names, single_markers, batch=batch)\n",
    "\n",
    "print(antibodies, batch, '\\t\\t\\t\\t\\t\\t\\t')\n",
    "mask = np.logical_and(bsccm_with_data.index_dataframe.antibodies == antibodies,\n",
    "      bsccm_with_data.index_dataframe.batch == batch)\n",
    "if antibodies == 'unstained':\n",
    "    spectra_names = ['autofluor'] # single spectrum\n",
    "    spectra = np.stack([single_marker_unmix_channel_spectra[c] for c in spectra_names], axis=0)\n",
    "    reweighting = [1]\n",
    "else:\n",
    "    spectra_names = [antibodies, 'autofluor']\n",
    "    spectra = np.stack([single_marker_unmix_channel_spectra[c] for c in spectra_names], axis=0)\n",
    "    autofluor_mag = single_marker_unmix_channel_brightness['autofluor']\n",
    "    marker_mag = single_marker_unmix_channel_brightness[antibodies]\n",
    "    autofluor_vec = single_marker_unmix_channel_spectra['autofluor']\n",
    "    marker_vec = single_marker_unmix_channel_spectra[antibodies]\n",
    "    weighted_proj = (autofluor_vec @ marker_vec) / marker_mag\n",
    "\n",
    "    reweighting = [weighted_proj, 1]\n",
    "\n",
    "data, marked_mask = load_mixed_data_subset(mixed_data, antibodies, selections, bsccm_with_data, batch=batch)\n",
    "plt.figure()\n",
    "plt.scatter(mixed_data[mask][np.logical_not(marked_mask), mixed_ch_index_0], \n",
    "            mixed_data[mask][np.logical_not(marked_mask), mixed_ch_index_1], \n",
    "            color='black', s=15, alpha=0.5, edgecolors='None', rasterized=True)\n",
    "plt.scatter(mixed_data[mask][marked_mask, mixed_ch_index_0], \n",
    "            mixed_data[mask][marked_mask, mixed_ch_index_1], \n",
    "            color='lime', s=15, alpha=0.5, edgecolors='None', rasterized=True)\n",
    "\n",
    "plt.xlabel(readable_channel_names[mixed_ch_index_0])\n",
    "plt.ylabel(readable_channel_names[mixed_ch_index_1])\n",
    "plt.title('Fluorescence')\n",
    "plt.savefig(export_dir + '/raw_fluor_{}.pdf'.format(antibodies), transparent=True, dpi=300)\n",
    "    \n",
    "fig, ax = plt.subplots(3,1, figsize=(4,12))\n",
    "for index, l1_reg, save_name in zip(range(3), [7e-3, 7e-1, 7e1], ('Under-regularized', \n",
    "                                                 'Optimally-regularized',\n",
    "                                                'Over-regularized')):\n",
    "    unmixed, background_spectrum = do_factorization(mixed_data[mask], spectra,\n",
    "            l1_reg = l1_reg,\n",
    "            momentum=0.9,\n",
    "            learning_rate = 1e3,\n",
    "            background_learning_rate=1e-1,\n",
    "            reweighting=reweighting)\n",
    "\n",
    "\n",
    "    mixed_ch_index_0 = 0\n",
    "    mixed_ch_index_1 = 1\n",
    "\n",
    "    unmixed_ch_index_0 = 1\n",
    "    unmixed_ch_index_1 = 0\n",
    "\n",
    "  \n",
    "\n",
    "    ax[index].scatter(unmixed[np.logical_not(marked_mask), unmixed_ch_index_0], \n",
    "                      unmixed[np.logical_not(marked_mask), unmixed_ch_index_1], \n",
    "                color='black', s=15, alpha=0.5, edgecolors='None', rasterized=True)\n",
    "    ax[index].scatter(unmixed[marked_mask, unmixed_ch_index_0],\n",
    "                      unmixed[marked_mask, unmixed_ch_index_1], \n",
    "                color='lime', s=15, alpha=0.5, edgecolors='None', rasterized=True)\n",
    "\n",
    "    ax[index].set_xlabel('Autofluorescnece')\n",
    "    ax[index].set_ylabel(antibodies)\n",
    "    ax[index].set_title('Unmixed ({})'.format(save_name))\n",
    "plt.savefig(export_dir + '/{}_unmixed.pdf'.format(save_name), transparent=True, dpi=300)"
   ]
  },
  {
   "cell_type": "markdown",
   "metadata": {},
   "source": [
    "# Two spectra vs all spectra model\n"
   ]
  },
  {
   "cell_type": "code",
   "execution_count": 131,
   "metadata": {},
   "outputs": [
    {
     "data": {
      "application/vnd.jupyter.widget-view+json": {
       "model_id": "6f2ff870a9c84c848a3134ccc36e9457",
       "version_major": 2,
       "version_minor": 0
      },
      "text/plain": [
       "Canvas(toolbar=Toolbar(toolitems=[('Home', 'Reset original view', 'home', 'home'), ('Back', 'Back to previous …"
      ]
     },
     "metadata": {},
     "output_type": "display_data"
    },
    {
     "name": "stdout",
     "output_type": "stream",
     "text": [
      "4683: \tloss: 20.482\trel_error: 0.0005\t\t-0.0  -0.0  1.9  1.1  2.9  23.2  \t\t\t\t\t\t\r"
     ]
    },
    {
     "name": "stderr",
     "output_type": "stream",
     "text": [
      "/home/henry/anaconda3/lib/python3.8/site-packages/numpy/lib/histograms.py:905: RuntimeWarning: invalid value encountered in true_divide\n",
      "  return n/db/n.sum(), bin_edges\n"
     ]
    }
   ],
   "source": [
    "import matplotlib.gridspec as gridspec\n",
    "\n",
    "y_ax_antibodies = ['CD123', 'CD3', 'CD45', 'CD16',  'all']\n",
    "unmix_channels_to_use = ['CD123/HLA-DR/CD14', 'CD3/CD19/CD56', 'CD45', 'CD16']\n",
    "batch = 0\n",
    "log_plots=False\n",
    "\n",
    "fig = plt.figure(figsize=(8,8))\n",
    "gs = fig.add_gridspec(len(y_ax_antibodies), len(unmix_channels_to_use) + 1,  width_ratios=(7,7,7,7, 4),\n",
    "                      height_ratios=(1,) * len(y_ax_antibodies),\n",
    "                  left=0.1, right=0.9, bottom=0.1, top=0.9,\n",
    "                  wspace=0.05, hspace=0.05)\n",
    "\n",
    "\n",
    "for i, antibodies in enumerate(y_ax_antibodies):\n",
    "\n",
    "    single_marker_unmix_channel_spectra, single_marker_unmix_channel_brightness, unmix_channel_spectra, unmix_channel_brightness = \\\n",
    "        compute_spectra(bsccm_with_spectra, channel_names, unmix_channels_to_use, single_markers, batch=batch)\n",
    "\n",
    "    \n",
    "    spectra = np.stack([unmix_channel_spectra[c] for c in unmix_channels_to_use], axis=0)\n",
    "\n",
    "    #Weight regularization based on projection onto first singular vector\n",
    "    unmix_spectrum = np.array([unmix_channel_spectra[name] * unmix_channel_brightness[name] for name in unmix_channels_to_use])\n",
    "    u, s, vh = np.linalg.svd(unmix_spectrum, full_matrices=False)\n",
    "    first_vec = np.abs(vh[0])\n",
    "    reweighting = [first_vec @ unmix_channel_spectra[name] / unmix_channel_brightness[name]\n",
    "                    for name in unmix_channels_to_use]\n",
    "\n",
    "\n",
    "    mask = np.logical_and(bsccm_with_data.index_dataframe.antibodies == antibodies,\n",
    "          bsccm_with_data.index_dataframe.batch == batch)\n",
    "\n",
    "    if antibodies != 'all':\n",
    "        data, marked_mask = load_mixed_data_subset(mixed_data, antibodies, selections, bsccm_with_data, batch=batch)\n",
    "    else:\n",
    "        marked_mask = np.zeros(np.sum(mask), np.bool)\n",
    "        \n",
    "    l1_reg = 7e-1\n",
    "    unmixed, background_spectrum = do_factorization(mixed_data[mask], spectra,\n",
    "            l1_reg = l1_reg,\n",
    "            momentum=0.9,\n",
    "            learning_rate = 1e3,\n",
    "            background_learning_rate=1e-1,\n",
    "            reweighting=reweighting,\n",
    "#             stopping_error=0.1\n",
    "                            )\n",
    "\n",
    "\n",
    "    show_antibody = antibodies\n",
    "    unmixed_channel_names = ['CD123/HLA-DR/CD14', 'CD3/CD19/CD56', 'CD45', 'CD16']\n",
    "    spectra_names = unmix_channels_to_use\n",
    "    \n",
    "    if np.sum([show_antibody in m for m in unmixed_channel_names]):\n",
    "        marker_index = [show_antibody in m for m in unmixed_channel_names].index(True)\n",
    "        #otherwise just keep it the same for final row with all antibodies\n",
    "    \n",
    "    for j in range(len(unmixed_channel_names)):\n",
    "\n",
    "        if j == 0:\n",
    "            if i == 0:\n",
    "                first_col_ax = fig.add_subplot(gs[i, j])\n",
    "            else:\n",
    "                first_row_ax = fig.axes[j]\n",
    "                first_col_ax = fig.add_subplot(gs[i, j], sharex=first_row_ax)\n",
    "            first_col_ax.set_ylabel(unmixed_channel_names[marker_index])\n",
    "            ax = first_col_ax\n",
    "        else:\n",
    "            if i == 0:\n",
    "                ax = fig.add_subplot(gs[i, j], sharey=first_col_ax)\n",
    "            else:\n",
    "                first_row_ax = fig.axes[j]\n",
    "                ax = fig.add_subplot(gs[i, j], sharex=first_row_ax, sharey=first_col_ax) \n",
    "        if i != len(y_ax_antibodies) - 1:\n",
    "            ax.axes.xaxis.set_visible(False)\n",
    "        else:\n",
    "            ax.set_xlabel(spectra_names[j])\n",
    "\n",
    "        if j !=  0:  \n",
    "            ax.axes.yaxis.set_visible(False)\n",
    "\n",
    "        else:\n",
    "            ax.set_ylabel(show_antibody)\n",
    "            \n",
    "            \n",
    "        if log_plots:\n",
    "            log_data_other = np.log(1e-2 + unmixed[:, j])\n",
    "            log_data_marker = np.log(1e-2 + unmixed[:, marker_index])\n",
    "            ax.scatter(log_data_other[np.logical_not(marked_mask)], \n",
    "                          log_data_marker[np.logical_not(marked_mask)], \n",
    "                s=3, c='k', rasterized=True, alpha=0.5, edgecolors='None',)\n",
    "            ax.scatter(log_data_other[marked_mask], \n",
    "                          log_data_marker[marked_mask], \n",
    "                s=3, c='lime', rasterized=True, alpha=0.5, edgecolors='None',)\n",
    "            #Give good axes in spite of one big outlier\n",
    "#             ax.set_xlim([np.min(log_data_other) -0.5, 1.2 * np.percentile(log_data_other, 99.9)])\n",
    "#             ax.set_ylim([np.min(log_data_marker) - 0.5, 1.2 * np.percentile(log_data_marker, 99.9)])\n",
    "        else:\n",
    "            ax.scatter(\n",
    "                unmixed[np.logical_not(marked_mask), j],\n",
    "                unmixed[np.logical_not(marked_mask), marker_index], \n",
    "                s=3, c='k', rasterized=True, alpha=0.5, edgecolors='None',)\n",
    "            ax.scatter(\n",
    "                unmixed[marked_mask, j], \n",
    "                 unmixed[marked_mask, marker_index], \n",
    "                s=3, c='lime', rasterized=True, alpha=0.5, edgecolors='None',)\n",
    "            #Give good axes in spite of one big outlier\n",
    "#             ax.set_xlim([-1, 1.4 * np.percentile(unmixed[:, j], 99.8)])\n",
    "#             ax.set_ylim([-1, 1.4 * np.percentile(unmixed[:, marker_index], 99.8)])              \n",
    "\n",
    "        \n",
    "                       \n",
    "            \n",
    "    if i == 0:\n",
    "        ax_hist = fig.add_subplot(gs[i, -1], sharey=first_col_ax)\n",
    "    else:\n",
    "        first_row_hist_ax = fig.axes[len(unmix_channels_to_use)]\n",
    "        ax_hist = fig.add_subplot(gs[i, -1], sharey=first_col_ax, sharex=first_row_hist_ax)\n",
    "\n",
    "    if log_plots:\n",
    "        ax_hist.hist(np.log(1e-2 + unmixed[np.logical_not(marked_mask), marker_index]),\n",
    "                           60, color='k', alpha=0.5, log=True, rasterized=True, density=True)\n",
    "        ax_hist.hist(np.log(1e-2 + unmixed[marked_mask, marker_index]), \n",
    "                           60, color='lime', alpha=0.5, log=True, rasterized=True, density=True)\n",
    "    else:\n",
    "        ax_hist.hist(unmixed[marked_mask, marker_index], 60, color='lime', \n",
    "                            alpha=0.5, log=True, orientation='horizontal', rasterized=True, density=True)\n",
    "        ax_hist.hist(unmixed[np.logical_not(marked_mask), marker_index], 60, \n",
    "                            color='k', alpha=0.5, log=True, orientation='horizontal', rasterized=True, density=True)\n",
    "        \n",
    "    ax_hist.axes.yaxis.set_visible(False)\n",
    "    if i == len(y_ax_antibodies) - 1:        \n",
    "        ax_hist.set_xlabel('Density')\n",
    "\n",
    "# make rows and corresponding columns have the same values for limits\n",
    "for i in range(len(y_ax_antibodies) - 1):\n",
    "    x_ax = fig.axes[i]\n",
    "    y_ax = fig.axes[i * len(y_ax_antibodies)]\n",
    "    \n",
    "    new_ax_val = [min(x_ax.get_xlim()[0], y_ax.get_ylim()[0]),\n",
    "                max(x_ax.get_xlim()[1], y_ax.get_ylim()[1])]\n",
    "    x_ax.set_xlim(new_ax_val)\n",
    "    y_ax.set_ylim(new_ax_val)\n",
    "    \n",
    "    \n",
    "        \n",
    "fig.savefig(export_dir + '/multi_marker_unmixed.pdf'.format(antibodies), \n",
    "                transparent=True, dpi=300)"
   ]
  },
  {
   "cell_type": "code",
   "execution_count": 105,
   "metadata": {},
   "outputs": [
    {
     "data": {
      "text/plain": [
       "['CD123', 'CD3', 'CD45', 'CD16', 'all']"
      ]
     },
     "execution_count": 105,
     "metadata": {},
     "output_type": "execute_result"
    }
   ],
   "source": [
    "y_ax_antibodies"
   ]
  },
  {
   "cell_type": "code",
   "execution_count": 106,
   "metadata": {},
   "outputs": [
    {
     "name": "stdout",
     "output_type": "stream",
     "text": [
      "0\n",
      "1\n",
      "2\n",
      "3\n"
     ]
    }
   ],
   "source": []
  },
  {
   "cell_type": "markdown",
   "metadata": {},
   "source": [
    "# Show multi-marker unmixing matrix"
   ]
  },
  {
   "cell_type": "code",
   "execution_count": 9,
   "metadata": {},
   "outputs": [
    {
     "data": {
      "application/vnd.jupyter.widget-view+json": {
       "model_id": "19bfc5fec02d4cfda29b58923910eabf",
       "version_major": 2,
       "version_minor": 0
      },
      "text/plain": [
       "Canvas(toolbar=Toolbar(toolitems=[('Home', 'Reset original view', 'home', 'home'), ('Back', 'Back to previous …"
      ]
     },
     "metadata": {},
     "output_type": "display_data"
    }
   ],
   "source": [
    "single_marker_unmix_channel_spectra, single_marker_unmix_channel_brightness, unmix_channel_spectra, unmix_channel_brightness = \\\n",
    "    compute_spectra(bsccm_with_spectra, channel_names, unmixed_channel_names, single_markers, batch=batch)\n",
    "\n",
    "spectra_names = ['CD123/HLA-DR/CD14', 'CD3/CD19/CD56', 'CD45', 'CD16']\n",
    "\n",
    "spectra = np.array([unmix_channel_spectra[channel] for channel in spectra_names])\n",
    "\n",
    "fig, ax = plt.subplots()\n",
    "plt.imshow(spectra, cmap='inferno')\n",
    "ax.set_yticks(range(4))\n",
    "ax.set_yticklabels(spectra_names)\n",
    "ax.set_xticks(range(6))\n",
    "ax.set_xticklabels(readable_channel_names)\n",
    "ax.tick_params(axis='x', labelrotation=-45 )\n",
    "plt.savefig(export_dir + '/multi_ab_mixing_matrix.pdf', transparent=True)\n"
   ]
  },
  {
   "cell_type": "markdown",
   "metadata": {},
   "source": [
    "# Show raw fluorescnece for four different marked populations"
   ]
  },
  {
   "cell_type": "code",
   "execution_count": 80,
   "metadata": {},
   "outputs": [
    {
     "data": {
      "application/vnd.jupyter.widget-view+json": {
       "model_id": "fca74c0b8c594de2ac135370446ae643",
       "version_major": 2,
       "version_minor": 0
      },
      "text/plain": [
       "Canvas(toolbar=Toolbar(toolitems=[('Home', 'Reset original view', 'home', 'home'), ('Back', 'Back to previous …"
      ]
     },
     "metadata": {},
     "output_type": "display_data"
    }
   ],
   "source": [
    "batch = 0\n",
    "mixed_ch_index_0 = 0\n",
    "mixed_ch_index_1 = 1\n",
    "\n",
    "fig, ax = plt.subplots(5, 1, figsize=(3, 15))\n",
    "\n",
    "for j, antibodies in enumerate(['CD123', 'CD3', 'CD45', 'CD16', 'all']):\n",
    "\n",
    "    mask = np.logical_and(bsccm_with_data.index_dataframe.antibodies == antibodies,\n",
    "          bsccm_with_data.index_dataframe.batch == batch)\n",
    "    \n",
    "    if j == 4:\n",
    "        marked_mask = np.zeros(np.sum(mask), dtype=np.bool)\n",
    "    else:\n",
    "        data, marked_mask = load_mixed_data_subset(mixed_data, antibodies, selections, bsccm_with_data, batch=batch)\n",
    "    ax[j].scatter(mixed_data[mask][np.logical_not(marked_mask), mixed_ch_index_0],\n",
    "                mixed_data[mask][np.logical_not(marked_mask), mixed_ch_index_1], \n",
    "                color='black', s=15, alpha=0.4, edgecolors='None', rasterized=True)\n",
    "    ax[j].scatter(mixed_data[mask][marked_mask, mixed_ch_index_0], mixed_data[mask][marked_mask, mixed_ch_index_1], \n",
    "                color='lime', s=15, alpha=0.4, edgecolors='None', rasterized=True)\n",
    "\n",
    "    ax[j].set_xlabel(readable_channel_names[mixed_ch_index_0])\n",
    "    ax[j].set_ylabel(readable_channel_names[mixed_ch_index_1])\n",
    "    ax[j].set_title(antibodies)\n",
    "#     plt.xlim([35, 67])\n",
    "#     plt.ylim([20, 370])\n",
    "\n",
    "plt.savefig(export_dir + '/raw_fluor_for_multi_model_unmix.pdf'.format(antibodies), transparent=True, dpi=300)   "
   ]
  },
  {
   "cell_type": "markdown",
   "metadata": {},
   "source": [
    "## Draw some matrices for forward model"
   ]
  },
  {
   "cell_type": "code",
   "execution_count": 138,
   "metadata": {},
   "outputs": [
    {
     "data": {
      "text/plain": [
       "(14, 1, 6)"
      ]
     },
     "execution_count": 138,
     "metadata": {},
     "output_type": "execute_result"
    }
   ],
   "source": [
    "image.shape"
   ]
  },
  {
   "cell_type": "code",
   "execution_count": 141,
   "metadata": {},
   "outputs": [
    {
     "data": {
      "application/vnd.jupyter.widget-view+json": {
       "model_id": "a47e7878b1404a9e829c4c808c4ee7f6",
       "version_major": 2,
       "version_minor": 0
      },
      "text/plain": [
       "Canvas(toolbar=Toolbar(toolitems=[('Home', 'Reset original view', 'home', 'home'), ('Back', 'Back to previous …"
      ]
     },
     "metadata": {},
     "output_type": "display_data"
    }
   ],
   "source": [
    "image = np.random.rand(1, 6)\n",
    "image = np.concatenate(14 * [image])\n",
    "\n",
    "fig, ax = plt.subplots()\n",
    "plt.imshow(image, cmap='inferno')\n",
    "# ax.set_yticks(range(2))\n",
    "# ax.set_yticklabels(spectra_names)\n",
    "# ax.set_xticks(range(6))\n",
    "# ax.set_xticklabels(readable_channel_names)\n",
    "# ax.tick_params(axis='x', labelrotation=-45 )\n",
    "\n",
    "plt.savefig(export_dir + '/backgrounds.pdf', transparent=True)\n"
   ]
  }
 ],
 "metadata": {
  "kernelspec": {
   "display_name": "Python 3",
   "language": "python",
   "name": "python3"
  },
  "language_info": {
   "codemirror_mode": {
    "name": "ipython",
    "version": 3
   },
   "file_extension": ".py",
   "mimetype": "text/x-python",
   "name": "python",
   "nbconvert_exporter": "python",
   "pygments_lexer": "ipython3",
   "version": "3.8.5"
  }
 },
 "nbformat": 4,
 "nbformat_minor": 4
}
