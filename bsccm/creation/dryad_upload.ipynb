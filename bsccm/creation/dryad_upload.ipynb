{
 "cells": [
  {
   "cell_type": "markdown",
   "metadata": {},
   "source": [
    "# Upload data"
   ]
  },
  {
   "cell_type": "code",
   "execution_count": 9,
   "metadata": {},
   "outputs": [],
   "source": [
    "import os\n",
    "import tarfile\n",
    "from shutil import copyfileobj\n",
    "from tqdm import tqdm\n",
    "\n",
    "def split_tar_gz(path, file, chunk_size=2**30):\n",
    "    chunk_number = 0\n",
    "    total_size = os.path.getsize(path + file)\n",
    "\n",
    "    # make destination directory\n",
    "    chunk_path = path + file.split('.')[0] + '_chunks/'\n",
    "    os.mkdir(chunk_path)\n",
    "    \n",
    "    with tqdm(total=total_size, unit='B', unit_scale=True) as pbar:\n",
    "        with open(path + file, 'rb') as src:\n",
    "            while True:\n",
    "                with open('{}{}_chunk{:05d}.bin'.format(chunk_path, file, chunk_number), 'wb') as dst:\n",
    "                    written = 0\n",
    "                    while written < chunk_size:\n",
    "                        data = src.read(chunk_size) \n",
    "                        if not data:\n",
    "                            return\n",
    "                        dst.write(data)\n",
    "                        written += len(data)\n",
    "                        pbar.update(len(data))\n",
    "                chunk_number += 1\n",
    "\n"
   ]
  },
  {
   "cell_type": "code",
   "execution_count": 10,
   "metadata": {},
   "outputs": [
    {
     "name": "stdout",
     "output_type": "stream",
     "text": [
      "BSCCM-tiny.tar.gz\n"
     ]
    },
    {
     "name": "stderr",
     "output_type": "stream",
     "text": [
      "100%|██████████| 513M/513M [00:00<00:00, 1.97GB/s]\n"
     ]
    },
    {
     "name": "stdout",
     "output_type": "stream",
     "text": [
      "BSCCMNIST.tar.gz\n"
     ]
    },
    {
     "name": "stderr",
     "output_type": "stream",
     "text": [
      "100%|██████████| 6.07G/6.07G [00:03<00:00, 1.92GB/s]\n"
     ]
    },
    {
     "name": "stdout",
     "output_type": "stream",
     "text": [
      "BSCCM.tar.gz\n"
     ]
    },
    {
     "name": "stderr",
     "output_type": "stream",
     "text": [
      "100%|██████████| 211G/211G [01:50<00:00, 1.91GB/s] \n"
     ]
    },
    {
     "name": "stdout",
     "output_type": "stream",
     "text": [
      ".DS_Store\n"
     ]
    },
    {
     "name": "stderr",
     "output_type": "stream",
     "text": [
      "100%|██████████| 6.15k/6.15k [00:00<00:00, 6.88MB/s]\n"
     ]
    },
    {
     "name": "stdout",
     "output_type": "stream",
     "text": [
      "BSCCMNIST-tiny.tar.gz\n"
     ]
    },
    {
     "name": "stderr",
     "output_type": "stream",
     "text": [
      "100%|██████████| 13.2M/13.2M [00:00<00:00, 2.76GB/s]\n"
     ]
    },
    {
     "name": "stdout",
     "output_type": "stream",
     "text": [
      "BSCCM-coherent.tar.gz\n"
     ]
    },
    {
     "name": "stderr",
     "output_type": "stream",
     "text": [
      "100%|██████████| 26.4G/26.4G [00:13<00:00, 2.02GB/s]\n"
     ]
    },
    {
     "name": "stdout",
     "output_type": "stream",
     "text": [
      "BSCCM-coherent-tiny.tar.gz\n"
     ]
    },
    {
     "name": "stderr",
     "output_type": "stream",
     "text": [
      "100%|██████████| 486M/486M [00:00<00:00, 2.26GB/s]\n"
     ]
    }
   ],
   "source": [
    "for file in os.listdir('/Users/henrypinkard/Desktop/BSCCM_July10_backup/tars/'):\n",
    "    print(file)\n",
    "    split_tar_gz(path='/Users/henrypinkard/Desktop/BSCCM_July10_backup/tars/', file=file)"
   ]
  }
 ],
 "metadata": {
  "kernelspec": {
   "display_name": "phenotypes",
   "language": "python",
   "name": "python3"
  },
  "language_info": {
   "codemirror_mode": {
    "name": "ipython",
    "version": 3
   },
   "file_extension": ".py",
   "mimetype": "text/x-python",
   "name": "python",
   "nbconvert_exporter": "python",
   "pygments_lexer": "ipython3",
   "version": "3.12.0"
  },
  "orig_nbformat": 4
 },
 "nbformat": 4,
 "nbformat_minor": 2
}
