{
 "cells": [
  {
   "cell_type": "code",
   "execution_count": null,
   "metadata": {},
   "outputs": [],
   "source": [
    "def download_data(mnist=True, coherent=False, tiny=False):\n",
    "    \"\"\"\n",
    "    Download one of the 6 possible versions of BSCCM dataset\n",
    "    \n",
    "    mnist: download BSCCMNIST (downsized and downsampled version of BSCCM)\n",
    "    coherent: download BSCCM-coherent or BSCCM-coherent-tiny\n",
    "    tiny: the tiny version or the full version\n",
    "    \"\"\"\n",
    "\n",
    "\n",
    "    location = '/home/hpinkard_waller/2tb_ssd/'\n",
    "    doi_url = 'doi%3A10.5061%2Fdryad.9pg8d'\n",
    "    version_index = -1\n",
    "    file_index = 1\n",
    "\n",
    "    # Get the version ID of the dataset\n",
    "    api_url = \"https://datadryad.org/api/v2/\"\n",
    "    versions = requests.get(api_url + 'datasets/{}/versions'.format(doi_url))\n",
    "    version_id = versions.json()['_embedded']['stash:versions'][version_index]['_links']['self']['href'].split('/')[version_index]\n",
    "\n",
    "    # Get the URL to download one particular file\n",
    "    file = requests.get(api_url + 'versions/' + version_id + '/files').json()['_embedded']['stash:files'][file_index]\n",
    "    file_name = file['path']\n",
    "    download_url = 'https://datadryad.org' + file['_links']['stash:download']['href']\n",
    "\n",
    "    # Download in chunks (so that really big files can be downloaded)\n",
    "    chunk_size = 1024 * 1024 * 8\n",
    "    iters = file['size'] / chunk_size\n",
    "    with requests.get(download_url, stream=True) as r:\n",
    "        r.raise_for_status()\n",
    "        with open(location + file_name, 'wb') as f:\n",
    "            for i, chunk in enumerate(r.iter_content(chunk_size=chunk_size)): \n",
    "                print('Downloading {}, {:.1f}%\\r'.format(file_name, 100 * i / iters ), end='')\n",
    "                f.write(chunk)\n",
    "    print('Finished downloading')\n",
    "\n",
    "\n",
    "    loc = location + file_name[:-7] #remove .tar.gz\n",
    "    print('Extracting to  {}...'.format(loc))\n",
    "    file = tarfile.open(location + file_name)\n",
    "    file.extractall(loc)\n",
    "    file.close()\n",
    "    print('Cleaning up')\n",
    "    os.remove(location + file_name)\n",
    "    print('Complete')"
   ]
  },
  {
   "cell_type": "code",
   "execution_count": 1,
   "metadata": {},
   "outputs": [],
   "source": [
    "import os\n",
    "import tarfile\n",
    "from shutil import copyfileobj\n",
    "from tqdm import tqdm\n",
    "\n",
    "def split_tar_gz(path, file, chunk_size=2**30):\n",
    "    chunk_number = 0\n",
    "    total_size = os.path.getsize(path + file)\n",
    "\n",
    "    # make destination directory\n",
    "    chunk_path = path + file.split('.')[0] + '_chunks/'\n",
    "    os.mkdir(chunk_path)\n",
    "    \n",
    "    with tqdm(total=total_size, unit='B', unit_scale=True) as pbar:\n",
    "        with open(path + file, 'rb') as src:\n",
    "            while True:\n",
    "                with open('{}chunk{:05d}.bin'.format(chunk_path, chunk_number), 'wb') as dst:\n",
    "                    written = 0\n",
    "                    while written < chunk_size:\n",
    "                        data = src.read(chunk_size) \n",
    "                        if not data:\n",
    "                            return\n",
    "                        dst.write(data)\n",
    "                        written += len(data)\n",
    "                        pbar.update(len(data))\n",
    "                chunk_number += 1\n",
    "\n"
   ]
  },
  {
   "cell_type": "code",
   "execution_count": 3,
   "metadata": {},
   "outputs": [
    {
     "name": "stderr",
     "output_type": "stream",
     "text": [
      "100%|██████████| 513M/513M [00:00<00:00, 834MB/s]\n",
      "100%|██████████| 211G/211G [05:38<00:00, 624MB/s] \n",
      "100%|██████████| 13.2M/13.2M [00:00<00:00, 673MB/s]\n",
      "100%|██████████| 6.07G/6.07G [00:11<00:00, 542MB/s]\n",
      "100%|██████████| 486M/486M [00:00<00:00, 813MB/s]\n",
      "100%|██████████| 26.4G/26.4G [00:45<00:00, 576MB/s]\n"
     ]
    }
   ],
   "source": [
    "for file in os.listdir('/home/hpinkard_waller/data/tars'):\n",
    "    split_tar_gz(path='/home/hpinkard_waller/data/tars/', file=file)"
   ]
  }
 ],
 "metadata": {
  "kernelspec": {
   "display_name": "phenotypes",
   "language": "python",
   "name": "python3"
  },
  "language_info": {
   "codemirror_mode": {
    "name": "ipython",
    "version": 3
   },
   "file_extension": ".py",
   "mimetype": "text/x-python",
   "name": "python",
   "nbconvert_exporter": "python",
   "pygments_lexer": "ipython3",
   "version": "3.10.6"
  },
  "orig_nbformat": 4
 },
 "nbformat": 4,
 "nbformat_minor": 2
}
