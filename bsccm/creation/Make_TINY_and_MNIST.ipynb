{
 "cells": [
  {
   "cell_type": "code",
   "execution_count": 54,
   "id": "04f54b1d-0313-4f14-b5e8-2510d619aef1",
   "metadata": {},
   "outputs": [
    {
     "name": "stdout",
     "output_type": "stream",
     "text": [
      "The autoreload extension is already loaded. To reload it, use:\n",
      "  %reload_ext autoreload\n",
      "Opening BSCCM (this may take a few seconds)...\n",
      "Opened BSCCM-coherent\n"
     ]
    }
   ],
   "source": [
    "%load_ext autoreload\n",
    "%autoreload 2\n",
    "%matplotlib ipympl\n",
    "\n",
    "import mpl_interactions.ipyplot as iplt\n",
    "import matplotlib.pyplot as plt\n",
    "from bsccm import BSCCM\n",
    "from skimage import transform\n",
    "import zarr\n",
    "import numpy as np\n",
    "from tqdm import tqdm\n",
    "from numcodecs import Blosc\n",
    "from skimage import transform\n",
    "\n",
    "data_root = '/home/hpinkard_waller/2tb_ssd/BSCCM-coherent/'\n",
    "export_root = '/home/hpinkard_waller/2tb_ssd/BSCCM-coherent-tiny/'\n",
    "num_cells = 100\n",
    "COHERENT = True\n",
    "\n",
    "# data_root = '/home/hpinkard_waller/2tb_ssd/BSCCM/'\n",
    "# export_root = '/home/hpinkard_waller/2tb_ssd/BSCCM-tiny/'\n",
    "# num_cells = 1000\n",
    "# COHERENT = False\n",
    "\n",
    "bsccm = BSCCM(data_root)"
   ]
  },
  {
   "cell_type": "code",
   "execution_count": 55,
   "id": "b3419776-a846-4053-925f-c214e72348b1",
   "metadata": {},
   "outputs": [
    {
     "name": "stderr",
     "output_type": "stream",
     "text": [
      "100%|██████████| 100/100 [03:49<00:00,  2.29s/it]\n"
     ]
    }
   ],
   "source": [
    "new_file = zarr.open(export_root + 'BSCCM_images.zarr', mode='w')\n",
    "\n",
    "random_subset = np.random.choice(np.arange(bsccm.index_dataframe.index.size), size=num_cells, replace=False)\n",
    "random_subset = np.sort(random_subset)\n",
    "\n",
    "#resave new surface markers\n",
    "bsccm.index_dataframe.iloc[random_subset].to_csv(export_root + 'BSCCM_index.csv', index=True)\n",
    "bsccm.surface_marker_dataframe.iloc[random_subset].to_csv(export_root + 'BSCCM_surface_markers.csv', index=True)\n",
    "\n",
    "\n",
    "new_dframe = bsccm.index_dataframe.iloc[random_subset]\n",
    "indices = new_dframe.index.to_numpy()\n",
    "for i in tqdm(indices):\n",
    "\n",
    "    entry = new_dframe.loc[i]  \n",
    "    do_histology = not COHERENT and entry['has_matched_histology_cell']\n",
    "\n",
    "\n",
    "    base_path = entry['data_path']\n",
    "    fluor_dest = base_path + '/fluor/cell_{}'.format(i)\n",
    "    lf_dest = base_path + '/led_array/cell_{}'.format(i)\n",
    "    dpc_dest = base_path + '/dpc/cell_{}'.format(i)\n",
    "    hist_dest = base_path + '/histology/cell_{}'.format(i)\n",
    "\n",
    "    fluor_data = np.array([bsccm.read_image(i, contrast_type='fluor', channel=c) for c in bsccm.fluor_channel_names])\n",
    "    led_array_data = np.array([bsccm.read_image(i, contrast_type='led_array', channel=c) for c in bsccm.led_array_channel_names])\n",
    "    dpc_data = bsccm.read_image(i, contrast_type='dpc')\n",
    "    if do_histology:\n",
    "        histology_data = bsccm.read_image(i, contrast_type='histology', convert_histology_rgb32=False)\n",
    "\n",
    "    new_file.create_dataset(name=fluor_dest, compressor=Blosc(cname='zstd', clevel=9, shuffle=Blosc.SHUFFLE),\n",
    "                            data=fluor_data, chunks=(1, fluor_data.shape[-2], fluor_data.shape[-1]))\n",
    "    new_file.create_dataset(name=lf_dest, compressor=Blosc(cname='zstd', clevel=9, shuffle=Blosc.SHUFFLE),\n",
    "                            data=led_array_data, chunks=(1, led_array_data.shape[-2], led_array_data.shape[-1]))\n",
    "    new_file.create_dataset(name=dpc_dest, compressor=Blosc(cname='zstd', clevel=9, shuffle=Blosc.SHUFFLE),\n",
    "                            data=dpc_data, chunks=(dpc_data.shape[-2], dpc_data.shape[-1]))\n",
    "\n",
    "\n",
    "    if do_histology:\n",
    "        new_file.create_dataset(name=hist_dest, compressor=Blosc(cname='zstd', clevel=9, shuffle=Blosc.SHUFFLE),\n",
    "                            data=histology_data, chunks=None)\n",
    "        "
   ]
  },
  {
   "cell_type": "markdown",
   "id": "4e7d776f-11b8-4f20-a107-a8b87524c070",
   "metadata": {},
   "source": [
    "## remove extra fluoresence stuff from BSCCMNIST"
   ]
  },
  {
   "cell_type": "code",
   "execution_count": 25,
   "id": "e864b80c-ba13-4909-80e6-1341137a04b7",
   "metadata": {},
   "outputs": [],
   "source": [
    "import pandas as pd\n",
    "data_root = '/home/hpinkard_waller/2tb_ssd/BSCCMNIST/'\n",
    "fluor_dataframe = pd.read_csv(data_root + 'BSCCM_surface_markers.csv', index_col='global_index')"
   ]
  },
  {
   "cell_type": "code",
   "execution_count": 35,
   "id": "21d7838e-0ea3-431d-a6af-ccdb87cddafa",
   "metadata": {
    "tags": []
   },
   "outputs": [],
   "source": [
    "col_to_drop = [col for col in list(fluor_dataframe.columns) if col not in \n",
    "\n",
    "['Fluor_690-_shading_corrected',   \n",
    "'Fluor_627-673_shading_corrected', \n",
    "'Fluor_585-625_shading_corrected',             \n",
    "'Fluor_550-570_shading_corrected', \n",
    "'Fluor_500-550_shading_corrected', \n",
    "'Fluor_426-446_shading_corrected',\n",
    "'CD123/HLA-DR/CD14_full_model_unmixed',\n",
    "'CD3/CD19/CD56_full_model_unmixed', \n",
    "'CD45_full_model_unmixed',\n",
    "'CD16_full_model_unmixed',\n",
    "'CD45_single_antibody_model_unmixed',\n",
    "'autofluor_single_antibody_model_unmixed',\n",
    "'CD123_single_antibody_model_unmixed',\n",
    "'CD19_single_antibody_model_unmixed',\n",
    "'CD56_single_antibody_model_unmixed',\n",
    "'CD14_single_antibody_model_unmixed',\n",
    "'CD16_single_antibody_model_unmixed',\n",
    "'HLA-DR_single_antibody_model_unmixed',\n",
    "'CD3_single_antibody_model_unmixed',]]\n",
    "\n",
    "\n",
    "for col in col_to_drop:\n",
    "    fluor_dataframe.drop(col, axis=1, inplace=True)"
   ]
  },
  {
   "cell_type": "code",
   "execution_count": 43,
   "id": "4e6efe86-2e52-466e-be36-574e187e617e",
   "metadata": {},
   "outputs": [],
   "source": [
    "fluor_dataframe.to_csv(data_root + 'BSCCM_surface_markers.csv', index=True)"
   ]
  }
 ],
 "metadata": {
  "kernelspec": {
   "display_name": "bsccm",
   "language": "python",
   "name": "bsccm"
  },
  "language_info": {
   "codemirror_mode": {
    "name": "ipython",
    "version": 3
   },
   "file_extension": ".py",
   "mimetype": "text/x-python",
   "name": "python",
   "nbconvert_exporter": "python",
   "pygments_lexer": "ipython3",
   "version": "3.6.9"
  }
 },
 "nbformat": 4,
 "nbformat_minor": 5
}
