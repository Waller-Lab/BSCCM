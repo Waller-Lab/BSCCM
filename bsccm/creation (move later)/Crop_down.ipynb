{
 "cells": [
  {
   "cell_type": "markdown",
   "id": "cd5bbf73-6131-46c6-b35f-3979ddf676fd",
   "metadata": {},
   "source": [
    "# Crop from 128 x 128 images to 96 x 96 images\n",
    "Also make an MNIST sized version"
   ]
  },
  {
   "cell_type": "code",
   "execution_count": null,
   "id": "04f54b1d-0313-4f14-b5e8-2510d619aef1",
   "metadata": {},
   "outputs": [],
   "source": [
    "%load_ext autoreload\n",
    "%autoreload 2\n",
    "%matplotlib ipympl\n",
    "\n",
    "import mpl_interactions.ipyplot as iplt\n",
    "import matplotlib.pyplot as plt\n",
    "from bsccm import BSCCM\n",
    "from skimage import transform\n",
    "import zarr\n",
    "import numpy as np\n",
    "from tqdm import tqdm\n",
    "from numcodecs import Blosc\n",
    "from skimage import transform\n",
    "\n",
    "data_root = '/home/hpinkard_waller/2tb_ssd/BSCCM/'\n",
    "data_root_mnist = '/home/hpinkard_waller/2tb_ssd/BSCCMNIST/'\n",
    "bsccm = BSCCM(data_root)"
   ]
  },
  {
   "cell_type": "code",
   "execution_count": null,
   "id": "b3419776-a846-4053-925f-c214e72348b1",
   "metadata": {},
   "outputs": [
    {
     "name": "stderr",
     "output_type": "stream",
     "text": [
      "  4%|▎         | 15371/412941 [1:01:51<25:51:00,  4.27it/s]"
     ]
    }
   ],
   "source": [
    "new_file = zarr.open(data_root + 'BSCCM_images_cropped.zarr', mode='w')\n",
    "mnist_file = zarr.open(data_root_mnist + 'BSCCM_images.zarr', mode='w')\n",
    "COHERENT = False\n",
    "\n",
    "crop_off = 16\n",
    "crop_dim = 128 - 2*crop_off\n",
    "\n",
    "for i in tqdm(range(bsccm.index_dataframe.global_index.size)):\n",
    "\n",
    "    entry = bsccm.index_dataframe.iloc[i]  \n",
    "    do_histology = not COHERENT and entry['has_matched_histology_cell']\n",
    "\n",
    "    base_path = entry['data_path']\n",
    "    fluor_dest = base_path + '/fluor/cell_{}'.format(i)\n",
    "    lf_dest = base_path + '/led_array/cell_{}'.format(i)\n",
    "    dpc_dest = base_path + '/dpc/cell_{}'.format(i)\n",
    "    hist_dest = base_path + '/histology/cell_{}'.format(i)\n",
    "\n",
    "    fluor_data = np.array([bsccm.read_image(i, contrast_type='fluor', channel=c)[..., crop_off:-crop_off, crop_off:-crop_off] for c in bsccm.fluor_channel_names])\n",
    "    led_array_data = np.array([bsccm.read_image(i, contrast_type='led_array', channel=c)[..., crop_off:-crop_off, crop_off:-crop_off] for c in bsccm.led_array_channel_names])\n",
    "    dpc_data = bsccm.read_image(i, contrast_type='dpc') [..., crop_off:-crop_off, crop_off:-crop_off]\n",
    "    if do_histology:\n",
    "        histology_data = bsccm.read_image(i, contrast_type='histology', convert_histology_rgb32=False) [75:-75, 75:-75]\n",
    "\n",
    "    new_file.create_dataset(name=fluor_dest, compressor=Blosc(cname='zstd', clevel=9, shuffle=Blosc.SHUFFLE),\n",
    "                            data=fluor_data, chunks=(1, crop_dim, crop_dim))\n",
    "    new_file.create_dataset(name=lf_dest, compressor=Blosc(cname='zstd', clevel=9, shuffle=Blosc.SHUFFLE),\n",
    "                            data=led_array_data, chunks=(1, crop_dim, crop_dim))\n",
    "    new_file.create_dataset(name=dpc_dest, compressor=Blosc(cname='zstd', clevel=9, shuffle=Blosc.SHUFFLE),\n",
    "                            data=dpc_data, chunks=(crop_dim, crop_dim))\n",
    "\n",
    "\n",
    "    if do_histology:\n",
    "        new_file.create_dataset(name=hist_dest, compressor=Blosc(cname='zstd', clevel=9, shuffle=Blosc.SHUFFLE),\n",
    "                            data=histology_data, chunks=None)\n",
    "        \n",
    "    #MNIST Version\n",
    "    if not COHERENT:\n",
    "        # Downsampled versions for mnist\n",
    "        fluor_data_mnist = np.array([(transform.resize(img / 16, output_shape=(28, 28), anti_aliasing=True)).astype(np.uint8) for img in fluor_data])\n",
    "        led_array_data_mnist = np.array([(transform.resize(img / 16, output_shape=(28, 28), anti_aliasing=True)).astype(np.uint8) for img in led_array_data])\n",
    "        dpc_data_mnist = transform.resize(dpc_data, output_shape=(28, 28), anti_aliasing=True)\n",
    "\n",
    "        mnist_file.create_dataset(name=fluor_dest, compressor=Blosc(cname='zstd', clevel=9, shuffle=Blosc.SHUFFLE),\n",
    "                            data=fluor_data_mnist, chunks=(1, crop_dim, crop_dim))\n",
    "        mnist_file.create_dataset(name=lf_dest, compressor=Blosc(cname='zstd', clevel=9, shuffle=Blosc.SHUFFLE),\n",
    "                                data=led_array_data_mnist.astype(np.uint16), chunks=(1, crop_dim, crop_dim))\n",
    "        mnist_file.create_dataset(name=dpc_dest, compressor=Blosc(cname='zstd', clevel=9, shuffle=Blosc.SHUFFLE),\n",
    "                                data=dpc_data_mnist, chunks=(crop_dim, crop_dim))\n",
    "\n",
    "\n",
    "        if do_histology:\n",
    "            histology_data_mnist = transform.resize(histology_data / 16, output_shape=(28, 28, 3), anti_aliasing=True).astype(np.uint8)\n",
    "            mnist_file.create_dataset(name=hist_dest, compressor=Blosc(cname='zstd', clevel=9, shuffle=Blosc.SHUFFLE),\n",
    "                                data=histology_data_mnist, chunks=None)        \n"
   ]
  },
  {
   "cell_type": "code",
   "execution_count": null,
   "id": "a3711ef6-70c3-484f-91c6-4382fdbc43d0",
   "metadata": {},
   "outputs": [],
   "source": []
  }
 ],
 "metadata": {
  "kernelspec": {
   "display_name": "bsccm",
   "language": "python",
   "name": "bsccm"
  },
  "language_info": {
   "codemirror_mode": {
    "name": "ipython",
    "version": 3
   },
   "file_extension": ".py",
   "mimetype": "text/x-python",
   "name": "python",
   "nbconvert_exporter": "python",
   "pygments_lexer": "ipython3",
   "version": "3.6.9"
  }
 },
 "nbformat": 4,
 "nbformat_minor": 5
}
