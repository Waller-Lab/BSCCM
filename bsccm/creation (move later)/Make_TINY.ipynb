{
 "cells": [
  {
   "cell_type": "code",
   "execution_count": 10,
   "id": "04f54b1d-0313-4f14-b5e8-2510d619aef1",
   "metadata": {},
   "outputs": [
    {
     "name": "stdout",
     "output_type": "stream",
     "text": [
      "The autoreload extension is already loaded. To reload it, use:\n",
      "  %reload_ext autoreload\n",
      "Opening BSCCM (this may take a few seconds)...\n",
      "BSCCM Opened\n"
     ]
    }
   ],
   "source": [
    "%load_ext autoreload\n",
    "%autoreload 2\n",
    "%matplotlib ipympl\n",
    "\n",
    "import mpl_interactions.ipyplot as iplt\n",
    "import matplotlib.pyplot as plt\n",
    "from bsccm import BSCCM\n",
    "from skimage import transform\n",
    "import zarr\n",
    "import numpy as np\n",
    "from tqdm import tqdm\n",
    "from numcodecs import Blosc\n",
    "from skimage import transform\n",
    "\n",
    "data_root = '/home/hpinkard_waller/2tb_ssd/BSCCM-coherent/'\n",
    "export_root = '/home/hpinkard_waller/2tb_ssd/BSCCM-coherent-tiny/'\n",
    "num_cells = 100\n",
    "COHERENT = True\n",
    "\n",
    "# data_root = '/home/hpinkard_waller/2tb_ssd/BSCCM/'\n",
    "# export_root = '/home/hpinkard_waller/2tb_ssd/BSCCM-tiny/'\n",
    "# num_cells = 1000\n",
    "# COHERENT = False\n",
    "\n",
    "bsccm = BSCCM(data_root)"
   ]
  },
  {
   "cell_type": "code",
   "execution_count": 11,
   "id": "b3419776-a846-4053-925f-c214e72348b1",
   "metadata": {},
   "outputs": [
    {
     "name": "stderr",
     "output_type": "stream",
     "text": [
      "100%|██████████| 100/100 [03:39<00:00,  2.19s/it]\n"
     ]
    }
   ],
   "source": [
    "new_file = zarr.open(export_root + 'BSCCM_images.zarr', mode='w')\n",
    "\n",
    "random_subset = np.random.choice(np.arange(bsccm.index_dataframe.global_index.size), size=num_cells, replace=False)\n",
    "random_subset = np.sort(random_subset)\n",
    "\n",
    "#resave new surface markers\n",
    "bsccm.index_dataframe.iloc[random_subset].to_csv(export_root + 'BSCCM_index.csv', index=False)\n",
    "bsccm.surface_marker_dataframe.iloc[random_subset].to_csv(export_root + 'BSCCM_surface_markers.csv', index=False)\n",
    "\n",
    "\n",
    "new_dframe = bsccm.index_dataframe.iloc[random_subset]\n",
    "for i in tqdm(range(new_dframe.global_index.size)):\n",
    "\n",
    "    entry = new_dframe.iloc[i]  \n",
    "    do_histology = not COHERENT and entry['has_matched_histology_cell']\n",
    "\n",
    "\n",
    "    base_path = entry['data_path']\n",
    "    fluor_dest = base_path + '/fluor/cell_{}'.format(entry.global_index)\n",
    "    lf_dest = base_path + '/led_array/cell_{}'.format(entry.global_index)\n",
    "    dpc_dest = base_path + '/dpc/cell_{}'.format(entry.global_index)\n",
    "    hist_dest = base_path + '/histology/cell_{}'.format(entry.global_index)\n",
    "\n",
    "    fluor_data = np.array([bsccm.read_image(entry.global_index, contrast_type='fluor', channel=c) for c in bsccm.fluor_channel_names])\n",
    "    led_array_data = np.array([bsccm.read_image(entry.global_index, contrast_type='led_array', channel=c) for c in bsccm.led_array_channel_names])\n",
    "    dpc_data = bsccm.read_image(entry.global_index, contrast_type='dpc')\n",
    "    if do_histology:\n",
    "        histology_data = bsccm.read_image(entry.global_index, contrast_type='histology', convert_histology_rgb32=False)\n",
    "\n",
    "    new_file.create_dataset(name=fluor_dest, compressor=Blosc(cname='zstd', clevel=9, shuffle=Blosc.SHUFFLE),\n",
    "                            data=fluor_data, chunks=(1, fluor_data.shape[-2], fluor_data.shape[-1]))\n",
    "    new_file.create_dataset(name=lf_dest, compressor=Blosc(cname='zstd', clevel=9, shuffle=Blosc.SHUFFLE),\n",
    "                            data=led_array_data, chunks=(1, led_array_data.shape[-2], led_array_data.shape[-1]))\n",
    "    new_file.create_dataset(name=dpc_dest, compressor=Blosc(cname='zstd', clevel=9, shuffle=Blosc.SHUFFLE),\n",
    "                            data=dpc_data, chunks=(dpc_data.shape[-2], dpc_data.shape[-1]))\n",
    "\n",
    "\n",
    "    if do_histology:\n",
    "        new_file.create_dataset(name=hist_dest, compressor=Blosc(cname='zstd', clevel=9, shuffle=Blosc.SHUFFLE),\n",
    "                            data=histology_data, chunks=None)\n",
    "        "
   ]
  }
 ],
 "metadata": {
  "kernelspec": {
   "display_name": "bsccm",
   "language": "python",
   "name": "bsccm"
  },
  "language_info": {
   "codemirror_mode": {
    "name": "ipython",
    "version": 3
   },
   "file_extension": ".py",
   "mimetype": "text/x-python",
   "name": "python",
   "nbconvert_exporter": "python",
   "pygments_lexer": "ipython3",
   "version": "3.6.9"
  }
 },
 "nbformat": 4,
 "nbformat_minor": 5
}
