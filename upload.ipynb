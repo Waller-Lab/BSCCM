{
 "cells": [
  {
   "cell_type": "code",
   "execution_count": 1,
   "id": "0a00e16c-0f73-4d69-bd96-803820364a04",
   "metadata": {},
   "outputs": [
    {
     "name": "stdout",
     "output_type": "stream",
     "text": [
      "sdf\n"
     ]
    }
   ],
   "source": [
    "{\n",
    "  \"title\": \"string\",\n",
    "  \"authors\": [\n",
    "    {\n",
    "      \"firstName\": \"string\",\n",
    "      \"lastName\": \"string\",\n",
    "      \"email\": \"string\",\n",
    "      \"affiliation\": \"string\",\n",
    "      \"affiliationROR\": \"string\",\n",
    "      \"affiliationISNI\": \"string\",\n",
    "      \"orcid\": \"string\",\n",
    "      \"order\": 0\n",
    "    }\n",
    "  ],\n",
    "  \"abstract\": \"string\",\n",
    "  \"funders\": [\n",
    "    {\n",
    "      \"organization\": \"string\",\n",
    "      \"awardNumber\": \"string\",\n",
    "      \"identifier\": \"string\",\n",
    "      \"identifierType\": \"string\"\n",
    "    }\n",
    "  ],\n",
    "  \"keywords\": [\n",
    "    \"string\"\n",
    "  ],\n",
    "  \"methods\": \"string\",\n",
    "  \"usageNotes\": \"string\",\n",
    "  \"locations\": [\n",
    "    {\n",
    "      \"place\": \"string\",\n",
    "      \"box\": {\n",
    "        \"swLongitude\": 0,\n",
    "        \"swLatitude\": 0,\n",
    "        \"neLongitude\": 0,\n",
    "        \"neLatitude\": 0\n",
    "      },\n",
    "      \"point\": {\n",
    "        \"latitude\": 0,\n",
    "        \"longitude\": 0\n",
    "      }\n",
    "    }\n",
    "  ],\n",
    "  \"relatedWorks\": [\n",
    "    {\n",
    "      \"relationship\": \"string\",\n",
    "      \"identifierType\": \"string\",\n",
    "      \"identifier\": \"string\"\n",
    "    }\n",
    "  ]\n",
    "}"
   ]
  }
 ],
 "metadata": {
  "kernelspec": {
   "display_name": "bsccm",
   "language": "python",
   "name": "bsccm"
  },
  "language_info": {
   "codemirror_mode": {
    "name": "ipython",
    "version": 3
   },
   "file_extension": ".py",
   "mimetype": "text/x-python",
   "name": "python",
   "nbconvert_exporter": "python",
   "pygments_lexer": "ipython3",
   "version": "3.6.9"
  }
 },
 "nbformat": 4,
 "nbformat_minor": 5
}
