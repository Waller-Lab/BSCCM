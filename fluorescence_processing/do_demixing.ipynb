{
 "cells": [
  {
   "cell_type": "markdown",
   "metadata": {},
   "source": [
    "# Do nonnegative matrix factorization to demix fluorescence into the component fluorophores"
   ]
  },
  {
   "cell_type": "code",
   "execution_count": 18,
   "metadata": {
    "tags": []
   },
   "outputs": [
    {
     "name": "stdout",
     "output_type": "stream",
     "text": [
      "The autoreload extension is already loaded. To reload it, use:\n",
      "  %reload_ext autoreload\n",
      "Opening BSCCM (this may take a few seconds)...\n",
      "BSCCM Opened\n",
      "Opening BSCCM (this may take a few seconds)...\n",
      "BSCCM Opened\n"
     ]
    }
   ],
   "source": [
    "%matplotlib widget\n",
    "%load_ext autoreload\n",
    "%autoreload 2\n",
    "\n",
    "import pandas as pd\n",
    "import matplotlib as mpl\n",
    "import time\n",
    "import matplotlib.pyplot as plt\n",
    "from matplotlib.path import Path as mplPath\n",
    "import matplotlib.cm as cm\n",
    "import matplotlib.patches as patches\n",
    "from scipy import stats\n",
    "import math\n",
    "import numpy as np\n",
    "from scipy import interpolate\n",
    "from pathlib import Path\n",
    "import os \n",
    "from gating_util import ScatterSelectorGating\n",
    "from bsccm import BSCCM\n",
    "from demixing_util import *\n",
    "\n",
    "COHERENT = False\n",
    "\n",
    "bsccm_with_spectra = BSCCM(str(Path.home()) + '/BSCCM_local/BSCCM/')\n",
    "\n",
    "#containing the data to demix\n",
    "if COHERENT:\n",
    "    bsccm_with_data = BSCCM(str(Path.home()) + '/BSCCM_local/BSCCM-coherent/')\n",
    "else:\n",
    "    bsccm_with_data = BSCCM(str(Path.home()) + '/BSCCM_local/BSCCM/')\n",
    "\n",
    "\n",
    "\n",
    "dataframe_saving_fullpath = str(Path.home()) + '/BSCCM_local/BSCCM/BSCCM_surface_markers.csv'\n",
    "# For exporting figures\n",
    "export_dir = '/home/henry/leukosight_data/figures/demixing'\n",
    "\n",
    "\n",
    "single_markers = ['CD123', 'CD3', 'CD19', 'CD56', 'HLA-DR', 'CD45', 'CD14', 'CD16', 'autofluor']\n",
    "\n",
    "# The names of the fluorescent measurements put into a database\n",
    "channel_names = ['Fluor_426-446_shading_corrected', \n",
    "       'Fluor_500-550_shading_corrected', \n",
    "       'Fluor_550-570_shading_corrected', \n",
    "       'Fluor_585-625_shading_corrected', \n",
    "       'Fluor_627-673_shading_corrected', \n",
    "       'Fluor_690-_shading_corrected']\n",
    "\n",
    "selections = {batch: ['selection_example_{}_positive_cells_batch_{}'.format(m, batch) \n",
    "               for m in single_markers] for batch in range(2)}\n",
    "\n",
    "unmixed_channel_names = ['CD123/HLA-DR/CD14', 'CD3/CD19/CD56', 'CD45', 'CD16', 'autofluor']\n",
    "\n",
    "    \n",
    "# Prepare the raw data\n",
    "mixed_data = bsccm_with_data.surface_marker_dataframe[channel_names].to_numpy()\n",
    "#Make everything positive\n",
    "mixed_data -= (np.min(mixed_data, axis=0) - 1e-2)\n"
   ]
  },
  {
   "cell_type": "markdown",
   "metadata": {},
   "source": [
    "# Unmix single stain with 2 spectrum (antibody + autofluor) or 1 spectrum (autofluor only) model"
   ]
  },
  {
   "cell_type": "code",
   "execution_count": 19,
   "metadata": {},
   "outputs": [
    {
     "name": "stdout",
     "output_type": "stream",
     "text": [
      "CD45 1 \t\t\t\t\t\t\t\n",
      "CD123 1 \t\t\t\t\t\t\t.061\trel_error: 0.0005\t\t5.6  14.1  1.7  3.4  -0.0  2.9  \t\t\t\t\n",
      "unstained 1 \t\t\t\t\t\t\trel_error: 0.0005\t\t-0.0  7.3  1.8  2.3  -0.0  9.9  \t\t\t\t\t\n",
      "CD19 1 \t\t\t\t\t\t\t4.956\trel_error: 0.0005\t\t24.5  10.2  1.6  1.0  -0.0  9.6  \t\t\t\t\t\n",
      "CD56 1 \t\t\t\t\t\t\t.677\trel_error: 0.0005\t\t27.9  3.4  1.5  -0.0  -0.0  11.3  \t\t\t\t\n",
      "all 1 \t\t\t\t\t\t\t86.479\trel_error: 0.0005\t\t25.2  8.5  1.4  -0.0  -0.0  9.4  \t\t\t\t\n",
      "CD14 1 \t\t\t\t\t\t\t\n",
      "CD16 1 \t\t\t\t\t\t\t.277\trel_error: 0.0005\t\t-0.0  10.7  2.1  1.5  -0.0  7.8  \t\t\t\t\n",
      "HLA-DR 1 \t\t\t\t\t\t\t02\trel_error: 0.0004\t\t-0.0  7.4  1.8  2.0  -0.0  8.8  \t\t\t\t\t\n",
      "CD3 1 \t\t\t\t\t\t\t1.369\trel_error: 0.0005\t\t-0.0  12.9  1.2  0.7  -0.0  8.1  \t\t\t\t\n",
      "CD45 0 \t\t\t\t\t\t\t6.606\trel_error: 0.0005\t\t24.4  8.0  1.2  -0.0  -0.0  9.3  \t\t\t\t\n",
      "CD123 0 \t\t\t\t\t\t\t618\trel_error: 0.0005\t\t2.7  6.5  2.5  3.9  -0.0  3.7  \t\t\t\t\t\n",
      "unstained 0 \t\t\t\t\t\t\trel_error: 0.0005\t\t-0.0  1.1  1.8  4.1  1.8  11.3  \t\t\t\t\n",
      "CD19 0 \t\t\t\t\t\t\t9.580\trel_error: 0.0005\t\t26.4  2.6  1.5  3.0  1.3  11.0  \t\t\t\t\n",
      "CD56 0 \t\t\t\t\t\t\t8.323\trel_error: 0.0005\t\t29.9  -0.0  1.6  1.3  0.7  12.2  \t\t\t\t\n",
      "all 0 \t\t\t\t\t\t\t6.543\trel_error: 0.0005\t\t28.0  1.0  1.1  0.3  -0.0  10.9  \t\t\t\t\n",
      "CD14 0 \t\t\t\t\t\t\t\n",
      "CD16 0 \t\t\t\t\t\t\t.967\trel_error: 0.0005\t\t-0.0  2.2  1.8  3.4  0.5  9.0  \t\t\t\t\n",
      "HLA-DR 0 \t\t\t\t\t\t\t67\trel_error: 0.0005\t\t-0.0  0.9  1.9  4.2  1.8  8.9  \t\t\t\t\t\t\t\n",
      "CD3 0 \t\t\t\t\t\t\t5.269\trel_error: 0.0005\t\t0.1  1.1  1.7  4.0  1.6  10.6  \t\t\t\t\t\n",
      "345: \tloss: 85.215\trel_error: 0.0005\t\t27.3  0.5  1.2  0.4  -0.0  10.7  \t\t\t\t\t\r"
     ]
    }
   ],
   "source": [
    "for batch in bsccm_with_data.index_dataframe.batch.unique():\n",
    "    \n",
    "    #demix with measurements specific to each batch\n",
    "    single_marker_unmix_channel_spectra, single_marker_unmix_channel_brightness, unmix_channel_spectra, unmix_channel_brightness = \\\n",
    "        compute_spectra(bsccm_with_spectra, channel_names, unmixed_channel_names, single_markers, batch=batch)\n",
    "    \n",
    "    for antibodies in bsccm_with_data.index_dataframe.antibodies.unique():\n",
    "        print(antibodies, batch, '\\t\\t\\t\\t\\t\\t\\t')\n",
    "        mask = np.logical_and(bsccm_with_data.index_dataframe.antibodies == antibodies,\n",
    "              bsccm_with_data.index_dataframe.batch == batch)\n",
    "        if antibodies == 'unstained':\n",
    "            spectra_names = ['autofluor'] # single spectrum\n",
    "            spectra = np.stack([single_marker_unmix_channel_spectra[c] for c in spectra_names], axis=0)\n",
    "            reweighting = [1]\n",
    "        elif antibodies == 'all':\n",
    "            continue # 2 spectra model is misspecified for this one\n",
    "        else:\n",
    "            spectra_names = [antibodies, 'autofluor']\n",
    "            spectra = np.stack([single_marker_unmix_channel_spectra[c] for c in spectra_names], axis=0)\n",
    "            autofluor_mag = single_marker_unmix_channel_brightness['autofluor']\n",
    "            marker_mag = single_marker_unmix_channel_brightness[antibodies]\n",
    "            autofluor_vec = single_marker_unmix_channel_spectra['autofluor']\n",
    "            marker_vec = single_marker_unmix_channel_spectra[antibodies]\n",
    "            weighted_proj = (autofluor_vec @ marker_vec) / marker_mag\n",
    "\n",
    "            reweighting = [weighted_proj, 1]\n",
    "            \n",
    "        l1_reg = 7e-1\n",
    "        unmixed, background_spectrum = do_factorization(mixed_data[mask], spectra,\n",
    "                l1_reg = l1_reg,\n",
    "                momentum=0.9,\n",
    "                learning_rate = 1e3,\n",
    "                background_learning_rate=1e-1,\n",
    "                reweighting=reweighting)\n",
    "        \n",
    "        # put results into the dataframe\n",
    "        mask_indices = np.flatnonzero(mask)\n",
    "        bsccm_with_data.surface_marker_dataframe.loc[mask_indices, \n",
    "                        [name + '_single_antibody_model_unmixed' for name in spectra_names]] = unmixed\n",
    "    \n",
    "    # Set all marker levels that are equal to 0 instead equal to the smallest nonzero value\n",
    "    # This shouldn't appreciably change the data but makes it easier to deal with in log space\n",
    "    mask = bsccm_with_data.index_dataframe.batch == batch\n",
    "    mask_indices = np.flatnonzero(mask)\n",
    "    data = bsccm_with_data.surface_marker_dataframe.loc[mask_indices, \n",
    "                        [name + '_single_antibody_model_unmixed' for name in spectra_names]].to_numpy()\n",
    "    new_data = []\n",
    "    for col_index in range(len(spectra_names)):\n",
    "        t = data[:, col_index]\n",
    "        nonzero = t[t !=0] \n",
    "        bottom = np.nanpercentile(nonzero, 0.5)\n",
    "        t[t<bottom] = bottom\n",
    "        new_data.append(t)\n",
    "    new_data = np.stack(new_data, axis=1)\n",
    "\n",
    "    bsccm_with_data.surface_marker_dataframe.loc[mask_indices, \n",
    "                        [name + '_single_antibody_model_unmixed' for name in spectra_names]] = new_data"
   ]
  },
  {
   "cell_type": "markdown",
   "metadata": {},
   "source": [
    "# Unmix with full set of unmixing channels"
   ]
  },
  {
   "cell_type": "code",
   "execution_count": 20,
   "metadata": {},
   "outputs": [
    {
     "name": "stdout",
     "output_type": "stream",
     "text": [
      "['CD123/HLA-DR/CD14', 'CD3/CD19/CD56', 'CD45', 'CD16']\n",
      "CD45 1 \t\t\t\t\t\t\t\n",
      "CD123 1 \t\t\t\t\t\t\t071\trel_error: 0.0005\t\t-0.0  5.6  1.7  0.6  -0.0  8.1  \t\t\t\t\t\n",
      "unstained 1 \t\t\t\t\t\t\t\trel_error: 0.0005\t\t-0.0  4.5  2.0  0.2  -0.0  9.1  \t\t\t\t\n",
      "CD19 1 \t\t\t\t\t\t\t1.871\trel_error: 0.0005\t\t-0.0  4.3  2.0  0.2  -0.0  9.2  \t\t\t\t\n",
      "CD56 1 \t\t\t\t\t\t\t.854\trel_error: 0.0005\t\t-0.0  4.4  2.1  0.1  -0.0  9.0  \t\t\t\t\n",
      "all 1 \t\t\t\t\t\t\t11.290\trel_error: 0.0005\t\t-0.0  4.2  2.0  0.1  -0.0  9.4  \t\t\t\t\n",
      "CD14 1 \t\t\t\t\t\t\t3.445\trel_error: 0.0005\t\t-0.0  4.5  1.6  -0.0  -0.0  9.7  \t\t\t\t\t\n",
      "CD16 1 \t\t\t\t\t\t\t1.457\trel_error: 0.0005\t\t-0.0  4.2  2.0  0.2  -0.0  9.2  \t\t\t\t\n",
      "HLA-DR 1 \t\t\t\t\t\t\t340\trel_error: 0.0005\t\t-0.0  6.1  1.9  -0.0  -0.0  8.8  \t\t\t\t\n",
      "CD3 1 \t\t\t\t\t\t\t13.263\trel_error: 0.0005\t\t-0.0  4.5  1.9  0.1  -0.0  9.1  \t\t\t\t\t\n",
      "CD45 0 \t\t\t\t\t\t\t1.163\trel_error: 0.0005\t\t-0.0  3.7  2.0  0.3  -0.0  9.1  \t\t\t\t\n",
      "CD123 0 \t\t\t\t\t\t\t.838\trel_error: 0.0005\t\t-0.0  1.0  1.9  0.5  -0.0  9.0  \t\t\t\t\n",
      "unstained 0 \t\t\t\t\t\t\trel_error: 0.0005\t\t-0.0  2.1  2.0  0.9  -0.0  8.2  \t\t\t\t\n",
      "CD19 0 \t\t\t\t\t\t\t.118\trel_error: 0.0005\t\t-0.0  1.5  2.0  0.8  -0.0  8.5  \t\t\t\t\n",
      "CD56 0 \t\t\t\t\t\t\t.143\trel_error: 0.0005\t\t-0.0  2.7  2.2  0.9  -0.0  7.8  \t\t\t\t\n",
      "all 0 \t\t\t\t\t\t\t8.641\trel_error: 0.0005\t\t-0.0  1.6  2.1  0.9  -0.0  8.4  \t\t\t\t\n",
      "CD14 0 \t\t\t\t\t\t\t3.326\trel_error: 0.0005\t\t-0.0  -0.0  1.8  0.6  0.2  14.2  \t\t\t\t\t\n",
      "CD16 0 \t\t\t\t\t\t\t1.354\trel_error: 0.0005\t\t-0.0  2.5  2.1  0.9  -0.0  7.9  \t\t\t\t\n",
      "HLA-DR 0 \t\t\t\t\t\t\t747\trel_error: 0.0005\t\t-0.0  2.5  2.2  0.8  -0.0  8.8  \t\t\t\t\t\n",
      "CD3 0 \t\t\t\t\t\t\t9.503\trel_error: 0.0005\t\t-0.0  1.9  1.9  0.8  -0.0  7.6  \t\t\t\t\n",
      "650: \tloss: 9.305\trel_error: 0.0005\t\t-0.0  1.8  2.4  1.0  -0.0  8.3  \t\t\t\t\r"
     ]
    }
   ],
   "source": [
    "unmix_channels_to_use = unmixed_channel_names[:-1] #exclude autofluorescence\n",
    "# unmix_channels_to_use = unmixed_channel_names #include autofluorescence\n",
    "print(unmix_channels_to_use)\n",
    "l1_reg = 7e-1\n",
    "\n",
    "for batch in bsccm_with_data.index_dataframe.batch.unique():\n",
    "# for batch in [0]:\n",
    "\n",
    "    #demix with measurements specific to each batch\n",
    "    single_marker_unmix_channel_spectra, single_marker_unmix_channel_brightness, unmix_channel_spectra, unmix_channel_brightness = \\\n",
    "        compute_spectra(bsccm_with_spectra, channel_names, unmixed_channel_names, single_markers, batch=batch)\n",
    "    \n",
    "    for antibodies in bsccm_with_data.index_dataframe.antibodies.unique():\n",
    "#         if not (antibodies == 'all' or antibodies == 'CD45' or antibodies == 'CD3' or antibodies == 'unstained'):\n",
    "#             continue\n",
    "        \n",
    "        print(antibodies, batch, '\\t\\t\\t\\t\\t\\t\\t')\n",
    "        mask = np.logical_and(bsccm_with_data.index_dataframe.antibodies == antibodies,\n",
    "              bsccm_with_data.index_dataframe.batch == batch)\n",
    "        \n",
    "        spectra = np.stack([unmix_channel_spectra[c] for c in unmix_channels_to_use], axis=0)\n",
    "        \n",
    "        #Weight regularization based on projection onto first singular vector\n",
    "        unmix_spectrum = np.array([unmix_channel_spectra[name] * unmix_channel_brightness[name] for name in unmix_channels_to_use])\n",
    "        u, s, vh = np.linalg.svd(unmix_spectrum, full_matrices=False)\n",
    "        first_vec = np.abs(vh[0])\n",
    "        reweighting = [first_vec @ unmix_channel_spectra[name] / unmix_channel_brightness[name]\n",
    "                        for name in unmix_channels_to_use]\n",
    "            \n",
    "\n",
    "\n",
    "        unmixed, background_spectrum = do_factorization(mixed_data[mask], spectra,\n",
    "                l1_reg = l1_reg,\n",
    "                momentum=0.9,\n",
    "                learning_rate = 1e3,\n",
    "                background_learning_rate=1e-1,\n",
    "                reweighting=reweighting)\n",
    "        \n",
    "        # put results into the dataframe\n",
    "        mask_indices = np.flatnonzero(mask)\n",
    "        bsccm_with_data.surface_marker_dataframe.loc[mask_indices, \n",
    "                        [name + '_full_model_unmixed' for name in unmix_channels_to_use]] = unmixed\n",
    "\n",
    "\n",
    "     # Set all marker levels that are equal to 0 instead equal to the smallest nonzero value\n",
    "    # This shouldn't appreciably change the data but makes it easier to deal with in log space\n",
    "    mask = bsccm_with_data.index_dataframe.batch == batch\n",
    "    mask_indices = np.flatnonzero(mask)\n",
    "    data = bsccm_with_data.surface_marker_dataframe.loc[mask_indices, \n",
    "                        [name + '_full_model_unmixed' for name in unmix_channels_to_use]].to_numpy()\n",
    "    new_data = []\n",
    "    for col_index in range(len(unmix_channels_to_use)):\n",
    "        t = data[:, col_index]\n",
    "        nonzero = t[t !=0] \n",
    "        bottom = np.nanpercentile(nonzero, 0.5)\n",
    "        t[t<bottom] = bottom\n",
    "        new_data.append(t)\n",
    "    new_data = np.stack(new_data, axis=1)\n",
    "\n",
    "    bsccm_with_data.surface_marker_dataframe.loc[mask_indices, \n",
    "                        [name + '_full_model_unmixed' for name in unmix_channels_to_use]] = new_data"
   ]
  },
  {
   "cell_type": "code",
   "execution_count": null,
   "metadata": {},
   "outputs": [],
   "source": [
    "# bsccm_with_data.surface_marker_dataframe.columns"
   ]
  },
  {
   "cell_type": "markdown",
   "metadata": {},
   "source": [
    "# Data viewer to verify that it worked"
   ]
  },
  {
   "cell_type": "code",
   "execution_count": 21,
   "metadata": {},
   "outputs": [
    {
     "data": {
      "application/vnd.jupyter.widget-view+json": {
       "model_id": "eff4cec209d24708b5c1434501f730f8",
       "version_major": 2,
       "version_minor": 0
      },
      "text/plain": [
       "HBox(children=(Dropdown(description='antibodies:', options=('CD45', 'CD123', 'unstained', 'CD19', 'CD56', 'all…"
      ]
     },
     "metadata": {},
     "output_type": "display_data"
    },
    {
     "data": {
      "application/vnd.jupyter.widget-view+json": {
       "model_id": "8d6f257b2fb04a218c96b79bdf8846b5",
       "version_major": 2,
       "version_minor": 0
      },
      "text/plain": [
       "Canvas(toolbar=Toolbar(toolitems=[('Home', 'Reset original view', 'home', 'home'), ('Back', 'Back to previous …"
      ]
     },
     "metadata": {},
     "output_type": "display_data"
    },
    {
     "data": {
      "application/vnd.jupyter.widget-view+json": {
       "model_id": "b2cecd67d10642c19a35dc391de41ab0",
       "version_major": 2,
       "version_minor": 0
      },
      "text/plain": [
       "interactive(children=(ToggleButtons(description='Plot_index', options=(), value=None), ToggleButtons(descripti…"
      ]
     },
     "metadata": {},
     "output_type": "display_data"
    },
    {
     "data": {
      "application/vnd.jupyter.widget-view+json": {
       "model_id": "d6cbcb323adf42cdb2af0dd6540fe06a",
       "version_major": 2,
       "version_minor": 0
      },
      "text/plain": [
       "HBox(children=(Button(description='Gate selection', style=ButtonStyle()), Button(description='Clear selection'…"
      ]
     },
     "metadata": {},
     "output_type": "display_data"
    },
    {
     "data": {
      "application/vnd.jupyter.widget-view+json": {
       "model_id": "75d9a2ee7bca4f46b2641f263170655b",
       "version_major": 2,
       "version_minor": 0
      },
      "text/plain": [
       "HBox(children=(Text(value='name', placeholder=''), Button(description='Save selection', style=ButtonStyle()), …"
      ]
     },
     "metadata": {},
     "output_type": "display_data"
    },
    {
     "data": {
      "application/vnd.jupyter.widget-view+json": {
       "model_id": "b7549db0f34741bc95134b2febac1013",
       "version_major": 2,
       "version_minor": 0
      },
      "text/plain": [
       "HBox(children=(ToggleButton(value=False, description='Manual axes'), FloatRangeSlider(value=(0.0, 1.0), contin…"
      ]
     },
     "metadata": {},
     "output_type": "display_data"
    },
    {
     "data": {
      "application/vnd.jupyter.widget-view+json": {
       "model_id": "a41e9a2bb5f14c069eb1ab4e7f677180",
       "version_major": 2,
       "version_minor": 0
      },
      "text/plain": [
       "HBox(children=(FloatLogSlider(value=1.0, continuous_update=False, description='Density scale:', max=0.0, min=-…"
      ]
     },
     "metadata": {},
     "output_type": "display_data"
    },
    {
     "data": {
      "application/vnd.jupyter.widget-view+json": {
       "model_id": "2ea6c889662845eaa2c33b20f7d7055d",
       "version_major": 2,
       "version_minor": 0
      },
      "text/plain": [
       "HBox(children=(Text(value='Export_name.pdf', placeholder=''), Button(description='Export figure', style=Button…"
      ]
     },
     "metadata": {},
     "output_type": "display_data"
    },
    {
     "data": {
      "application/vnd.jupyter.widget-view+json": {
       "model_id": "fce0d6424cdf4b51afb91124bd7ba5a5",
       "version_major": 2,
       "version_minor": 0
      },
      "text/plain": [
       "Canvas(toolbar=Toolbar(toolitems=[('Home', 'Reset original view', 'home', 'home'), ('Back', 'Back to previous …"
      ]
     },
     "metadata": {},
     "output_type": "display_data"
    },
    {
     "data": {
      "application/vnd.jupyter.widget-view+json": {
       "model_id": "ca0e2b332fca4684896366a81b7c3c56",
       "version_major": 2,
       "version_minor": 0
      },
      "text/plain": [
       "HBox(children=(Text(value='Export_name.pdf', placeholder=''), Button(description='Export figure', style=Button…"
      ]
     },
     "metadata": {},
     "output_type": "display_data"
    },
    {
     "data": {
      "text/plain": [
       "<fluorescence_processing.gating_util.ScatterSelectorGating at 0x7f828c4ce2b0>"
      ]
     },
     "execution_count": 21,
     "metadata": {},
     "output_type": "execute_result"
    }
   ],
   "source": [
    "from fluorescence_processing.gating_util import ScatterSelectorGating\n",
    "\n",
    "viewer_channel_names = ['CD123/HLA-DR/CD14_full_model_unmixed',\n",
    "       'CD3/CD19/CD56_full_model_unmixed', 'CD45_full_model_unmixed',\n",
    "       'CD16_full_model_unmixed']\n",
    "\n",
    "# viewer_channel_names = ['CD45_single_antibody_model_unmixed',\n",
    "#        'autofluor_single_antibody_model_unmixed',\n",
    "#        'CD123_single_antibody_model_unmixed',\n",
    "#        'CD19_single_antibody_model_unmixed',\n",
    "#        'CD56_single_antibody_model_unmixed',\n",
    "#        'CD14_single_antibody_model_unmixed',\n",
    "#        'CD16_single_antibody_model_unmixed',\n",
    "#        'HLA-DR_single_antibody_model_unmixed',\n",
    "#        'CD3_single_antibody_model_unmixed',]\n",
    "\n",
    "# For exporting figures\n",
    "export_dir = '/home/henry/leukosight_data/figures/demixing/'\n",
    "# For making image montages\n",
    "read_image_fn = lambda index: bsccm_with_data.read_image(index, contrast_type='dpc')\n",
    "\n",
    "ScatterSelectorGating(bsccm=bsccm_with_data, channel_names=viewer_channel_names, num_cols=1, \n",
    "                  export_dir=export_dir, read_image_fn=read_image_fn)"
   ]
  },
  {
   "cell_type": "markdown",
   "metadata": {},
   "source": [
    "# Save results"
   ]
  },
  {
   "cell_type": "code",
   "execution_count": 22,
   "metadata": {},
   "outputs": [],
   "source": [
    "dataframe_saving_fullpath = bsccm_with_data.data_root + 'BSCCM_surface_markers.csv'\n",
    "bsccm_with_data.surface_marker_dataframe.to_csv(dataframe_saving_fullpath, index=False)"
   ]
  },
  {
   "cell_type": "markdown",
   "metadata": {},
   "source": [
    "# Resave BSCCM-tiny with updated fluorescence"
   ]
  },
  {
   "cell_type": "code",
   "execution_count": 23,
   "metadata": {},
   "outputs": [
    {
     "name": "stdout",
     "output_type": "stream",
     "text": [
      "Opening BSCCM (this may take a few seconds)...\n",
      "BSCCM Opened\n"
     ]
    }
   ],
   "source": [
    "## Don't forget to go back and update BSCCM Tiny with new flu\n",
    "\n",
    "if COHERENT:\n",
    "    tiny_root = str(Path.home()) + '/BSCCM_local/BSCCM-coherent-tiny/'\n",
    "else:\n",
    "    tiny_root = str(Path.home()) + '/BSCCM_local/BSCCM-tiny/'\n",
    "bsccm_tiny = BSCCM(tiny_root)\n",
    "    \n",
    "global_indices = bsccm_tiny.index_dataframe['full_dataset_global_index'].to_numpy()\n",
    "tiny_data = bsccm_with_data.surface_marker_dataframe.loc[global_indices]\n",
    "\n",
    "tiny_saving_path = bsccm_tiny.data_root + 'BSCCM_surface_markers.csv'\n",
    "\n",
    "tiny_data['full_dataset_global_index'] = tiny_data['global_index']\n",
    "tiny_data['global_index'] = np.arange(len(tiny_data))  \n",
    "\n",
    "tiny_data.to_csv(tiny_saving_path, index=False)"
   ]
  }
 ],
 "metadata": {
  "kernelspec": {
   "display_name": "Python 3",
   "language": "python",
   "name": "python3"
  },
  "language_info": {
   "codemirror_mode": {
    "name": "ipython",
    "version": 3
   },
   "file_extension": ".py",
   "mimetype": "text/x-python",
   "name": "python",
   "nbconvert_exporter": "python",
   "pygments_lexer": "ipython3",
   "version": "3.8.5"
  }
 },
 "nbformat": 4,
 "nbformat_minor": 4
}
