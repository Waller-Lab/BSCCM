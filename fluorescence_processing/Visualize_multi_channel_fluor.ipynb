{
 "cells": [
  {
   "cell_type": "markdown",
   "metadata": {},
   "source": [
    "# Visualize some multi-channel fluorescence images fro the purposes of figure making"
   ]
  },
  {
   "cell_type": "code",
   "execution_count": 6,
   "metadata": {},
   "outputs": [
    {
     "name": "stdout",
     "output_type": "stream",
     "text": [
      "The autoreload extension is already loaded. To reload it, use:\n",
      "  %reload_ext autoreload\n"
     ]
    }
   ],
   "source": [
    "%matplotlib widget\n",
    "%load_ext autoreload\n",
    "%autoreload 2\n",
    "\n",
    "import pandas as pd\n",
    "\n",
    "import time\n",
    "import matplotlib.pyplot as plt\n",
    "import matplotlib.cm as cm\n",
    "import matplotlib.patches as patches\n",
    "from scipy import stats\n",
    "from scipy.spatial import distance\n",
    "import numpy as np\n",
    "from scipy import interpolate\n",
    "from pathlib import Path\n",
    "import matplotlib as mpl\n",
    "\n",
    "from bsccm import BSCCM\n",
    "\n",
    "bsccm = BSCCM(str(Path.home()) + '/BSCCM_local/BSCCM/')\n"
   ]
  },
  {
   "cell_type": "code",
   "execution_count": 80,
   "metadata": {},
   "outputs": [
    {
     "data": {
      "application/vnd.jupyter.widget-view+json": {
       "model_id": "95168debab664b869b9c02ab511c0284",
       "version_major": 2,
       "version_minor": 0
      },
      "text/plain": [
       "Canvas(toolbar=Toolbar(toolitems=[('Home', 'Reset original view', 'home', 'home'), ('Back', 'Back to previous …"
      ]
     },
     "metadata": {},
     "output_type": "display_data"
    }
   ],
   "source": [
    "from matplotlib.colors import LinearSegmentedColormap\n",
    "import matplotlib.gridspec as gridspec\n",
    "\n",
    "cmaps = [LinearSegmentedColormap.from_list('testmap', [[0, 0, 0], [0, 0, 1]]),\n",
    "         LinearSegmentedColormap.from_list('testmap', [[0, 0, 0], [0, 1, 0]]),\n",
    "         LinearSegmentedColormap.from_list('testmap', [[0, 0, 0], [0.5, 0.5, 0]]),\n",
    "         LinearSegmentedColormap.from_list('testmap', [[0, 0, 0], [1, 0, 0]]),\n",
    "         LinearSegmentedColormap.from_list('testmap', [[0, 0, 0], [0.5, 0, 0.5]]),\n",
    "         LinearSegmentedColormap.from_list('testmap', [[0, 0, 0], [0, 0.5, 0.5]])]\n",
    "\n",
    "shape = (40,40)\n",
    "\n",
    "indices = bsccm.get_indices(batch=0, antibodies='all', \n",
    "                            shuffle=True)[:np.prod(shape)].reshape(shape)\n",
    "\n",
    "colors = [cmap, cmap2]\n",
    "alphas = [1, 0.5]\n",
    "images = []\n",
    "\n",
    "cols = []\n",
    "for i in range(shape[0]):\n",
    "    rows = []\n",
    "    for j in range(shape[1]):\n",
    "        channels = []\n",
    "        for c_index, channel in enumerate(bsccm.fluor_channel_names):\n",
    "            channels.append(bsccm.read_image(indices[i,j], contrast_type='fluor', channel=channel))            \n",
    "        rows.append(np.stack(channels, axis=-1))\n",
    "    cols.append(rows)\n",
    "images = np.array(cols)\n",
    "        \n",
    "ch_min = np.min(images, axis=(0,1,2,3))\n",
    "ch_max = np.max(images, axis=(0,1,2,3))\n",
    "\n",
    "rescaled = (images - ch_min) / (ch_max - ch_min)\n",
    "\n",
    "mapped = [cmaps[i](rescaled[..., i]) for i in range(6)]\n",
    "composite = np.sum(mapped, axis=0)[..., :3]\n",
    "composite[composite > 1] = 1\n",
    "\n",
    "fig = plt.figure(figsize=(8,8))\n",
    "gs = gridspec.GridSpec(*shape)\n",
    "gs.update(wspace=0.0, hspace=0.0) # set the spacing between axes. \n",
    "\n",
    "for i in range(shape[0]):\n",
    "    for j in range(shape[1]):\n",
    "        ax = plt.subplot(gs[i, j])\n",
    "        ax.imshow(composite[i, j])\n",
    "        ax.set_axis_off()"
   ]
  },
  {
   "cell_type": "code",
   "execution_count": 81,
   "metadata": {},
   "outputs": [],
   "source": [
    "plt.savefig('/home/henry/leukosight_data/figures/demixing/fluor_cell_montage_huge.pdf', \n",
    "            transparent=True)"
   ]
  }
 ],
 "metadata": {
  "kernelspec": {
   "display_name": "Python 3",
   "language": "python",
   "name": "python3"
  },
  "language_info": {
   "codemirror_mode": {
    "name": "ipython",
    "version": 3
   },
   "file_extension": ".py",
   "mimetype": "text/x-python",
   "name": "python",
   "nbconvert_exporter": "python",
   "pygments_lexer": "ipython3",
   "version": "3.8.5"
  }
 },
 "nbformat": 4,
 "nbformat_minor": 4
}
