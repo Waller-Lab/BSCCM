{
 "cells": [
  {
   "cell_type": "markdown",
   "metadata": {},
   "source": [
    "# Gating of demixed protein marker levels"
   ]
  },
  {
   "cell_type": "code",
   "execution_count": 2,
   "metadata": {},
   "outputs": [
    {
     "name": "stdout",
     "output_type": "stream",
     "text": [
      "The autoreload extension is already loaded. To reload it, use:\n",
      "  %reload_ext autoreload\n"
     ]
    }
   ],
   "source": [
    "%matplotlib widget\n",
    "%load_ext autoreload\n",
    "%autoreload 2\n",
    "\n",
    "from fluorescence_processing.gating_util import ScatterSelectorGating\n",
    "from bsccm import BSCCM\n",
    "from pathlib import Path\n",
    "\n",
    "bsccm = BSCCM(str(Path.home()) + '/BSCCM_local/BSCCM/')"
   ]
  },
  {
   "cell_type": "code",
   "execution_count": 17,
   "metadata": {},
   "outputs": [
    {
     "data": {
      "application/vnd.jupyter.widget-view+json": {
       "model_id": "66b919b74e5a4d20a9db4a5a2fde125e",
       "version_major": 2,
       "version_minor": 0
      },
      "text/plain": [
       "HBox(children=(Dropdown(description='antibodies:', options=('CD45', 'CD123', 'unstained', 'CD19', 'CD56', 'all…"
      ]
     },
     "metadata": {},
     "output_type": "display_data"
    },
    {
     "data": {
      "application/vnd.jupyter.widget-view+json": {
       "model_id": "ca7d524174e943a1a954d6dfe51361ab",
       "version_major": 2,
       "version_minor": 0
      },
      "text/plain": [
       "Canvas(toolbar=Toolbar(toolitems=[('Home', 'Reset original view', 'home', 'home'), ('Back', 'Back to previous …"
      ]
     },
     "metadata": {},
     "output_type": "display_data"
    },
    {
     "data": {
      "application/vnd.jupyter.widget-view+json": {
       "model_id": "9019c5ab529e4e248b6dc9b142c23468",
       "version_major": 2,
       "version_minor": 0
      },
      "text/plain": [
       "interactive(children=(ToggleButtons(description='Plot_index', options=(), value=None), ToggleButtons(descripti…"
      ]
     },
     "metadata": {},
     "output_type": "display_data"
    },
    {
     "data": {
      "application/vnd.jupyter.widget-view+json": {
       "model_id": "05ff331b074a44f6bb38ebcc1b990dd9",
       "version_major": 2,
       "version_minor": 0
      },
      "text/plain": [
       "HBox(children=(Button(description='Gate selection', style=ButtonStyle()), Button(description='Clear selection'…"
      ]
     },
     "metadata": {},
     "output_type": "display_data"
    },
    {
     "data": {
      "application/vnd.jupyter.widget-view+json": {
       "model_id": "ab9604418b4845f5b903691dd368de87",
       "version_major": 2,
       "version_minor": 0
      },
      "text/plain": [
       "HBox(children=(Text(value='name', placeholder=''), Button(description='Save selection', style=ButtonStyle()), …"
      ]
     },
     "metadata": {},
     "output_type": "display_data"
    },
    {
     "data": {
      "application/vnd.jupyter.widget-view+json": {
       "model_id": "a4da81169ac847e288f161d620e207ab",
       "version_major": 2,
       "version_minor": 0
      },
      "text/plain": [
       "HBox(children=(ToggleButton(value=False, description='Manual axes'), FloatRangeSlider(value=(0.0, 1.0), contin…"
      ]
     },
     "metadata": {},
     "output_type": "display_data"
    },
    {
     "data": {
      "application/vnd.jupyter.widget-view+json": {
       "model_id": "4f97b8eeb9dc4ca1821c50680bced9c6",
       "version_major": 2,
       "version_minor": 0
      },
      "text/plain": [
       "HBox(children=(FloatLogSlider(value=1.0, continuous_update=False, description='Density scale:', max=0.0, min=-…"
      ]
     },
     "metadata": {},
     "output_type": "display_data"
    },
    {
     "data": {
      "application/vnd.jupyter.widget-view+json": {
       "model_id": "7fd5166273a04414a6b099b31187a7db",
       "version_major": 2,
       "version_minor": 0
      },
      "text/plain": [
       "HBox(children=(Text(value='Export_name.pdf', placeholder=''), Button(description='Export figure', style=Button…"
      ]
     },
     "metadata": {},
     "output_type": "display_data"
    },
    {
     "data": {
      "application/vnd.jupyter.widget-view+json": {
       "model_id": "6072f38b19cf40e795d2846302194a38",
       "version_major": 2,
       "version_minor": 0
      },
      "text/plain": [
       "Canvas(toolbar=Toolbar(toolitems=[('Home', 'Reset original view', 'home', 'home'), ('Back', 'Back to previous …"
      ]
     },
     "metadata": {},
     "output_type": "display_data"
    },
    {
     "data": {
      "application/vnd.jupyter.widget-view+json": {
       "model_id": "40ec95e273c147d0bb839160c018299b",
       "version_major": 2,
       "version_minor": 0
      },
      "text/plain": [
       "HBox(children=(Text(value='Export_name.pdf', placeholder=''), Button(description='Export figure', style=Button…"
      ]
     },
     "metadata": {},
     "output_type": "display_data"
    },
    {
     "data": {
      "text/plain": [
       "<fluorescence_processing.gating_util.ScatterSelectorGating at 0x7ff73bf144f0>"
      ]
     },
     "execution_count": 17,
     "metadata": {},
     "output_type": "execute_result"
    }
   ],
   "source": [
    "# channel_names = [\n",
    "#     'CD45_single_antibody_model_unmixed',\n",
    "#        'autofluor_single_antibody_model_unmixed',\n",
    "#        'CD123_single_antibody_model_unmixed',\n",
    "#        'CD19_single_antibody_model_unmixed',\n",
    "#        'CD56_single_antibody_model_unmixed',\n",
    "#        'CD14_single_antibody_model_unmixed',\n",
    "#        'CD16_single_antibody_model_unmixed',\n",
    "#        'HLA-DR_single_antibody_model_unmixed',\n",
    "#        'CD3_single_antibody_model_unmixed']\n",
    "channel_names = [\n",
    "       'CD123/HLA-DR/CD14_full_model_unmixed',\n",
    "       'CD3/CD19/CD56_full_model_unmixed', 'CD45_full_model_unmixed',\n",
    "       'CD16_full_model_unmixed']\n",
    "\n",
    "# For exporting figures\n",
    "export_dir = '/home/henry/leukosight_data/figures/demixing/'\n",
    "# For making image montages\n",
    "read_image_fn = lambda index: bsccm.read_image(index, contrast_type='dpc')\n",
    "\n",
    "ScatterSelectorGating(bsccm=bsccm, channel_names=channel_names, num_cols=1, \n",
    "                  export_dir=export_dir, read_image_fn=read_image_fn)"
   ]
  }
 ],
 "metadata": {
  "kernelspec": {
   "display_name": "Python 3",
   "language": "python",
   "name": "python3"
  },
  "language_info": {
   "codemirror_mode": {
    "name": "ipython",
    "version": 3
   },
   "file_extension": ".py",
   "mimetype": "text/x-python",
   "name": "python",
   "nbconvert_exporter": "python",
   "pygments_lexer": "ipython3",
   "version": "3.8.5"
  }
 },
 "nbformat": 4,
 "nbformat_minor": 4
}
