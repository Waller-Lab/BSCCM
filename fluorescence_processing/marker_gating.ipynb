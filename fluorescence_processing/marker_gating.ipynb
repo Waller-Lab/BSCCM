{
 "cells": [
  {
   "cell_type": "markdown",
   "metadata": {},
   "source": [
    "# Gating of demixed protein marker levels"
   ]
  },
  {
   "cell_type": "code",
   "execution_count": 12,
   "metadata": {},
   "outputs": [
    {
     "name": "stdout",
     "output_type": "stream",
     "text": [
      "The autoreload extension is already loaded. To reload it, use:\n",
      "  %reload_ext autoreload\n",
      "Opening BSCCM (this may take a few seconds)...\n",
      "BSCCM Opened\n"
     ]
    }
   ],
   "source": [
    "%matplotlib widget\n",
    "%load_ext autoreload\n",
    "%autoreload 2\n",
    "\n",
    "from fluorescence_processing.gating_util import ScatterSelectorGating\n",
    "from bsccm import BSCCM\n",
    "from pathlib import Path\n",
    "\n",
    "bsccm = BSCCM(str(Path.home()) + '/BSCCM_local/BSCCM/')"
   ]
  },
  {
   "cell_type": "code",
   "execution_count": 11,
   "metadata": {},
   "outputs": [
    {
     "data": {
      "text/plain": [
       "15712"
      ]
     },
     "execution_count": 11,
     "metadata": {},
     "output_type": "execute_result"
    }
   ],
   "source": [
    "import numpy as np\n",
    "np.sum(bsccm.index_dataframe.has_matched_histology_cell)"
   ]
  },
  {
   "cell_type": "code",
   "execution_count": 10,
   "metadata": {},
   "outputs": [
    {
     "data": {
      "application/vnd.jupyter.widget-view+json": {
       "model_id": "1e11a77263bf4b059e24455390ee0ea7",
       "version_major": 2,
       "version_minor": 0
      },
      "text/plain": [
       "HBox(children=(Dropdown(description='antibodies:', options=('CD45', 'CD123', 'unstained', 'CD19', 'CD56', 'all…"
      ]
     },
     "metadata": {},
     "output_type": "display_data"
    },
    {
     "data": {
      "application/vnd.jupyter.widget-view+json": {
       "model_id": "520b7e3fc2514e3bb0c2271dcc421bad",
       "version_major": 2,
       "version_minor": 0
      },
      "text/plain": [
       "Canvas(toolbar=Toolbar(toolitems=[('Home', 'Reset original view', 'home', 'home'), ('Back', 'Back to previous …"
      ]
     },
     "metadata": {},
     "output_type": "display_data"
    },
    {
     "data": {
      "application/vnd.jupyter.widget-view+json": {
       "model_id": "171242a7c6ec4b998af3d62148692928",
       "version_major": 2,
       "version_minor": 0
      },
      "text/plain": [
       "interactive(children=(ToggleButtons(description='Plot_index', options=(), value=None), ToggleButtons(descripti…"
      ]
     },
     "metadata": {},
     "output_type": "display_data"
    },
    {
     "data": {
      "application/vnd.jupyter.widget-view+json": {
       "model_id": "e70ae9db8b974d7fba61ab231e58f3f1",
       "version_major": 2,
       "version_minor": 0
      },
      "text/plain": [
       "HBox(children=(Button(description='Gate selection', style=ButtonStyle()), Button(description='Clear selection'…"
      ]
     },
     "metadata": {},
     "output_type": "display_data"
    },
    {
     "data": {
      "application/vnd.jupyter.widget-view+json": {
       "model_id": "7e016852fab14264b01f6c224477360f",
       "version_major": 2,
       "version_minor": 0
      },
      "text/plain": [
       "HBox(children=(Text(value='name', placeholder=''), Button(description='Save selection', style=ButtonStyle()), …"
      ]
     },
     "metadata": {},
     "output_type": "display_data"
    },
    {
     "data": {
      "application/vnd.jupyter.widget-view+json": {
       "model_id": "527992d2daa44550b043adbb1ffac25c",
       "version_major": 2,
       "version_minor": 0
      },
      "text/plain": [
       "HBox(children=(ToggleButton(value=False, description='Manual axes'), FloatRangeSlider(value=(0.0, 1.0), contin…"
      ]
     },
     "metadata": {},
     "output_type": "display_data"
    },
    {
     "data": {
      "application/vnd.jupyter.widget-view+json": {
       "model_id": "7c5076a61be84656989331d77d909516",
       "version_major": 2,
       "version_minor": 0
      },
      "text/plain": [
       "HBox(children=(FloatLogSlider(value=1.0, continuous_update=False, description='Density scale:', max=0.0, min=-…"
      ]
     },
     "metadata": {},
     "output_type": "display_data"
    },
    {
     "data": {
      "application/vnd.jupyter.widget-view+json": {
       "model_id": "72de209db9f44bcd85905650601e6ff5",
       "version_major": 2,
       "version_minor": 0
      },
      "text/plain": [
       "HBox(children=(Text(value='Export_name.pdf', placeholder=''), Button(description='Export figure', style=Button…"
      ]
     },
     "metadata": {},
     "output_type": "display_data"
    },
    {
     "data": {
      "application/vnd.jupyter.widget-view+json": {
       "model_id": "0b999fd02d5d43578e9a045ab1ee7183",
       "version_major": 2,
       "version_minor": 0
      },
      "text/plain": [
       "Canvas(toolbar=Toolbar(toolitems=[('Home', 'Reset original view', 'home', 'home'), ('Back', 'Back to previous …"
      ]
     },
     "metadata": {},
     "output_type": "display_data"
    },
    {
     "data": {
      "application/vnd.jupyter.widget-view+json": {
       "model_id": "e5499a4f7e96416f960b9406f9cd389f",
       "version_major": 2,
       "version_minor": 0
      },
      "text/plain": [
       "HBox(children=(Text(value='Export_name.pdf', placeholder=''), Button(description='Export figure', style=Button…"
      ]
     },
     "metadata": {},
     "output_type": "display_data"
    },
    {
     "data": {
      "text/plain": [
       "<fluorescence_processing.gating_util.ScatterSelectorGating at 0x7f73f6a2b700>"
      ]
     },
     "execution_count": 10,
     "metadata": {},
     "output_type": "execute_result"
    }
   ],
   "source": [
    "# channel_names = [\n",
    "#     'CD45_single_antibody_model_unmixed',\n",
    "#        'autofluor_single_antibody_model_unmixed',\n",
    "#        'CD123_single_antibody_model_unmixed',\n",
    "#        'CD19_single_antibody_model_unmixed',\n",
    "#        'CD56_single_antibody_model_unmixed',\n",
    "#        'CD14_single_antibody_model_unmixed',\n",
    "#        'CD16_single_antibody_model_unmixed',\n",
    "#        'HLA-DR_single_antibody_model_unmixed',\n",
    "#        'CD3_single_antibody_model_unmixed']\n",
    "channel_names = [\n",
    "       'CD123/HLA-DR/CD14_full_model_unmixed',\n",
    "       'CD3/CD19/CD56_full_model_unmixed', 'CD45_full_model_unmixed',\n",
    "       'CD16_full_model_unmixed']\n",
    "\n",
    "# For exporting figures\n",
    "export_dir = '/home/henry/leukosight_data/figures/demixing/'\n",
    "# For making image montages\n",
    "read_image_fn = lambda index: bsccm.read_image(index, contrast_type='led_array', channel='DPC_Top')\n",
    "\n",
    "ScatterSelectorGating(bsccm=bsccm, channel_names=channel_names, num_cols=1, \n",
    "                  export_dir=export_dir, read_image_fn=read_image_fn)"
   ]
  },
  {
   "cell_type": "markdown",
   "metadata": {},
   "source": [
    "# Show the histogram of a single marker"
   ]
  },
  {
   "cell_type": "code",
   "execution_count": 16,
   "metadata": {},
   "outputs": [
    {
     "data": {
      "application/vnd.jupyter.widget-view+json": {
       "model_id": "2f8631901e264b8c966a371c51d6e624",
       "version_major": 2,
       "version_minor": 0
      },
      "text/plain": [
       "Canvas(toolbar=Toolbar(toolitems=[('Home', 'Reset original view', 'home', 'home'), ('Back', 'Back to previous …"
      ]
     },
     "metadata": {},
     "output_type": "display_data"
    },
    {
     "name": "stdout",
     "output_type": "stream",
     "text": [
      "(-1.6417186648455648, 6.780212949450382)\n"
     ]
    }
   ],
   "source": [
    "import numpy as np\n",
    "marker = 'CD3'\n",
    "\n",
    "cd3_ones = bsccm.surface_marker_dataframe[np.logical_and(bsccm.index_dataframe.antibodies == marker,\n",
    "                                     bsccm.index_dataframe.batch == 0)]\n",
    "\n",
    "t = cd3_ones['{}_single_antibody_model_unmixed'.format(marker)].to_numpy()\n",
    "\n",
    "t = np.log(t)\n",
    "\n",
    "range_min = np.nanpercentile(t, 0.1)\n",
    "range_max = np.nanpercentile(t, 99.9)\n",
    "pad = 0.15 * (range_max - range_min)\n",
    "display_range = (range_min - pad / 2, range_max + pad)            \n",
    "            \n",
    "%matplotlib widget\n",
    "import matplotlib.pyplot as plt\n",
    "\n",
    "fig, ax = plt.subplots(figsize=(7, 4))\n",
    "_ = plt.hist(t, 80, density=True)\n",
    "ax.set_xticks(np.arange(-10, 10))\n",
    "\n",
    "plt.xlim(display_range)\n",
    "plt.xlabel('log CD3')\n",
    "plt.ylabel('density')\n",
    "plt.gca().set_yticklabels([])\n",
    "print(display_range)\n",
    "\n",
    "ax.grid(True)\n",
    "\n",
    "# plt"
   ]
  },
  {
   "cell_type": "code",
   "execution_count": 2,
   "metadata": {},
   "outputs": [
    {
     "data": {
      "text/plain": [
       "['Brightfield',\n",
       " 'DF_50',\n",
       " 'DF_50_Bottom',\n",
       " 'DF_50_Right',\n",
       " 'DF_55',\n",
       " 'DF_60',\n",
       " 'DF_60_Bottom',\n",
       " 'DF_60_Right',\n",
       " 'DF_65',\n",
       " 'DF_70',\n",
       " 'DF_70_Bottom',\n",
       " 'DF_70_Right',\n",
       " 'DF_75',\n",
       " 'DF_80',\n",
       " 'DF_80_Bottom',\n",
       " 'DF_80_Right',\n",
       " 'DF_85',\n",
       " 'DF_90',\n",
       " 'DPC_Bottom',\n",
       " 'DPC_Left',\n",
       " 'DPC_Right',\n",
       " 'DPC_Top',\n",
       " 'LED119']"
      ]
     },
     "execution_count": 2,
     "metadata": {},
     "output_type": "execute_result"
    }
   ],
   "source": [
    "bsccm.global_metadata['led_array']['channel_names']"
   ]
  },
  {
   "cell_type": "code",
   "execution_count": null,
   "metadata": {},
   "outputs": [],
   "source": []
  }
 ],
 "metadata": {
  "kernelspec": {
   "display_name": "Python 3",
   "language": "python",
   "name": "python3"
  },
  "language_info": {
   "codemirror_mode": {
    "name": "ipython",
    "version": 3
   },
   "file_extension": ".py",
   "mimetype": "text/x-python",
   "name": "python",
   "nbconvert_exporter": "python",
   "pygments_lexer": "ipython3",
   "version": "3.6.9"
  }
 },
 "nbformat": 4,
 "nbformat_minor": 4
}
