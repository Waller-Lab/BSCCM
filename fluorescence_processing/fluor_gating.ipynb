{
 "cells": [
  {
   "cell_type": "markdown",
   "metadata": {},
   "source": [
    "# Gating of shading corrected fluoresnce\n",
    "Use this notebook to select popluations of cells with a single fluorescent marker, so that they can be used in a subsequent demixing step"
   ]
  },
  {
   "cell_type": "code",
   "execution_count": 14,
   "metadata": {},
   "outputs": [
    {
     "name": "stdout",
     "output_type": "stream",
     "text": [
      "The autoreload extension is already loaded. To reload it, use:\n",
      "  %reload_ext autoreload\n"
     ]
    }
   ],
   "source": [
    "%matplotlib widget\n",
    "%load_ext autoreload\n",
    "%autoreload 2\n",
    "\n",
    "import pandas as pd\n",
    "import matplotlib as mpl\n",
    "import time\n",
    "import inspect\n",
    "import matplotlib.pyplot as plt\n",
    "import ipywidgets as widgets\n",
    "from ipywidgets import interact, interact_manual\n",
    "from matplotlib.widgets import LassoSelector\n",
    "from matplotlib.path import Path as mplPath\n",
    "import numpy as np\n",
    "from pathlib import Path\n",
    "\n",
    "from fluorescence_processing.fluor_gating_util import ScatterSelectorGating\n",
    "import ipywidgets as widgets\n",
    "from IPython.display import display\n",
    "from bsccm import BSCCM\n",
    "\n",
    "bsccm = BSCCM(str(Path.home()) + '/BSCCM_local/BSCCM/')\n",
    "dataframe_saving_fullpath = str(Path.home()) + '/BSCCM_local/BSCCM/BSCCM_surface_markers.csv'\n",
    "# For exporting figures\n",
    "export_dir = '/home/henry/leukosight_data/figures/demixing/'"
   ]
  },
  {
   "cell_type": "code",
   "execution_count": 15,
   "metadata": {
    "tags": []
   },
   "outputs": [
    {
     "data": {
      "application/vnd.jupyter.widget-view+json": {
       "model_id": "5ebaaaf6cc794aad8edc1b5132e9fdf3",
       "version_major": 2,
       "version_minor": 0
      },
      "text/plain": [
       "Canvas(toolbar=Toolbar(toolitems=[('Home', 'Reset original view', 'home', 'home'), ('Back', 'Back to previous …"
      ]
     },
     "metadata": {},
     "output_type": "display_data"
    },
    {
     "data": {
      "application/vnd.jupyter.widget-view+json": {
       "model_id": "2518d2695b054734b9f01584387ff99b",
       "version_major": 2,
       "version_minor": 0
      },
      "text/plain": [
       "HBox(children=(Text(value='Export_name.pdf', placeholder=''), Button(description='Export figure', style=Button…"
      ]
     },
     "metadata": {},
     "output_type": "display_data"
    }
   ],
   "source": [
    "#Creat a figure for visualizing images and add a button for exporting\n",
    "img_fig = plt.figure(figsize=(4,4))\n",
    "export_text_box = widgets.Text(\n",
    "                value='Export_name.pdf',\n",
    "                placeholder='',\n",
    "                description=''\n",
    "            )\n",
    "\n",
    "def export_fig(button):\n",
    "    self.fig.savefig(export_dir + box.value, transparent=True)\n",
    "    print('Saved to {}{}'.sformat(export_dir, box.value))\n",
    "\n",
    "export_button = widgets.Button(description='Export figure')                \n",
    "export_button.on_click(export_fig) \n",
    "\n",
    "display(widgets.HBox([export_text_box, export_button]))\n"
   ]
  },
  {
   "cell_type": "code",
   "execution_count": 16,
   "metadata": {},
   "outputs": [
    {
     "data": {
      "application/vnd.jupyter.widget-view+json": {
       "model_id": "688592a4eeb74c4fafeb625d9c81ce7d",
       "version_major": 2,
       "version_minor": 0
      },
      "text/plain": [
       "HBox(children=(Dropdown(description='antibodies:', options=('CD45', 'CD123', 'unstained', 'CD19', 'CD56', 'all…"
      ]
     },
     "metadata": {},
     "output_type": "display_data"
    },
    {
     "data": {
      "application/vnd.jupyter.widget-view+json": {
       "model_id": "d3476f0d989a4136ae397ed842650e22",
       "version_major": 2,
       "version_minor": 0
      },
      "text/plain": [
       "Canvas(toolbar=Toolbar(toolitems=[('Home', 'Reset original view', 'home', 'home'), ('Back', 'Back to previous …"
      ]
     },
     "metadata": {},
     "output_type": "display_data"
    },
    {
     "data": {
      "application/vnd.jupyter.widget-view+json": {
       "model_id": "9c79137e2c9b4b269007241658428f9d",
       "version_major": 2,
       "version_minor": 0
      },
      "text/plain": [
       "interactive(children=(ToggleButtons(description='Plot_index', options=(), value=None), ToggleButtons(descripti…"
      ]
     },
     "metadata": {},
     "output_type": "display_data"
    },
    {
     "data": {
      "application/vnd.jupyter.widget-view+json": {
       "model_id": "d7936d5609c641ee9b45512bbf1018cc",
       "version_major": 2,
       "version_minor": 0
      },
      "text/plain": [
       "HBox(children=(Button(description='Gate selection', style=ButtonStyle()), Button(description='Clear selection'…"
      ]
     },
     "metadata": {},
     "output_type": "display_data"
    },
    {
     "data": {
      "application/vnd.jupyter.widget-view+json": {
       "model_id": "02c52c6dcec14dfab5d5e18828283efc",
       "version_major": 2,
       "version_minor": 0
      },
      "text/plain": [
       "HBox(children=(Text(value='name', placeholder=''), Button(description='Save selection', style=ButtonStyle()), …"
      ]
     },
     "metadata": {},
     "output_type": "display_data"
    },
    {
     "data": {
      "application/vnd.jupyter.widget-view+json": {
       "model_id": "b7c1687b1c444d95bf8431091edeac7d",
       "version_major": 2,
       "version_minor": 0
      },
      "text/plain": [
       "HBox(children=(ToggleButton(value=False, description='Manual axes'), FloatRangeSlider(value=(0.0, 1.0), contin…"
      ]
     },
     "metadata": {},
     "output_type": "display_data"
    },
    {
     "data": {
      "application/vnd.jupyter.widget-view+json": {
       "model_id": "5697ddbaac674eb8abe9108c472127c8",
       "version_major": 2,
       "version_minor": 0
      },
      "text/plain": [
       "HBox(children=(Text(value='Export_name.pdf', placeholder=''), Button(description='Export figure', style=Button…"
      ]
     },
     "metadata": {},
     "output_type": "display_data"
    }
   ],
   "source": [
    "dimensions = {}\n",
    "dimensions['antibodies'] = bsccm.index_dataframe['antibodies'].unique().tolist()\n",
    "dimensions['batch'] = batches = bsccm.index_dataframe['batch'].unique().tolist()\n",
    "dimensions['slide_replicate']  = bsccm.index_dataframe['slide_replicate'].unique().tolist()\n",
    "\n",
    "# Setup top controls for selecting antobody/batch/slide\n",
    "selector = None\n",
    "def on_value_change(change):\n",
    "    masks = [bsccm.index_dataframe[name] == widget_dict[name].value for name in widget_dict.keys()]\n",
    "    total_mask = np.logical_and(np.logical_and(masks[0], masks[1]), masks[2])\n",
    "    gui.set_selection(None)\n",
    "    gui.change_data(total_mask)\n",
    "        \n",
    "widget_dict = {}\n",
    "for name in dimensions.keys():\n",
    "    widget_dict[name] = widgets.Dropdown(\n",
    "        options=dimensions[name], value=dimensions[name][0],\n",
    "        description=name + ':', disabled=False)\n",
    "    widget_dict[name].observe(on_value_change, names='value')\n",
    "\n",
    "    \n",
    "channel_names = ['Fluor_426-446_shading_corrected', \n",
    "       'Fluor_500-550_shading_corrected', \n",
    "       'Fluor_550-570_shading_corrected', \n",
    "       'Fluor_585-625_shading_corrected', \n",
    "       'Fluor_627-673_shading_corrected', \n",
    "       'Fluor_690-_shading_corrected']\n",
    "\n",
    "read_image_fn = lambda index: bsccm.read_image(index, contrast_type='dpc')\n",
    "\n",
    "\n",
    "display(widgets.HBox(list(widget_dict.values())))\n",
    "\n",
    "masks = [bsccm.index_dataframe[name] == widget_dict[name].value for name in widget_dict.keys()]\n",
    "intial_mask = np.logical_and(np.logical_and(masks[0], masks[1]), masks[2])\n",
    "gui = ScatterSelectorGating(bsccm.surface_marker_dataframe, intial_mask, channel_names, num_cols=1, \n",
    "                  export_dir=export_dir, read_image_fn=read_image_fn, img_fig=img_fig,\n",
    "                           dataframe_saving_fullpath=dataframe_saving_fullpath)\n",
    "\n",
    "# initialize\n",
    "on_value_change(None)"
   ]
  }
 ],
 "metadata": {
  "kernelspec": {
   "display_name": "Python 3",
   "language": "python",
   "name": "python3"
  },
  "language_info": {
   "codemirror_mode": {
    "name": "ipython",
    "version": 3
   },
   "file_extension": ".py",
   "mimetype": "text/x-python",
   "name": "python",
   "nbconvert_exporter": "python",
   "pygments_lexer": "ipython3",
   "version": "3.8.5"
  }
 },
 "nbformat": 4,
 "nbformat_minor": 4
}
