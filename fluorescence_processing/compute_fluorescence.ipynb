{
 "cells": [
  {
   "cell_type": "markdown",
   "metadata": {},
   "source": [
    "# Take in raw fluorescence images and compute a scalar fluorescence score"
   ]
  },
  {
   "cell_type": "code",
   "execution_count": 7,
   "metadata": {},
   "outputs": [
    {
     "name": "stdout",
     "output_type": "stream",
     "text": [
      "The autoreload extension is already loaded. To reload it, use:\n",
      "  %reload_ext autoreload\n"
     ]
    }
   ],
   "source": [
    "%load_ext autoreload\n",
    "%autoreload 2\n",
    "\n",
    "import zarr\n",
    "import dask.array as da\n",
    "import pandas as pd\n",
    "import numpy as np\n",
    "from scipy import stats\n",
    "from scipy import ndimage as ndi\n",
    "\n",
    "from pathlib import Path\n",
    "from bsccm import BSCCM \n",
    "\n",
    "\n",
    "home = str(Path.home())\n",
    "data_root = home + '/BSCCM_local/BSCCM/'\n",
    "\n",
    "dataset = BSCCM(data_root)\n"
   ]
  },
  {
   "cell_type": "code",
   "execution_count": 8,
   "metadata": {
    "tags": []
   },
   "outputs": [
    {
     "name": "stdout",
     "output_type": "stream",
     "text": [
      "4303          \r"
     ]
    }
   ],
   "source": [
    "fluor_dataframe = pd.DataFrame()\n",
    "# copy over global insex\n",
    "fluor_dataframe.insert(0, 'global_index', dataset.index_dataframe.global_index.to_list())\n",
    "\n",
    "for index in dataset.index_dataframe.global_index:\n",
    "    index = int(index)\n",
    "    print('{}          \\r'.format(index), end='')\n",
    "\n",
    "    for ch_index, fluor_channel in enumerate(dataset.global_metadata['fluorescence']['channel_names']):    \n",
    "        #compute fluorescence\n",
    "        image = dataset.read_image(index, contrast_type='fluor', channel=fluor_channel).astype(np.float32)\n",
    "\n",
    "        yy, xx = np.meshgrid(np.arange(image.shape[0]), np.arange(image.shape[0]))\n",
    "        fluor_mask = np.sqrt((yy - image.shape[0]/2) ** 2 + (xx - image.shape[1]/2) ** 2) < image.shape[0]/2\n",
    "        fluor_mask_pixels = image[fluor_mask]\n",
    "        fluor_background_pixels = image[np.logical_not(fluor_mask)]\n",
    "        \n",
    "        total_fluor = np.mean(fluor_mask_pixels)\n",
    "        fluor_dataframe.loc[index, fluor_channel + '_total_raw'] = total_fluor\n",
    "        total_background = np.mean(fluor_background_pixels)\n",
    "        fluor_dataframe.loc[index, fluor_channel + '_background'] = total_background\n"
   ]
  },
  {
   "cell_type": "code",
   "execution_count": 9,
   "metadata": {},
   "outputs": [],
   "source": [
    "fluor_dataframe.to_csv(data_root + 'BSCCM_surface_markers.csv', index=False)"
   ]
  }
 ],
 "metadata": {
  "kernelspec": {
   "display_name": "Python 3",
   "language": "python",
   "name": "python3"
  },
  "language_info": {
   "codemirror_mode": {
    "name": "ipython",
    "version": 3
   },
   "file_extension": ".py",
   "mimetype": "text/x-python",
   "name": "python",
   "nbconvert_exporter": "python",
   "pygments_lexer": "ipython3",
   "version": "3.8.5"
  }
 },
 "nbformat": 4,
 "nbformat_minor": 4
}
