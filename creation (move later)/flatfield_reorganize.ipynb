{
 "cells": [
  {
   "cell_type": "markdown",
   "metadata": {},
   "source": [
    "Consolidate and export background and shading"
   ]
  },
  {
   "cell_type": "code",
   "execution_count": 1,
   "metadata": {},
   "outputs": [],
   "source": [
    "%load_ext autoreload\n",
    "%autoreload 2\n",
    "\n",
    "import zarr\n",
    "import dask.array as da\n",
    "import pandas as pd\n",
    "import numpy as np\n",
    "from scipy import stats, ndimage\n",
    "\n",
    "from pathlib import Path\n",
    "from bsccm import BSCCM\n",
    "\n",
    "\n",
    "home = str(Path.home())\n",
    "data_root = home + '/leukosight_data/'\n",
    "\n",
    "shading_file = np.load(file=data_root + 'shading_corrections.npz')\n",
    "backgrounds = zarr.open(data_root + 'backgrounds.zarr' , mode='r')\n",
    "\n",
    "fluor_channels = {'F1_BV711': 'Fluor_690-',\n",
    "                'F2_BV650': 'Fluor_627-673',\n",
    "                'F3_BV605': 'Fluor_585-625',\n",
    "                'F4_BV570': 'Fluor_550-570',\n",
    "                'F5_BV510': 'Fluor_500-550',\n",
    "                'F6_BV421': 'Fluor_426-446'}\n",
    "\n",
    "slidescan_db = pd.read_csv('slidescan_db.csv')\n",
    "\n"
   ]
  },
  {
   "cell_type": "code",
   "execution_count": 8,
   "metadata": {},
   "outputs": [],
   "source": [
    "export_root = home + '/leukosight_data/BSCCM_extra/'\n",
    "export_file = zarr.open(export_root + 'BSCCM_backgrounds_and_shading.zarr')"
   ]
  },
  {
   "cell_type": "code",
   "execution_count": 9,
   "metadata": {},
   "outputs": [
    {
     "name": "stdout",
     "output_type": "stream",
     "text": [
      "Shadings               \n",
      "0 CD3 0\n",
      "0 CD19 0\n",
      "0 CD56 0\n",
      "0 CD123 0\n",
      "0 HLA-DR 0\n",
      "0 CD45 0\n",
      "0 CD14 0\n",
      "0 CD16 0\n",
      "0 unstained 0\n",
      "0 all 0\n",
      "1 unstained 0\n"
     ]
    }
   ],
   "source": [
    "for i, (fluor_prefix, led_prefix) in enumerate(zip(['Slidescan 1-0_1', 'Slidescan 1-0_1', 'Slidescan 2-0b_1'],  \n",
    "                                                 ['Slidescan 1-6_1', 'Slidescan 2-10a_1', 'Slidescan 2-0b_1'])):\n",
    "    #Create flatfields\n",
    "#     export_file.create_dataset(name='shading/{}/flatfield'.format(i), data=\n",
    "#             shading_file[ff_prefix + '_ff_slide'])\n",
    "#     export_file.create_dataset(name='shading/{}/background'.format(i), data=\n",
    "#                                shading_file[ff_prefix + '_backgrounds'])\n",
    "\n",
    "    #fluor backgrounds from closest unstained to group\n",
    "    for fluor_channel in fluor_channels.keys():\n",
    "        for percentile in [5, 10, 20, 40, 50]:\n",
    "            export_file.create_dataset(name='unstained_backgrounds/{}/{}_{}'.format(i, fluor_channels[fluor_channel], percentile),\n",
    "                data=backgrounds[fluor_prefix]['{}_{}_percentile'.format(fluor_channel, percentile)])\n",
    "            print('{}           \\r'.format(fluor_channel), end='')\n",
    "\n",
    "    \n",
    "    #per flatfield group led array backgrounds\n",
    "    for led_array_channel in [\n",
    "        'Brightfield', 'DF_50','DF_50_Bottom', 'DF_50_Right','DF_55','DF_60','DF_60_Bottom','DF_60_Right','DF_65',\n",
    "        'DF_70','DF_70_Bottom','DF_70_Right','DF_75','DF_80','DF_80_Bottom','DF_80_Right', 'DF_85','DF_90',\n",
    "        'DPC_Bottom','DPC_Left','DPC_Right','DPC_Top', 'LED119']:\n",
    "        for percentile in [5, 10, 20, 40, 50]:\n",
    "            export_file.create_dataset(name='led_array_backgrounds/{}/{}_{}'.format(\n",
    "                i, led_array_channel, percentile),\n",
    "                data=backgrounds[led_prefix]['{}_{}_percentile'.format(led_array_channel, percentile)])\n",
    "        print('{}           \\r'.format(led_array_channel), end='')\n",
    "\n",
    "\n",
    "print('Shadings        ')\n",
    "#per-slide fluorescence background \n",
    "for name in slidescan_db.Magellan:\n",
    "    if type(name) is not str:\n",
    "        continue\n",
    "    if 'scan' not in name or name == 'Slidescan 1-10_1' or 'Slidescan 2-3 continued_1' == name :\n",
    "        continue\n",
    "    entry = slidescan_db[slidescan_db.Magellan == name]\n",
    "    batch = int(entry.Batch) - 1\n",
    "    antibodies = entry.Marker.astype(str).tolist()[0]\n",
    "    replicate = 1 if ((int(entry.Index) == 24) or (int(entry.Index) == 26)) else 0\n",
    "    print(batch, antibodies, replicate)\n",
    "\n",
    "    \n",
    "    for fluor_channel in fluor_channels.keys():\n",
    "        for percentile in [5, 10, 20, 40, 50]:\n",
    "            data = backgrounds[name]['{}_{}_percentile'.format(fluor_channel, percentile)]\n",
    "            if name == 'Slidescan 2-0a':\n",
    "                data = data[:, 196: 196 + 2056]\n",
    "            export_file.create_dataset(name='per_slide_backgrounds/{}/{}/{}/{}_{}'.format(\n",
    "                antibodies, batch, replicate, \n",
    "                fluor_channels[fluor_channel], percentile),\n",
    "                data=data)\n",
    "#         print('{}  {}          \\r'.format(name, fluor_channels[fluor_channel]), end='')\n",
    "            \n",
    "        \n"
   ]
  }
 ],
 "metadata": {
  "kernelspec": {
   "display_name": "Python 3",
   "language": "python",
   "name": "python3"
  },
  "language_info": {
   "codemirror_mode": {
    "name": "ipython",
    "version": 3
   },
   "file_extension": ".py",
   "mimetype": "text/x-python",
   "name": "python",
   "nbconvert_exporter": "python",
   "pygments_lexer": "ipython3",
   "version": "3.8.5"
  }
 },
 "nbformat": 4,
 "nbformat_minor": 4
}
