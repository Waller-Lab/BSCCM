{
 "cells": [
  {
   "cell_type": "markdown",
   "metadata": {},
   "source": [
    "# Go through complete datasets, extract XYZ coords, and save"
   ]
  },
  {
   "cell_type": "code",
   "execution_count": 2,
   "metadata": {},
   "outputs": [],
   "source": [
    "from pygellan.magellan_data import MagellanDataset\n",
    "import pickle\n",
    "import os\n",
    "\n",
    "main_dir = '/home/henry/leukosight_data/raw_data/'\n",
    "export_dir = '/home/henry/leukosight_data/extracted_xyz/'\n",
    "\n",
    "def save_obj(obj, name):\n",
    "    with open(export_dir + name + '.pkl', 'wb') as file:\n",
    "        pickle.dump(obj, file, pickle.HIGHEST_PROTOCOL)\n",
    "\n",
    "def load_obj(path ):\n",
    "    with open(path + '.pkl', 'rb') as f:\n",
    "        return pickle.load(f)"
   ]
  },
  {
   "cell_type": "code",
   "execution_count": 3,
   "metadata": {},
   "outputs": [
    {
     "name": "stdout",
     "output_type": "stream",
     "text": [
      "Slide 2-10c Single LEDs and fluorescence region 1_1\n",
      "Dataset opened72 of 272\n",
      "Slidescan 1-0_1\n",
      "Dataset opened90 of 290\n",
      "Slide 2-0d Single LEDs and fluorescence region 1_1\n",
      "Dataset opened72 of 272\n"
     ]
    }
   ],
   "source": [
    "magellan_path = '/home/henry/leukosight_data/raw_data/Slide 2-0d Single LEDs and fluorescence region 1_1'\n",
    "\n",
    "for dirname in os.listdir(main_dir):\n",
    "    print(dirname)\n",
    "    magellan_path = main_dir + dirname\n",
    "    magellan = MagellanDataset(magellan_path)\n",
    "    coordinates = {}\n",
    "    for pos_index in magellan.position_indices:\n",
    "        md = magellan.read_metadata(pos_index=pos_index)\n",
    "        coordinates[pos_index] = md['ZPositionUm'], md['XPositionUm'], md['YPositionUm']\n",
    "    save_obj(coordinates, dirname)"
   ]
  },
  {
   "cell_type": "code",
   "execution_count": 8,
   "metadata": {},
   "outputs": [],
   "source": [
    "loaded = load_obj(export_dir + 'test')    "
   ]
  },
  {
   "cell_type": "markdown",
   "metadata": {},
   "source": [
    "# Doing"
   ]
  },
  {
   "cell_type": "code",
   "execution_count": null,
   "metadata": {},
   "outputs": [],
   "source": [
    "'/2018-8-4 Slide 1-4/Slidescan 1-4_1_magellan_split'\n",
    "'/2018-8-5 Slide 1-3/Slidescan 1-3_1_magellan_split'\n",
    "'/2018-8-7 Slide 1-2/Slidescan 1-2_1_magellan_split'\n",
    "\n",
    "'/2018-8-8 Slide 1-1/Slidescan 1-1_1_magellan_split'\n",
    "'/2018-8-10 Slide 1-5/Slidescan 1-5_1_magellan_split'\n",
    "'/2018-8-13 Slide 1-6/Slidescan 1-6_1_magellan_split'"
   ]
  },
  {
   "cell_type": "markdown",
   "metadata": {},
   "source": [
    "# TODO"
   ]
  },
  {
   "cell_type": "code",
   "execution_count": null,
   "metadata": {},
   "outputs": [],
   "source": [
    "\n",
    "'/2018-8-15 Slide 1-7/Slidescan 1-7_1_magellan_split'\n",
    "'/2018-8-16 Slide 1-8/Slidescan 1-8_1_magellan_split'\n",
    "'/2018-8-21 Slide 1-10/Slidescan 1-10_1_magellan_split'\n",
    "'/2018-8-21 Slide 1-10/Slidescan 1-10 finetuned af_1_magellan_split'\n",
    "'/2018-8-27 Slide 2-0a/Slidescan 2-0a_magellan_split'\n",
    "'/2018-8-28 Slidescan 2-10a/Slidescan 2-10a_1_magellan_split'\n",
    "'/2018-8-30 Slidescan 2-8/Slidescan 2-8_1_magellan_split'\n",
    "'/2018-9-10 Slide 2-7b/Slidescan 2-7b_1_magellan_split'\n",
    "'/2018-9-12 Slide 2-6/Slidescan 2-6_1_magellan_split'\n",
    "'/2018-9-13 Slide 2-5/Slidescan 2-5_1_magellan_split'\n",
    "'/2018-9-14 Slide 2-3/Slidescan 2-3_1_magellan_split'\n",
    "'/2018-9-14 Slide 2-3/Slidescan 2-3 continued_1_magellan_split'\n",
    "'/2018-9-15 Slide 2-4/Slidescan 2-4_1_magellan_split'\n",
    "'/2018-9-17 Slide 2-2/Slidesscan 2-2_magellan_split'\n",
    "'/2018-9-18 Slide 2-10b/Slidescan 2-10b_1_magellan_split'\n",
    "'/2018-9-20 Slide 2-0b/Slidescan 2-0b_1_magellan_split'\n",
    "'/2018-9-21 Slide 2-1/Slidescan 2-1_1_magellan_split'\n",
    "'/2018-9-23 Slide 2-10c Single LEDeees/Slide 2-10c Single LEDs and fluorescence region 2_1_magellan_split'\n",
    "'/2018-9-24 Slide 1-0d Single LEDs/Slide 2-0d Single LEDs and fluorescence region 2_1_magellan_split'"
   ]
  },
  {
   "cell_type": "markdown",
   "metadata": {},
   "source": [
    "# Done"
   ]
  },
  {
   "cell_type": "code",
   "execution_count": null,
   "metadata": {},
   "outputs": [],
   "source": [
    "'/2018-9-24 Slide 1-0d Single LEDs/Slide 2-0d Single LEDs and fluorescence region 1_1_magellan_split'\n",
    "'/2018-9-23 Slide 2-10c Single LEDs/Slide 2-10c Single LEDs and fluorescence region 1_1_magellan_split'\n",
    "'/2018-8-19 Slide 1-0/Slidescan 1-0_1_magellan_split'"
   ]
  }
 ],
 "metadata": {
  "kernelspec": {
   "display_name": "Python 3",
   "language": "python",
   "name": "python3"
  },
  "language_info": {
   "codemirror_mode": {
    "name": "ipython",
    "version": 3
   },
   "file_extension": ".py",
   "mimetype": "text/x-python",
   "name": "python",
   "nbconvert_exporter": "python",
   "pygments_lexer": "ipython3",
   "version": "3.8.5"
  }
 },
 "nbformat": 4,
 "nbformat_minor": 4
}
