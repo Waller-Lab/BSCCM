get_ipython().run_line_magic("matplotlib", " widget")
get_ipython().run_line_magic("load_ext", " autoreload")
get_ipython().run_line_magic("autoreload", " 2")

from bsccm.fluorescence_processing.gating_util import ScatterSelectorGating
from bsccm import BSCCM
from pathlib import Path

bsccm = BSCCM(str(Path.home()) + '/data/BSCCM/')


# channel_names = [
#     'CD45_single_antibody_model_unmixed',
#        'autofluor_single_antibody_model_unmixed',
#        'CD123_single_antibody_model_unmixed',
#        'CD19_single_antibody_model_unmixed',
#        'CD56_single_antibody_model_unmixed',
#        'CD14_single_antibody_model_unmixed',
#        'CD16_single_antibody_model_unmixed',
#        'HLA-DR_single_antibody_model_unmixed',
#        'CD3_single_antibody_model_unmixed']
channel_names = [
       'CD123/HLA-DR/CD14_full_model_unmixed',
       'CD3/CD19/CD56_full_model_unmixed', 'CD45_full_model_unmixed',
       'CD16_full_model_unmixed']

# For exporting figures
export_dir = '/home/henry/leukosight_data/figures/demixing/'
# For making image montages
read_image_fn = lambda index: bsccm.read_image(index, contrast_type='led_array', channel='DPC_Top')
# read_image_fn = lambda index: bsccm.read_image(index, contrast_type='dpc')


ScatterSelectorGating(bsccm=bsccm, channel_names=channel_names, num_cols=1, 
                  export_dir=export_dir, read_image_fn=read_image_fn)


import numpy as np
marker = 'CD3'

cd3_ones = bsccm.surface_marker_dataframe[np.logical_and(bsccm.index_dataframe.antibodies == marker,
                                     bsccm.index_dataframe.batch == 0)]

t = cd3_ones['{}_single_antibody_model_unmixed'.format(marker)].to_numpy()

t = np.log(t)

range_min = np.nanpercentile(t, 0.1)
range_max = np.nanpercentile(t, 99.9)
pad = 0.15 * (range_max - range_min)
display_range = (range_min - pad / 2, range_max + pad)            
            
get_ipython().run_line_magic("matplotlib", " widget")
import matplotlib.pyplot as plt

fig, ax = plt.subplots(figsize=(7, 4))
_ = plt.hist(t, 80, density=True)
ax.set_xticks(np.arange(-10, 10))

plt.xlim(display_range)
plt.xlabel('log CD3')
plt.ylabel('density')
plt.gca().set_yticklabels([])
print(display_range)

ax.grid(True)

# plt


bsccm.global_metadata['led_array']['channel_names']



